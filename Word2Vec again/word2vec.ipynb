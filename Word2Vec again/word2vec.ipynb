{
 "cells": [
  {
   "cell_type": "markdown",
   "metadata": {
    "id": "nTSf4ro-qU0d"
   },
   "source": [
    "# **word2vec на PyTorch**\n",
    "\n",
    "Идея, лежащая в основе [word2vec](https://arxiv.org/pdf/1310.4546), достаточно общая. Здесь мы попробуем реализовать его самостоятельно.\n",
    "\n",
    "Реализация от `gensim` (или аналоги), разумеется, обучается быстрее и работает точнее. Она использует множество доработок и ускорений, а также достаточно эффективный код. А мы хотим лишь добиться промежуточных результатов за разумное время."
   ]
  },
  {
   "cell_type": "markdown",
   "metadata": {
    "id": "dtmIh3tCYywK"
   },
   "source": [
    "__Requirements:__ if you're running locally, in the selected environment run the following command:\n",
    "\n",
    "```pip install --upgrade nltk bokeh umap-learn```\n"
   ]
  },
  {
   "cell_type": "code",
   "execution_count": 1,
   "metadata": {
    "colab": {
     "base_uri": "https://localhost:8080/"
    },
    "id": "Oipe2DU8qfm7",
    "outputId": "7005063d-3c8d-4990-88ab-375247cc873c"
   },
   "outputs": [
    {
     "name": "stdout",
     "output_type": "stream",
     "text": [
      "\u001b[2K   \u001b[90m━━━━━━━━━━━━━━━━━━━━━━━━━━━━━━━━━━━━━━━━\u001b[0m \u001b[32m1.5/1.5 MB\u001b[0m \u001b[31m20.7 MB/s\u001b[0m eta \u001b[36m0:00:00\u001b[0m\n",
      "\u001b[2K   \u001b[90m━━━━━━━━━━━━━━━━━━━━━━━━━━━━━━━━━━━━━━━━\u001b[0m \u001b[32m6.9/6.9 MB\u001b[0m \u001b[31m35.1 MB/s\u001b[0m eta \u001b[36m0:00:00\u001b[0m\n",
      "\u001b[2K   \u001b[90m━━━━━━━━━━━━━━━━━━━━━━━━━━━━━━━━━━━━━━━━\u001b[0m \u001b[32m88.8/88.8 kB\u001b[0m \u001b[31m2.9 MB/s\u001b[0m eta \u001b[36m0:00:00\u001b[0m\n",
      "\u001b[2K   \u001b[90m━━━━━━━━━━━━━━━━━━━━━━━━━━━━━━━━━━━━━━━━\u001b[0m \u001b[32m56.9/56.9 kB\u001b[0m \u001b[31m2.3 MB/s\u001b[0m eta \u001b[36m0:00:00\u001b[0m\n",
      "\u001b[?25h\u001b[31mERROR: pip's dependency resolver does not currently take into account all the packages that are installed. This behaviour is the source of the following dependency conflicts.\n",
      "panel 1.4.5 requires bokeh<3.5.0,>=3.4.0, but you have bokeh 3.6.0 which is incompatible.\u001b[0m\u001b[31m\n",
      "\u001b[0m"
     ]
    }
   ],
   "source": [
    "!pip install --upgrade nltk bokeh umap-learn -q"
   ]
  },
  {
   "cell_type": "code",
   "execution_count": 2,
   "metadata": {
    "id": "pqPU4Lu2qU0h"
   },
   "outputs": [],
   "source": [
    "import itertools\n",
    "import random\n",
    "import string\n",
    "from collections import Counter\n",
    "from itertools import chain\n",
    "\n",
    "import matplotlib.pyplot as plt\n",
    "import numpy as np\n",
    "import torch\n",
    "import torch.autograd as autograd\n",
    "import torch.nn as nn\n",
    "import torch.nn.functional as F\n",
    "import torch.optim as optim\n",
    "import umap\n",
    "from IPython.display import clear_output\n",
    "from matplotlib import pyplot as plt\n",
    "from nltk.tokenize import WordPunctTokenizer\n",
    "from torch.optim.lr_scheduler import ReduceLROnPlateau, StepLR\n",
    "from tqdm.auto import tqdm as tqdma\n",
    "from tqdm import tqdm"
   ]
  },
  {
   "cell_type": "code",
   "execution_count": 6,
   "metadata": {
    "id": "8Fbx57z3qU0i"
   },
   "outputs": [],
   "source": [
    "# download the data:\n",
    "# !wget https://www.dropbox.com/s/obaitrix9jyu84r/quora.txt?dl=1 -O ./quora.txt -nc\n",
    "# alternative download link: https://yadi.sk/i/BPQrUu1NaTduEw\n",
    "# !wget https://yadi.sk/i/BPQrUu1NaTduEw -O ./quora.txt -nc"
   ]
  },
  {
   "cell_type": "code",
   "execution_count": 3,
   "metadata": {
    "colab": {
     "base_uri": "https://localhost:8080/",
     "height": 35
    },
    "id": "8EYy5dQpqU0i",
    "outputId": "77815b1f-73d1-4363-fae3-f047babaae40",
    "scrolled": false
   },
   "outputs": [
    {
     "data": {
      "application/vnd.google.colaboratory.intrinsic+json": {
       "type": "string"
      },
      "text/plain": [
       "\"What TV shows or books help you read people's body language?\\n\""
      ]
     },
     "execution_count": 3,
     "metadata": {},
     "output_type": "execute_result"
    }
   ],
   "source": [
    "data = list(open(\"./quora.txt\", encoding=\"utf-8\"))\n",
    "data[50]"
   ]
  },
  {
   "cell_type": "markdown",
   "metadata": {
    "id": "feBEGI2eqU0j"
   },
   "source": [
    "Токенизация – первый шаг.\n",
    "Тексты, с которыми мы работаем, включают в себя пунктуацию, смайлики и прочие нестандартные токены, так что простой `str.split` не подойдет.\n",
    "\n",
    "Обратимся к `nltk` – популярная библиотека, нашедшая широкое применение в области NLP."
   ]
  },
  {
   "cell_type": "code",
   "execution_count": 4,
   "metadata": {
    "colab": {
     "base_uri": "https://localhost:8080/"
    },
    "id": "7mWTvm50qU0j",
    "outputId": "6389e02f-168a-413d-b61e-86bccd30564b"
   },
   "outputs": [
    {
     "name": "stdout",
     "output_type": "stream",
     "text": [
      "['What', 'TV', 'shows', 'or', 'books', 'help', 'you', 'read', 'people', \"'\", 's', 'body', 'language', '?']\n"
     ]
    }
   ],
   "source": [
    "tokenizer = WordPunctTokenizer()\n",
    "\n",
    "print(tokenizer.tokenize(data[50]))"
   ]
  },
  {
   "cell_type": "code",
   "execution_count": 5,
   "metadata": {
    "colab": {
     "base_uri": "https://localhost:8080/"
    },
    "id": "HzC05EHWqU0j",
    "outputId": "6ab7391f-71bb-4cf2-f677-1d105fbcc53e"
   },
   "outputs": [
    {
     "name": "stderr",
     "output_type": "stream",
     "text": [
      "100%|██████████| 537272/537272 [00:05<00:00, 90161.98it/s] \n"
     ]
    }
   ],
   "source": [
    "data_tok = [\n",
    "    tokenizer.tokenize(\n",
    "        line.translate(str.maketrans(\"\", \"\", string.punctuation)).lower()\n",
    "    )\n",
    "    for line in tqdm(data)\n",
    "]\n",
    "data_tok = [x for x in data_tok if len(x) >= 3]"
   ]
  },
  {
   "cell_type": "markdown",
   "metadata": {
    "id": "6azRAgHIqU0k"
   },
   "source": [
    "Несколько проверок:"
   ]
  },
  {
   "cell_type": "code",
   "execution_count": 6,
   "metadata": {
    "id": "Cp8UpxdWqU0k"
   },
   "outputs": [],
   "source": [
    "assert all(\n",
    "    isinstance(row, (list, tuple)) for row in data_tok\n",
    "), \"please convert each line into a list of tokens (strings)\"\n",
    "assert all(\n",
    "    all(isinstance(tok, str) for tok in row) for row in data_tok\n",
    "), \"please convert each line into a list of tokens (strings)\"\n",
    "is_latin = lambda tok: all(\"a\" <= x.lower() <= \"z\" for x in tok)\n",
    "assert all(\n",
    "    map(lambda l: not is_latin(l) or l.islower(), map(\" \".join, data_tok))\n",
    "), \"please make sure to lowercase the data\""
   ]
  },
  {
   "cell_type": "markdown",
   "metadata": {
    "id": "37e7-MIhqU0x"
   },
   "source": [
    "Ниже заданы константы ширины окна контекста и проведена предобработка для построения skip-gram модели."
   ]
  },
  {
   "cell_type": "code",
   "execution_count": 7,
   "metadata": {
    "id": "fugc1IomqU0x"
   },
   "outputs": [],
   "source": [
    "min_count = 5\n",
    "window_radius = 5"
   ]
  },
  {
   "cell_type": "code",
   "execution_count": 8,
   "metadata": {
    "id": "fVRhldSqYywL"
   },
   "outputs": [],
   "source": [
    "vocabulary_with_counter = Counter(chain.from_iterable(data_tok))\n",
    "\n",
    "word_count_dict = dict()\n",
    "for word, counter in vocabulary_with_counter.items():\n",
    "    if counter >= min_count:\n",
    "        word_count_dict[word] = counter\n",
    "\n",
    "vocabulary = set(word_count_dict.keys())\n",
    "del vocabulary_with_counter"
   ]
  },
  {
   "cell_type": "code",
   "execution_count": 9,
   "metadata": {
    "id": "qHgWgL1pYywM"
   },
   "outputs": [],
   "source": [
    "word_to_index = {word: index for index, word in enumerate(vocabulary)}\n",
    "index_to_word = {index: word for word, index in word_to_index.items()}"
   ]
  },
  {
   "cell_type": "markdown",
   "metadata": {
    "id": "4Y8rlBfqqU0x"
   },
   "source": [
    "Пары `(слово, контекст)` на основе доступного датасета сгенерированы ниже."
   ]
  },
  {
   "cell_type": "code",
   "execution_count": 10,
   "metadata": {
    "colab": {
     "base_uri": "https://localhost:8080/",
     "height": 66,
     "referenced_widgets": [
      "68b39844bef74ce2a027c626017ce0ee",
      "4d824d94d54f4fcf9dc0b057ed30b720",
      "b6dc3239730f4fc18c324e77bb06fa27",
      "2514faa7dde34ca0b647e8e07ea39186",
      "f12018927b5140be9da0e94c502ad58e",
      "097b3ff115cd41d0a5d9403b12688bd7",
      "ecb17a77bdd54467a9af1bcd018a8b6b",
      "065d9c13c86a41b4b0442c4c4c80a87b",
      "5dcc187b47294280b10ecf36fa12de47",
      "146e2fc85501414797d3f3511e31708d",
      "395e59027407416aa28eeaa65158394b"
     ]
    },
    "id": "h2-aqyyaqU0x",
    "outputId": "1154cedf-354f-4f5c-da6c-298bf299d242"
   },
   "outputs": [
    {
     "data": {
      "application/vnd.jupyter.widget-view+json": {
       "model_id": "68b39844bef74ce2a027c626017ce0ee",
       "version_major": 2,
       "version_minor": 0
      },
      "text/plain": [
       "  0%|          | 0/537174 [00:00<?, ?it/s]"
      ]
     },
     "metadata": {},
     "output_type": "display_data"
    },
    {
     "name": "stdout",
     "output_type": "stream",
     "text": [
      "Generated 40220313 pairs of target and context words.\n"
     ]
    }
   ],
   "source": [
    "context_pairs = []\n",
    "\n",
    "for text in tqdma(data_tok):\n",
    "    for i, central_word in enumerate(text):\n",
    "        context_indices = range(\n",
    "            max(0, i - window_radius), min(i + window_radius, len(text))\n",
    "        )\n",
    "        for j in context_indices:\n",
    "            if j == i:\n",
    "                continue\n",
    "            context_word = text[j]\n",
    "            if central_word in vocabulary and context_word in vocabulary:\n",
    "                context_pairs.append(\n",
    "                    (word_to_index[central_word], word_to_index[context_word])\n",
    "                )\n",
    "\n",
    "print(f\"Generated {len(context_pairs)} pairs of target and context words.\")"
   ]
  },
  {
   "cell_type": "markdown",
   "metadata": {
    "id": "MvgtuiNHYywM"
   },
   "source": [
    "## subsampling\n",
    "\n",
    "Для того, чтобы сгладить разницу в частоте встречаемсости слов, необходимо реализовать механизм subsampling'а.<br>\n",
    "Для этого необходимо реализовать функцию ниже.\n",
    "\n",
    "Вероятность **исключить** слово из обучения (на фиксированном шаге) вычисляется как\n",
    "$$\n",
    "P_\\text{drop}(w_i)=1 - \\sqrt{\\frac{t}{f(w_i)}},\n",
    "$$\n",
    "где $f(w_i)$ – нормированная частота встречаемости слова, а $t$ – заданный порог (threshold)."
   ]
  },
  {
   "cell_type": "code",
   "execution_count": 11,
   "metadata": {
    "id": "mjwCwEy_YywM"
   },
   "outputs": [],
   "source": [
    "def subsample_frequent_words(word_count_dict, threshold=1e-5):\n",
    "    \"\"\"\n",
    "    Calculates the subsampling probabilities for\n",
    "    words based on their frequencies.\n",
    "\n",
    "    This function is used to determine the\n",
    "    probability of keeping a word in the dataset\n",
    "    when subsampling frequent words. The method\n",
    "    used is inspired by the subsampling approach\n",
    "    in Word2Vec, where each word's frequency\n",
    "    affects its probability of being kept.\n",
    "\n",
    "    Parameters:\n",
    "    - word_count_dict (dict): A dictionary where\n",
    "      keys are words and values are the counts of those words.\n",
    "    - threshold (float, optional): A threshold\n",
    "      parameter used to adjust the frequency of word subsampling.\n",
    "      Defaults to 1e-5.\n",
    "\n",
    "    Returns:\n",
    "    - dict: A dictionary where keys are words\n",
    "      and values are the probabilities of keeping each word.\n",
    "\n",
    "    Example:\n",
    "    >>> word_counts = {'the': 5000, 'is': 1000, 'apple': 50}\n",
    "    >>> subsample_frequent_words(word_counts)\n",
    "    {'the': 0.028, 'is': 0.223, 'apple': 1.0}\n",
    "    \"\"\"\n",
    "    total_words = sum(word_count_dict.values())\n",
    "    probs = {}\n",
    "\n",
    "    for word, count in word_count_dict.items():\n",
    "        freq = count / total_words\n",
    "        # Calculate the probability of keeping the word\n",
    "        prob = (threshold / freq) ** 0.5 + (threshold / freq)\n",
    "        # Ensure probability is not negative\n",
    "        probs[word] = prob\n",
    "\n",
    "    return probs"
   ]
  },
  {
   "cell_type": "code",
   "execution_count": 12,
   "metadata": {
    "colab": {
     "base_uri": "https://localhost:8080/"
    },
    "id": "IBlZZ9YW5Qpk",
    "outputId": "5d7e40b8-4ccd-4ac5-f857-b4963c272e13"
   },
   "outputs": [
    {
     "data": {
      "text/plain": [
       "{'the': 0.0034906054261852177,\n",
       " 'is': 0.007838674593052023,\n",
       " 'apple': 0.03599505426185218}"
      ]
     },
     "execution_count": 12,
     "metadata": {},
     "output_type": "execute_result"
    }
   ],
   "source": [
    "test_wcd = {'the': 5000, 'is': 1000, 'apple': 50}\n",
    "subsample_frequent_words(test_wcd, threshold=1e-5)"
   ]
  },
  {
   "cell_type": "markdown",
   "metadata": {
    "id": "PQi6v8QEYywM"
   },
   "source": [
    "## negative sampling\n",
    "\n",
    "Для более эффективного обучения необходимо не только предсказывать высокие вероятности для слов из контекста, но и предсказывать низкие для слов, не встреченных в контексте.<br>Для этого необходимо вычислить вероятност использовать слово в качестве negative sample, реализовав функцию ниже.\n",
    "\n",
    "В оригинальной статье предлагается оценивать вероятность слов выступать в качестве negative sample согласно распределению $P_n(w)$\n",
    "$$\n",
    "P_n(w) = \\frac{U(w)^{3/4}}{Z},\n",
    "$$\n",
    "\n",
    "где $U(w)$ распределение слов по частоте (или, как его еще называют, по униграммам), а $Z$ – нормировочная константа, чтобы общая мера была равна $1$."
   ]
  },
  {
   "cell_type": "code",
   "execution_count": 13,
   "metadata": {
    "id": "338VPwtOYywM"
   },
   "outputs": [],
   "source": [
    "def get_negative_sampling_prob(word_count_dict):\n",
    "    \"\"\"\n",
    "    Calculates the negative sampling probabilities\n",
    "    for words based on their frequencies.\n",
    "\n",
    "    This function adjusts the frequency of each word\n",
    "    raised to the power of 0.75, which is\n",
    "    commonly used in algorithms like Word2Vec to\n",
    "    moderate the influence of very frequent words.\n",
    "    It then normalizes these adjusted frequencies\n",
    "    to ensure they sum to 1, forming a probability\n",
    "    distribution used for negative sampling.\n",
    "\n",
    "    Parameters:\n",
    "    - word_count_dict (dict): A dictionary where\n",
    "      keys are words and values are the counts of those words.\n",
    "\n",
    "    Returns:\n",
    "    - dict: A dictionary where keys are words and\n",
    "            values are the probabilities of selecting each word\n",
    "            for negative sampling.\n",
    "\n",
    "    Example:\n",
    "    >>> word_counts = {'the': 5000, 'is': 1000, 'apple': 50}\n",
    "    >>> get_negative_sampling_prob(word_counts)\n",
    "    {'the': 0.298, 'is': 0.160, 'apple': 0.042}\n",
    "    \"\"\"\n",
    "\n",
    "    # Step 1: Adjust frequencies by raising to the power of 0.75\n",
    "    adjusted_frequencies = {\n",
    "        word: count ** 0.75 for word, count in word_count_dict.items()\n",
    "        }\n",
    "\n",
    "    # Step 2: Calculate the total of adjusted frequencies\n",
    "    total_adjusted = sum(adjusted_frequencies.values())\n",
    "\n",
    "    # Step 3: Normalize to get probabilities\n",
    "    probabilities = {\n",
    "        word: freq / total_adjusted for word, freq in adjusted_frequencies.items()\n",
    "        }\n",
    "\n",
    "    return probabilities"
   ]
  },
  {
   "cell_type": "code",
   "execution_count": 14,
   "metadata": {
    "colab": {
     "base_uri": "https://localhost:8080/"
    },
    "id": "QrN7Sk9E8e80",
    "outputId": "1738f11f-56ef-44e6-c62f-0eca68739aef"
   },
   "outputs": [
    {
     "data": {
      "text/plain": [
       "{'the': 0.751488398196177,\n",
       " 'is': 0.2247474520689081,\n",
       " 'apple': 0.023764149734914898}"
      ]
     },
     "execution_count": 14,
     "metadata": {},
     "output_type": "execute_result"
    }
   ],
   "source": [
    "get_negative_sampling_prob(test_wcd)"
   ]
  },
  {
   "cell_type": "markdown",
   "metadata": {
    "id": "axLJclmzYywM"
   },
   "source": [
    "Для удобства, преобразуем полученные словари в массивы (т.к. все слова все равно уже пронумерованы)."
   ]
  },
  {
   "cell_type": "code",
   "execution_count": 15,
   "metadata": {
    "id": "LrsMiBPnYywM"
   },
   "outputs": [],
   "source": [
    "keep_prob_dict = subsample_frequent_words(word_count_dict)\n",
    "assert keep_prob_dict.keys() == word_count_dict.keys()"
   ]
  },
  {
   "cell_type": "code",
   "execution_count": 16,
   "metadata": {
    "id": "ILfZ_vQvYywM"
   },
   "outputs": [],
   "source": [
    "negative_sampling_prob_dict = get_negative_sampling_prob(word_count_dict)\n",
    "assert negative_sampling_prob_dict.keys() == negative_sampling_prob_dict.keys()\n",
    "assert np.allclose(sum(negative_sampling_prob_dict.values()), 1)"
   ]
  },
  {
   "cell_type": "code",
   "execution_count": 17,
   "metadata": {
    "id": "ME4auNayYywM"
   },
   "outputs": [],
   "source": [
    "keep_prob_array = np.array(\n",
    "    [keep_prob_dict[index_to_word[idx]] for idx in range(len(word_to_index))]\n",
    ")\n",
    "negative_sampling_prob_array = np.array(\n",
    "    [\n",
    "        negative_sampling_prob_dict[index_to_word[idx]]\n",
    "        for idx in range(len(word_to_index))\n",
    "    ]\n",
    ")"
   ]
  },
  {
   "cell_type": "markdown",
   "metadata": {
    "id": "XhR4TFF4YywM"
   },
   "source": [
    "Если все прошло успешно, функция ниже поможет с генерацией батчей."
   ]
  },
  {
   "cell_type": "code",
   "execution_count": null,
   "metadata": {
    "id": "OvWnSIGFYywM"
   },
   "outputs": [],
   "source": [
    "def generate_batch_with_neg_samples(\n",
    "    context_pairs,\n",
    "    batch_size,\n",
    "    keep_prob_array,\n",
    "    word_to_index,\n",
    "    num_negatives,\n",
    "    negative_sampling_prob_array,\n",
    "):\n",
    "    centers_negs = context_pairs[np.random.randint(len(context_pairs), size=batch_size), :]\n",
    "    keep_mask = np.random.random() < keep_prob_array[centers_negs[:, 0]]\n",
    "    valid = centers_negs[keep_mask]\n",
    "\n",
    "    while len(valid) < batch_size:\n",
    "        add_centers_negs = context_pairs[np.random.randint(len(context_pairs), size=batch_size), :]\n",
    "        keep_mask = np.random.random() < keep_prob_array[add_centers_negs[:, 0]]\n",
    "        valid = np.concatenate((valid, add_centers_negs[keep_mask]))\n",
    "\n",
    "    batch = valid[:batch_size]\n",
    "\n",
    "    neg_samples = np.random.choice(\n",
    "        range(len(negative_sampling_prob_array)),\n",
    "        size=(batch_size, num_negatives),\n",
    "        p=negative_sampling_prob_array\n",
    "    )\n",
    "    return batch, neg_samples"
   ]
  },
  {
   "cell_type": "code",
   "execution_count": null,
   "metadata": {
    "id": "GOwMN_deYywM"
   },
   "outputs": [],
   "source": [
    "context_pairs = np.array(context_pairs)\n",
    "batch_size = 1024\n",
    "num_negatives = 15\n",
    "batch, neg_samples = generate_batch_with_neg_samples(\n",
    "    context_pairs,\n",
    "    batch_size,\n",
    "    keep_prob_array,\n",
    "    word_to_index,\n",
    "    num_negatives,\n",
    "    negative_sampling_prob_array,\n",
    ")"
   ]
  },
  {
   "cell_type": "markdown",
   "metadata": {
    "id": "oA_NBFEiYywM"
   },
   "source": [
    "Наконец, время реализовать модель. Использование линейных слоев (`nn.Linear`) далеко не всегда оправданно, поэтому мы обойдемся эмбеддингами.\n",
    "\n",
    "В случае negative sampling решается задача максимизации следующего функционала:\n",
    "\n",
    "$$\n",
    "\\mathcal{L} = \\log \\sigma({\\mathbf{v}'_{w_O}}^\\top \\mathbf{v}_{w_I}) + \\sum_{i=1}^{k} \\mathbb{E}_{w_i \\sim P_n(w)} \\left[ \\log \\sigma({-\\mathbf{v}'_{w_i}}^\\top \\mathbf{v}_{w_I}) \\right],\n",
    "$$\n",
    "\n",
    "где:\n",
    "- $\\mathbf{v}_{w_I}$ – вектор центрального слова $w_I$,\n",
    "- $\\mathbf{v}'_{w_O}$ – вектор слова из контекста $w_O$,\n",
    "- $k$ – число negative samplesЮ,\n",
    "- $P_n(w)$ – распределение negative samples, заданное выше,\n",
    "- $\\sigma$ – сигмоида."
   ]
  },
  {
   "cell_type": "code",
   "execution_count": null,
   "metadata": {
    "id": "_G9pIjwuYywM"
   },
   "outputs": [],
   "source": [
    "class SkipGramModelWithNegSampling(nn.Module):\n",
    "    def __init__(self, vocab_size, embedding_dim):\n",
    "        super(SkipGramModelWithNegSampling, self).__init__()\n",
    "        self.center_embeddings = nn.Embedding(vocab_size, embedding_dim)\n",
    "        self.context_embeddings = nn.Embedding(vocab_size, embedding_dim)\n",
    "\n",
    "    def forward(self, center_words, pos_context_words, neg_context_words):\n",
    "        # Получаем эмбеддинги для центральных и положительных контекстных слов\n",
    "        center_embeds = self.center_embeddings(center_words)\n",
    "        pos_context_embeds = self.context_embeddings(pos_context_words)\n",
    "        # Вычисляем положительные оценки (скалярное произведение)\n",
    "        pos_scores = torch.mul(center_embeds, pos_context_embeds)\n",
    "        pos_scores = torch.sum(pos_scores, dim=1)\n",
    "        # Получаем эмбеддинги для отрицательных контекстных слов\n",
    "        neg_context_embeds = self.context_embeddings(neg_context_words)\n",
    "        # Вычисляем отрицательные оценки (скалярное произведение)\n",
    "        neg_scores = torch.bmm(\n",
    "            neg_context_embeds, center_embeds.unsqueeze(2)\n",
    "            ).squeeze()\n",
    "\n",
    "        return pos_scores, neg_scores"
   ]
  },
  {
   "cell_type": "code",
   "execution_count": 95,
   "metadata": {
    "id": "t6tafnlPYywN"
   },
   "outputs": [],
   "source": [
    "device = torch.device(\"cuda\" if torch.cuda.is_available() else \"cpu\")"
   ]
  },
  {
   "cell_type": "code",
   "execution_count": 96,
   "metadata": {
    "id": "hGVuF5pAYywN"
   },
   "outputs": [],
   "source": [
    "vocab_size = len(word_to_index)\n",
    "embedding_dim = 32\n",
    "num_negatives = 15\n",
    "\n",
    "model = SkipGramModelWithNegSampling(vocab_size, embedding_dim).to(device)\n",
    "optimizer = optim.Adam(model.parameters(), lr=0.05)\n",
    "lr_scheduler = ReduceLROnPlateau(optimizer, factor=0.5, patience=150)\n",
    "criterion = nn.BCEWithLogitsLoss()"
   ]
  },
  {
   "cell_type": "code",
   "execution_count": 97,
   "metadata": {
    "id": "qKO96eHgYywN"
   },
   "outputs": [],
   "source": [
    "params_counter = 0\n",
    "for weights in model.parameters():\n",
    "    params_counter += weights.shape.numel()\n",
    "assert params_counter == len(word_to_index) * embedding_dim * 2"
   ]
  },
  {
   "cell_type": "code",
   "execution_count": null,
   "metadata": {
    "id": "cO-5dbyyYywN"
   },
   "outputs": [],
   "source": [
    "def train_skipgram_with_neg_sampling(\n",
    "    model,\n",
    "    context_pairs,\n",
    "    keep_prob_array,\n",
    "    word_to_index,\n",
    "    batch_size,\n",
    "    num_negatives,\n",
    "    negative_sampling_prob_array,\n",
    "    steps,\n",
    "    optimizer=optimizer,\n",
    "    lr_scheduler=lr_scheduler,\n",
    "    device=device,\n",
    "):\n",
    "    pos_labels = torch.ones(batch_size).to(device)\n",
    "    neg_labels = torch.zeros(batch_size, num_negatives).to(device)\n",
    "    loss_history = []\n",
    "    for step in tqdma(range(steps)):\n",
    "        batch, neg_samples = generate_batch_with_neg_samples(\n",
    "            context_pairs,\n",
    "            batch_size,\n",
    "            keep_prob_array,\n",
    "            word_to_index,\n",
    "            num_negatives,\n",
    "            negative_sampling_prob_array,\n",
    "        )\n",
    "        center_words = torch.tensor([pair[0] for pair in batch], dtype=torch.long).to(\n",
    "            device\n",
    "        )\n",
    "        pos_context_words = torch.tensor(\n",
    "            [pair[1] for pair in batch], dtype=torch.long\n",
    "        ).to(device)\n",
    "        neg_context_words = torch.tensor(neg_samples, dtype=torch.long).to(device)\n",
    "\n",
    "        optimizer.zero_grad()\n",
    "        pos_scores, neg_scores = model(\n",
    "            center_words, pos_context_words, neg_context_words\n",
    "        )\n",
    "\n",
    "        loss_pos = criterion(pos_scores, pos_labels)\n",
    "        loss_neg = criterion(neg_scores, neg_labels)\n",
    "\n",
    "        loss = loss_pos + loss_neg\n",
    "        loss.backward()\n",
    "        optimizer.step()\n",
    "\n",
    "        loss_history.append(loss.item())\n",
    "        lr_scheduler.step(loss_history[-1])\n",
    "\n",
    "        if step % 100 == 0:\n",
    "            print(\n",
    "                f\"Step {step}, Loss: {np.mean(loss_history[-100:])}, learning rate: {lr_scheduler._last_lr}\"\n",
    "            )"
   ]
  },
  {
   "cell_type": "code",
   "execution_count": 98,
   "metadata": {
    "colab": {
     "base_uri": "https://localhost:8080/",
     "height": 483,
     "referenced_widgets": [
      "c997b991d766469d8104c39793b730ad",
      "60b54a1b9f1a428ab8af59d737c20ac2",
      "2e7efbd1e85d46b0a75a514d1364dc00",
      "84637333a0874606a9f04a6d99717028",
      "aec0d7894f454e73acd9d62ab1939c52",
      "ced1e3047e6a4b878dab803f5b8e302e",
      "3efe82ecb1c04b22b435b989c1d500e6",
      "d49f8f8b7c574db4b6337a8b586ef361",
      "b9d630009f6f47d0ab23caed9c5a3273",
      "f0c3c5afeae149279887da8d865e2927",
      "e0ee2968849546e980b89ae2be4d340e"
     ]
    },
    "id": "4bZuY_wvYywN",
    "outputId": "d4c5a23f-a01a-42cf-8208-44a7cd5c3a6c"
   },
   "outputs": [
    {
     "data": {
      "application/vnd.jupyter.widget-view+json": {
       "model_id": "c997b991d766469d8104c39793b730ad",
       "version_major": 2,
       "version_minor": 0
      },
      "text/plain": [
       "  0%|          | 0/2500 [00:00<?, ?it/s]"
      ]
     },
     "metadata": {},
     "output_type": "display_data"
    },
    {
     "name": "stdout",
     "output_type": "stream",
     "text": [
      "Step 0, Loss: 4.692890167236328, learning rate: [0.05]\n",
      "Step 100, Loss: 2.6268701016902924, learning rate: [0.05]\n",
      "Step 200, Loss: 1.6126753771305085, learning rate: [0.05]\n",
      "Step 300, Loss: 1.4328165531158448, learning rate: [0.05]\n",
      "Step 400, Loss: 1.3844779455661773, learning rate: [0.05]\n",
      "Step 500, Loss: 1.3582147204875945, learning rate: [0.05]\n",
      "Step 600, Loss: 1.3493667829036713, learning rate: [0.05]\n",
      "Step 700, Loss: 1.334305877685547, learning rate: [0.05]\n",
      "Step 800, Loss: 1.3263539361953736, learning rate: [0.05]\n",
      "Step 900, Loss: 1.326192138195038, learning rate: [0.05]\n",
      "Step 1000, Loss: 1.3200436007976533, learning rate: [0.05]\n",
      "Step 1100, Loss: 1.2835122752189636, learning rate: [0.025]\n",
      "Step 1200, Loss: 1.22152615070343, learning rate: [0.025]\n",
      "Step 1300, Loss: 1.1950163865089416, learning rate: [0.025]\n",
      "Step 1400, Loss: 1.1762350702285767, learning rate: [0.025]\n",
      "Step 1500, Loss: 1.161331182718277, learning rate: [0.025]\n",
      "Step 1600, Loss: 1.1554627478122712, learning rate: [0.025]\n",
      "Step 1700, Loss: 1.1480357801914216, learning rate: [0.025]\n",
      "Step 1800, Loss: 1.1427526473999023, learning rate: [0.025]\n",
      "Step 1900, Loss: 1.1350291275978088, learning rate: [0.025]\n",
      "Step 2000, Loss: 1.1334784650802612, learning rate: [0.025]\n",
      "Step 2100, Loss: 1.12962193608284, learning rate: [0.025]\n",
      "Step 2200, Loss: 1.116094571352005, learning rate: [0.0125]\n",
      "Step 2300, Loss: 1.0946983671188355, learning rate: [0.0125]\n",
      "Step 2400, Loss: 1.0821123492717744, learning rate: [0.0125]\n"
     ]
    }
   ],
   "source": [
    "steps = 2500\n",
    "batch_size = 4096\n",
    "train_skipgram_with_neg_sampling(\n",
    "    model,\n",
    "    context_pairs,\n",
    "    keep_prob_array,\n",
    "    word_to_index,\n",
    "    batch_size,\n",
    "    num_negatives,\n",
    "    negative_sampling_prob_array,\n",
    "    steps, optimizer=optimizer,\n",
    "    lr_scheduler=lr_scheduler,\n",
    "    device=device,\n",
    ")"
   ]
  },
  {
   "cell_type": "markdown",
   "metadata": {
    "id": "WkFAgmrAYywN"
   },
   "source": [
    "Наконец, воспользуемся полученной матрицей весов в качестве матрицы с векторными представлениями слов."
   ]
  },
  {
   "cell_type": "code",
   "execution_count": 99,
   "metadata": {
    "id": "njA5fPxuYywN"
   },
   "outputs": [],
   "source": [
    "_model_parameters = model.parameters()\n",
    "embedding_matrix_center = next(\n",
    "    _model_parameters\n",
    ").detach()  # Assuming that first matrix was for central word\n",
    "embedding_matrix_context = next(\n",
    "    _model_parameters\n",
    ").detach()  # Assuming that second matrix was for context word"
   ]
  },
  {
   "cell_type": "code",
   "execution_count": 100,
   "metadata": {
    "id": "m388gdKPYywN"
   },
   "outputs": [],
   "source": [
    "def get_word_vector(word, embedding_matrix, word_to_index=word_to_index):\n",
    "    return embedding_matrix[word_to_index[word]]"
   ]
  },
  {
   "cell_type": "markdown",
   "metadata": {
    "id": "xvj-20slYywN"
   },
   "source": [
    "Простые проверки:"
   ]
  },
  {
   "cell_type": "code",
   "execution_count": 101,
   "metadata": {
    "colab": {
     "base_uri": "https://localhost:8080/"
    },
    "id": "w1Z-tU2dYywO",
    "outputId": "85eafbf0-ed5a-44eb-fd94-32bb2dba6634"
   },
   "outputs": [
    {
     "name": "stdout",
     "output_type": "stream",
     "text": [
      "sim1: tensor([0.7109], device='cuda:0'); sim2: tensor([0.6677], device='cuda:0')\n",
      "Correct!\n",
      "similarity_1 greater than similarity_2\n"
     ]
    }
   ],
   "source": [
    "similarity_1 = F.cosine_similarity(\n",
    "    get_word_vector(\"iphone\", embedding_matrix_context)[None, :],\n",
    "    get_word_vector(\"apple\", embedding_matrix_context)[None, :],\n",
    ")\n",
    "similarity_2 = F.cosine_similarity(\n",
    "    get_word_vector(\"iphone\", embedding_matrix_context)[None, :],\n",
    "    get_word_vector(\"dell\", embedding_matrix_context)[None, :],\n",
    ")\n",
    "print(f'sim1: {similarity_1}; sim2: {similarity_2}')\n",
    "\n",
    "try:\n",
    "    assert similarity_1 > similarity_2\n",
    "    print('Correct!')\n",
    "    print('similarity_1 greater than similarity_2')\n",
    "except AssertionError:\n",
    "    print('ALARM!')\n",
    "    print('Assertion failed: similarity_1 is not greater than similarity_2')"
   ]
  },
  {
   "cell_type": "code",
   "execution_count": 102,
   "metadata": {
    "colab": {
     "base_uri": "https://localhost:8080/"
    },
    "id": "CZMFaLuyYywO",
    "outputId": "0d218473-ffc6-47b0-9e74-ec2ad1ae43b8"
   },
   "outputs": [
    {
     "name": "stdout",
     "output_type": "stream",
     "text": [
      "sim1: tensor([0.7801], device='cuda:0'); sim2: tensor([0.6731], device='cuda:0')\n",
      "Correct!\n",
      "similarity_1 greater than similarity_2\n"
     ]
    }
   ],
   "source": [
    "similarity_1 = F.cosine_similarity(\n",
    "    get_word_vector(\"windows\", embedding_matrix_context)[None, :],\n",
    "    get_word_vector(\"laptop\", embedding_matrix_context)[None, :],\n",
    ")\n",
    "similarity_2 = F.cosine_similarity(\n",
    "    get_word_vector(\"windows\", embedding_matrix_context)[None, :],\n",
    "    get_word_vector(\"macbook\", embedding_matrix_context)[None, :],\n",
    ")\n",
    "print(f'sim1: {similarity_1}; sim2: {similarity_2}')\n",
    "\n",
    "try:\n",
    "    assert similarity_1 > similarity_2\n",
    "    print('Correct!')\n",
    "    print('similarity_1 greater than similarity_2')\n",
    "except AssertionError:\n",
    "    print('ALARM!')\n",
    "    print('Assertion failed: similarity_1 is not greater than similarity_2')"
   ]
  },
  {
   "cell_type": "markdown",
   "metadata": {
    "id": "kGKRMncDYywO"
   },
   "source": [
    "Наконец, взглянем на ближайшие по косинусной мере слова."
   ]
  },
  {
   "cell_type": "code",
   "execution_count": 103,
   "metadata": {
    "id": "dA0V6rOYtsLk"
   },
   "outputs": [],
   "source": [
    "def find_nearest(word, embedding_matrix, word_to_index=word_to_index, k=10):\n",
    "    word_vector = get_word_vector(word, embedding_matrix)[None, :]\n",
    "    dists = F.cosine_similarity(embedding_matrix, word_vector)\n",
    "    index_sorted = torch.argsort(dists)\n",
    "    top_k = index_sorted[-k:]\n",
    "    return [(index_to_word[x], dists[x].item()) for x in top_k.cpu().numpy()]"
   ]
  },
  {
   "cell_type": "code",
   "execution_count": 104,
   "metadata": {
    "colab": {
     "base_uri": "https://localhost:8080/"
    },
    "id": "--W5Cm3uYywO",
    "outputId": "94bf0b7b-043a-4132-e0d8-1acc62aa35b4"
   },
   "outputs": [
    {
     "data": {
      "text/plain": [
       "[('unigraphics', 0.8048782348632812),\n",
       " ('expressjs', 0.8067203760147095),\n",
       " ('hybris', 0.8082059621810913),\n",
       " ('sql', 0.8087780475616455),\n",
       " ('ide', 0.8109314441680908),\n",
       " ('applet', 0.8153489232063293),\n",
       " ('nodejs', 0.8153706789016724),\n",
       " ('angularjs', 0.8171805739402771),\n",
       " ('scripting', 0.8192536234855652),\n",
       " ('unix', 0.8192691802978516),\n",
       " ('c', 0.8199998140335083),\n",
       " ('gui', 0.8220341801643372),\n",
       " ('js', 0.8269432783126831),\n",
       " ('learning', 0.833995521068573),\n",
       " ('plsql', 0.834445595741272),\n",
       " ('programming', 0.8370746374130249),\n",
       " ('framework', 0.8375260829925537),\n",
       " ('css3', 0.8380035161972046),\n",
       " ('java', 0.8711803555488586),\n",
       " ('python', 1.0)]"
      ]
     },
     "execution_count": 104,
     "metadata": {},
     "output_type": "execute_result"
    }
   ],
   "source": [
    "find_nearest(\"python\", embedding_matrix_context, k=20)"
   ]
  },
  {
   "cell_type": "markdown",
   "metadata": {
    "id": "8C6cMCDhYywO"
   },
   "source": [
    "Также можем визуально проверить, как представлены в латентном пространстве часто встречающиеся слова."
   ]
  },
  {
   "cell_type": "code",
   "execution_count": 105,
   "metadata": {
    "id": "gbv-3kWJYywO"
   },
   "outputs": [],
   "source": [
    "top_k = 5000\n",
    "_top_words = sorted([x for x in word_count_dict.items()], key=lambda x: x[1])[\n",
    "    -top_k - 100 : -100\n",
    "]  # ignoring 100 most frequent words\n",
    "top_words = [x[0] for x in _top_words]\n",
    "del _top_words"
   ]
  },
  {
   "cell_type": "code",
   "execution_count": 106,
   "metadata": {
    "id": "NNJPpAe9YywO"
   },
   "outputs": [],
   "source": [
    "word_embeddings = torch.cat(\n",
    "    [embedding_matrix_context[word_to_index[x]][None, :] for x in top_words], dim=0\n",
    ").cpu().numpy()"
   ]
  },
  {
   "cell_type": "code",
   "execution_count": 107,
   "metadata": {
    "id": "q1xwe4CuYywO"
   },
   "outputs": [],
   "source": [
    "import bokeh.models as bm\n",
    "import bokeh.plotting as pl\n",
    "from bokeh.io import output_notebook\n",
    "\n",
    "output_notebook()\n",
    "\n",
    "\n",
    "def draw_vectors(\n",
    "    x,\n",
    "    y,\n",
    "    radius=10,\n",
    "    alpha=0.25,\n",
    "    color=\"blue\",\n",
    "    width=600,\n",
    "    height=400,\n",
    "    show=True,\n",
    "    **kwargs,\n",
    "):\n",
    "    \"\"\"draws an interactive plot for data points with auxilirary info on hover\"\"\"\n",
    "    if isinstance(color, str):\n",
    "        color = [color] * len(x)\n",
    "    data_source = bm.ColumnDataSource({\"x\": x, \"y\": y, \"color\": color, **kwargs})\n",
    "\n",
    "    fig = pl.figure(active_scroll=\"wheel_zoom\", width=width, height=height)\n",
    "    fig.scatter(\"x\", \"y\", size=radius, color=\"color\", alpha=alpha, source=data_source)\n",
    "\n",
    "    fig.add_tools(bm.HoverTool(tooltips=[(key, \"@\" + key) for key in kwargs.keys()]))\n",
    "    if show:\n",
    "        pl.show(fig)\n",
    "    return fig"
   ]
  },
  {
   "cell_type": "code",
   "execution_count": 108,
   "metadata": {
    "id": "unedRJrVYywO"
   },
   "outputs": [],
   "source": [
    "embedding = umap.UMAP(n_neighbors=5).fit_transform(word_embeddings)"
   ]
  },
  {
   "cell_type": "code",
   "execution_count": 109,
   "metadata": {
    "colab": {
     "base_uri": "https://localhost:8080/",
     "height": 434
    },
    "id": "bNwQoahLYywO",
    "outputId": "2a8013f7-8501-4095-cd69-b5e5397f012b"
   },
   "outputs": [
    {
     "data": {
      "application/javascript": "'use strict';\n(function(root) {\n  function now() {\n    return new Date();\n  }\n\n  const force = true;\n\n  if (typeof root._bokeh_onload_callbacks === \"undefined\" || force === true) {\n    root._bokeh_onload_callbacks = [];\n    root._bokeh_is_loading = undefined;\n  }\n\nconst JS_MIME_TYPE = 'application/javascript';\n  const HTML_MIME_TYPE = 'text/html';\n  const EXEC_MIME_TYPE = 'application/vnd.bokehjs_exec.v0+json';\n  const CLASS_NAME = 'output_bokeh rendered_html';\n\n  /**\n   * Render data to the DOM node\n   */\n  function render(props, node) {\n    const script = document.createElement(\"script\");\n    node.appendChild(script);\n  }\n\n  /**\n   * Handle when an output is cleared or removed\n   */\n  function handleClearOutput(event, handle) {\n    function drop(id) {\n      const view = Bokeh.index.get_by_id(id)\n      if (view != null) {\n        view.model.document.clear()\n        Bokeh.index.delete(view)\n      }\n    }\n\n    const cell = handle.cell;\n\n    const id = cell.output_area._bokeh_element_id;\n    const server_id = cell.output_area._bokeh_server_id;\n\n    // Clean up Bokeh references\n    if (id != null) {\n      drop(id)\n    }\n\n    if (server_id !== undefined) {\n      // Clean up Bokeh references\n      const cmd_clean = \"from bokeh.io.state import curstate; print(curstate().uuid_to_server['\" + server_id + \"'].get_sessions()[0].document.roots[0]._id)\";\n      cell.notebook.kernel.execute(cmd_clean, {\n        iopub: {\n          output: function(msg) {\n            const id = msg.content.text.trim()\n            drop(id)\n          }\n        }\n      });\n      // Destroy server and session\n      const cmd_destroy = \"import bokeh.io.notebook as ion; ion.destroy_server('\" + server_id + \"')\";\n      cell.notebook.kernel.execute(cmd_destroy);\n    }\n  }\n\n  /**\n   * Handle when a new output is added\n   */\n  function handleAddOutput(event, handle) {\n    const output_area = handle.output_area;\n    const output = handle.output;\n\n    // limit handleAddOutput to display_data with EXEC_MIME_TYPE content only\n    if ((output.output_type != \"display_data\") || (!Object.prototype.hasOwnProperty.call(output.data, EXEC_MIME_TYPE))) {\n      return\n    }\n\n    const toinsert = output_area.element.find(\".\" + CLASS_NAME.split(' ')[0]);\n\n    if (output.metadata[EXEC_MIME_TYPE][\"id\"] !== undefined) {\n      toinsert[toinsert.length - 1].firstChild.textContent = output.data[JS_MIME_TYPE];\n      // store reference to embed id on output_area\n      output_area._bokeh_element_id = output.metadata[EXEC_MIME_TYPE][\"id\"];\n    }\n    if (output.metadata[EXEC_MIME_TYPE][\"server_id\"] !== undefined) {\n      const bk_div = document.createElement(\"div\");\n      bk_div.innerHTML = output.data[HTML_MIME_TYPE];\n      const script_attrs = bk_div.children[0].attributes;\n      for (let i = 0; i < script_attrs.length; i++) {\n        toinsert[toinsert.length - 1].firstChild.setAttribute(script_attrs[i].name, script_attrs[i].value);\n        toinsert[toinsert.length - 1].firstChild.textContent = bk_div.children[0].textContent\n      }\n      // store reference to server id on output_area\n      output_area._bokeh_server_id = output.metadata[EXEC_MIME_TYPE][\"server_id\"];\n    }\n  }\n\n  function register_renderer(events, OutputArea) {\n\n    function append_mime(data, metadata, element) {\n      // create a DOM node to render to\n      const toinsert = this.create_output_subarea(\n        metadata,\n        CLASS_NAME,\n        EXEC_MIME_TYPE\n      );\n      this.keyboard_manager.register_events(toinsert);\n      // Render to node\n      const props = {data: data, metadata: metadata[EXEC_MIME_TYPE]};\n      render(props, toinsert[toinsert.length - 1]);\n      element.append(toinsert);\n      return toinsert\n    }\n\n    /* Handle when an output is cleared or removed */\n    events.on('clear_output.CodeCell', handleClearOutput);\n    events.on('delete.Cell', handleClearOutput);\n\n    /* Handle when a new output is added */\n    events.on('output_added.OutputArea', handleAddOutput);\n\n    /**\n     * Register the mime type and append_mime function with output_area\n     */\n    OutputArea.prototype.register_mime_type(EXEC_MIME_TYPE, append_mime, {\n      /* Is output safe? */\n      safe: true,\n      /* Index of renderer in `output_area.display_order` */\n      index: 0\n    });\n  }\n\n  // register the mime type if in Jupyter Notebook environment and previously unregistered\n  if (root.Jupyter !== undefined) {\n    const events = require('base/js/events');\n    const OutputArea = require('notebook/js/outputarea').OutputArea;\n\n    if (OutputArea.prototype.mime_types().indexOf(EXEC_MIME_TYPE) == -1) {\n      register_renderer(events, OutputArea);\n    }\n  }\n  if (typeof (root._bokeh_timeout) === \"undefined\" || force === true) {\n    root._bokeh_timeout = Date.now() + 5000;\n    root._bokeh_failed_load = false;\n  }\n\n  const NB_LOAD_WARNING = {'data': {'text/html':\n     \"<div style='background-color: #fdd'>\\n\"+\n     \"<p>\\n\"+\n     \"BokehJS does not appear to have successfully loaded. If loading BokehJS from CDN, this \\n\"+\n     \"may be due to a slow or bad network connection. Possible fixes:\\n\"+\n     \"</p>\\n\"+\n     \"<ul>\\n\"+\n     \"<li>re-rerun `output_notebook()` to attempt to load from CDN again, or</li>\\n\"+\n     \"<li>use INLINE resources instead, as so:</li>\\n\"+\n     \"</ul>\\n\"+\n     \"<code>\\n\"+\n     \"from bokeh.resources import INLINE\\n\"+\n     \"output_notebook(resources=INLINE)\\n\"+\n     \"</code>\\n\"+\n     \"</div>\"}};\n\n  function display_loaded(error = null) {\n    const el = document.getElementById(null);\n    if (el != null) {\n      const html = (() => {\n        if (typeof root.Bokeh === \"undefined\") {\n          if (error == null) {\n            return \"BokehJS is loading ...\";\n          } else {\n            return \"BokehJS failed to load.\";\n          }\n        } else {\n          const prefix = `BokehJS ${root.Bokeh.version}`;\n          if (error == null) {\n            return `${prefix} successfully loaded.`;\n          } else {\n            return `${prefix} <b>encountered errors</b> while loading and may not function as expected.`;\n          }\n        }\n      })();\n      el.innerHTML = html;\n\n      if (error != null) {\n        const wrapper = document.createElement(\"div\");\n        wrapper.style.overflow = \"auto\";\n        wrapper.style.height = \"5em\";\n        wrapper.style.resize = \"vertical\";\n        const content = document.createElement(\"div\");\n        content.style.fontFamily = \"monospace\";\n        content.style.whiteSpace = \"pre-wrap\";\n        content.style.backgroundColor = \"rgb(255, 221, 221)\";\n        content.textContent = error.stack ?? error.toString();\n        wrapper.append(content);\n        el.append(wrapper);\n      }\n    } else if (Date.now() < root._bokeh_timeout) {\n      setTimeout(() => display_loaded(error), 100);\n    }\n  }\n\n  function run_callbacks() {\n    try {\n      root._bokeh_onload_callbacks.forEach(function(callback) {\n        if (callback != null)\n          callback();\n      });\n    } finally {\n      delete root._bokeh_onload_callbacks\n    }\n    console.debug(\"Bokeh: all callbacks have finished\");\n  }\n\n  function load_libs(css_urls, js_urls, callback) {\n    if (css_urls == null) css_urls = [];\n    if (js_urls == null) js_urls = [];\n\n    root._bokeh_onload_callbacks.push(callback);\n    if (root._bokeh_is_loading > 0) {\n      console.debug(\"Bokeh: BokehJS is being loaded, scheduling callback at\", now());\n      return null;\n    }\n    if (js_urls == null || js_urls.length === 0) {\n      run_callbacks();\n      return null;\n    }\n    console.debug(\"Bokeh: BokehJS not loaded, scheduling load and callback at\", now());\n    root._bokeh_is_loading = css_urls.length + js_urls.length;\n\n    function on_load() {\n      root._bokeh_is_loading--;\n      if (root._bokeh_is_loading === 0) {\n        console.debug(\"Bokeh: all BokehJS libraries/stylesheets loaded\");\n        run_callbacks()\n      }\n    }\n\n    function on_error(url) {\n      console.error(\"failed to load \" + url);\n    }\n\n    for (let i = 0; i < css_urls.length; i++) {\n      const url = css_urls[i];\n      const element = document.createElement(\"link\");\n      element.onload = on_load;\n      element.onerror = on_error.bind(null, url);\n      element.rel = \"stylesheet\";\n      element.type = \"text/css\";\n      element.href = url;\n      console.debug(\"Bokeh: injecting link tag for BokehJS stylesheet: \", url);\n      document.body.appendChild(element);\n    }\n\n    for (let i = 0; i < js_urls.length; i++) {\n      const url = js_urls[i];\n      const element = document.createElement('script');\n      element.onload = on_load;\n      element.onerror = on_error.bind(null, url);\n      element.async = false;\n      element.src = url;\n      console.debug(\"Bokeh: injecting script tag for BokehJS library: \", url);\n      document.head.appendChild(element);\n    }\n  };\n\n  function inject_raw_css(css) {\n    const element = document.createElement(\"style\");\n    element.appendChild(document.createTextNode(css));\n    document.body.appendChild(element);\n  }\n\n  const js_urls = [\"https://cdn.bokeh.org/bokeh/release/bokeh-3.6.0.min.js\", \"https://cdn.bokeh.org/bokeh/release/bokeh-gl-3.6.0.min.js\", \"https://cdn.bokeh.org/bokeh/release/bokeh-widgets-3.6.0.min.js\", \"https://cdn.bokeh.org/bokeh/release/bokeh-tables-3.6.0.min.js\", \"https://cdn.bokeh.org/bokeh/release/bokeh-mathjax-3.6.0.min.js\"];\n  const css_urls = [];\n\n  const inline_js = [    function(Bokeh) {\n      Bokeh.set_log_level(\"info\");\n    },\nfunction(Bokeh) {\n    }\n  ];\n\n  function run_inline_js() {\n    if (root.Bokeh !== undefined || force === true) {\n      try {\n            for (let i = 0; i < inline_js.length; i++) {\n      inline_js[i].call(root, root.Bokeh);\n    }\n\n      } catch (error) {throw error;\n      }} else if (Date.now() < root._bokeh_timeout) {\n      setTimeout(run_inline_js, 100);\n    } else if (!root._bokeh_failed_load) {\n      console.log(\"Bokeh: BokehJS failed to load within specified timeout.\");\n      root._bokeh_failed_load = true;\n    } else if (force !== true) {\n      const cell = $(document.getElementById(null)).parents('.cell').data().cell;\n      cell.output_area.append_execute_result(NB_LOAD_WARNING)\n    }\n  }\n\n  if (root._bokeh_is_loading === 0) {\n    console.debug(\"Bokeh: BokehJS loaded, going straight to plotting\");\n    run_inline_js();\n  } else {\n    load_libs(css_urls, js_urls, function() {\n      console.debug(\"Bokeh: BokehJS plotting callback run at\", now());\n      run_inline_js();\n    });\n  }\n}(window));",
      "application/vnd.bokehjs_load.v0+json": ""
     },
     "metadata": {},
     "output_type": "display_data"
    },
    {
     "data": {
      "text/html": [
       "\n",
       "  <div id=\"b055d779-107e-4ed6-a60b-6bf62b93c85b\" data-root-id=\"p1055\" style=\"display: contents;\"></div>\n"
      ]
     },
     "metadata": {},
     "output_type": "display_data"
    },
    {
     "data": {
      "application/javascript": "(function(root) {\n  function embed_document(root) {\n  const docs_json = {\"3f8a2017-0b6a-440c-baa1-54ae80aab3b6\":{\"version\":\"3.6.0\",\"title\":\"Bokeh Application\",\"roots\":[{\"type\":\"object\",\"name\":\"Figure\",\"id\":\"p1055\",\"attributes\":{\"height\":400,\"x_range\":{\"type\":\"object\",\"name\":\"DataRange1d\",\"id\":\"p1056\"},\"y_range\":{\"type\":\"object\",\"name\":\"DataRange1d\",\"id\":\"p1057\"},\"x_scale\":{\"type\":\"object\",\"name\":\"LinearScale\",\"id\":\"p1064\"},\"y_scale\":{\"type\":\"object\",\"name\":\"LinearScale\",\"id\":\"p1065\"},\"title\":{\"type\":\"object\",\"name\":\"Title\",\"id\":\"p1062\"},\"renderers\":[{\"type\":\"object\",\"name\":\"GlyphRenderer\",\"id\":\"p1095\",\"attributes\":{\"data_source\":{\"type\":\"object\",\"name\":\"ColumnDataSource\",\"id\":\"p1052\",\"attributes\":{\"selected\":{\"type\":\"object\",\"name\":\"Selection\",\"id\":\"p1053\",\"attributes\":{\"indices\":[],\"line_indices\":[]}},\"selection_policy\":{\"type\":\"object\",\"name\":\"UnionRenderers\",\"id\":\"p1054\"},\"data\":{\"type\":\"map\",\"entries\":[[\"x\",{\"type\":\"ndarray\",\"array\":{\"type\":\"bytes\",\"data\":\"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\"},\"shape\":[5000],\"dtype\":\"float32\",\"order\":\"little\"}],[\"y\",{\"type\":\"ndarray\",\"array\":{\"type\":\"bytes\",\"data\":\"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\"},\"shape\":[5000],\"dtype\":\"float32\",\"order\":\"little\"}],[\"color\",[\"blue\",\"blue\",\"blue\",\"blue\",\"blue\",\"blue\",\"blue\",\"blue\",\"blue\",\"blue\",\"blue\",\"blue\",\"blue\",\"blue\",\"blue\",\"blue\",\"blue\",\"blue\",\"blue\",\"blue\",\"blue\",\"blue\",\"blue\",\"blue\",\"blue\",\"blue\",\"blue\",\"blue\",\"blue\",\"blue\",\"blue\",\"blue\",\"blue\",\"blue\",\"blue\",\"blue\",\"blue\",\"blue\",\"blue\",\"blue\",\"blue\",\"blue\",\"blue\",\"blue\",\"blue\",\"blue\",\"blue\",\"blue\",\"blue\",\"blue\",\"blue\",\"blue\",\"blue\",\"blue\",\"blue\",\"blue\",\"blue\",\"blue\",\"blue\",\"blue\",\"blue\",\"blue\",\"blue\",\"blue\",\"blue\",\"blue\",\"blue\",\"blue\",\"blue\",\"blue\",\"blue\",\"blue\",\"blue\",\"blue\",\"blue\",\"blue\",\"blue\",\"blue\",\"blue\",\"blue\",\"blue\",\"blue\",\"blue\",\"blue\",\"blue\",\"blue\",\"blue\",\"blue\",\"blue\",\"blue\",\"blue\",\"blue\",\"blue\",\"blue\",\"blue\",\"blue\",\"blue\",\"blue\",\"blue\",\"blue\",\"blue\",\"blue\",\"blue\",\"blue\",\"blue\",\"blue\",\"blue\",\"blue\",\"blue\",\"blue\",\"blue\",\"blue\",\"blue\",\"blue\",\"blue\",\"blue\",\"blue\",\"blue\",\"blue\",\"blue\",\"blue\",\"blue\",\"blue\",\"blue\",\"blue\",\"blue\",\"blue\",\"blue\",\"blue\",\"blue\",\"blue\",\"blue\",\"blue\",\"blue\",\"blue\",\"blue\",\"blue\",\"blue\",\"blue\",\"blue\",\"blue\",\"blue\",\"blue\",\"blue\",\"blue\",\"blue\",\"blue\",\"blue\",\"blue\",\"blue\",\"blue\",\"blue\",\"blue\",\"blue\",\"blue\",\"blue\",\"blue\",\"blue\",\"blue\",\"blue\",\"blue\",\"blue\",\"blue\",\"blue\",\"blue\",\"blue\",\"blue\",\"blue\",\"blue\",\"blue\",\"blue\",\"blue\",\"blue\",\"blue\",\"blue\",\"blue\",\"blue\",\"blue\",\"blue\",\"blue\",\"blue\",\"blue\",\"blue\",\"blue\",\"blue\",\"blue\",\"blue\",\"blue\",\"blue\",\"blue\",\"blue\",\"blue\",\"blue\",\"blue\",\"blue\",\"blue\",\"blue\",\"blue\",\"blue\",\"blue\",\"blue\",\"blue\",\"blue\",\"blue\",\"blue\",\"blue\",\"blue\",\"blue\",\"blue\",\"blue\",\"blue\",\"blue\",\"blue\",\"blue\",\"blue\",\"blue\",\"blue\",\"blue\",\"blue\",\"blue\",\"blue\",\"blue\",\"blue\",\"blue\",\"blue\",\"blue\",\"blue\",\"blue\",\"blue\",\"blue\",\"blue\",\"blue\",\"blue\",\"blue\",\"blue\",\"blue\",\"blue\",\"blue\",\"blue\",\"blue\",\"blue\",\"blue\",\"blue\",\"blue\",\"blue\",\"blue\",\"blue\",\"blue\",\"blue\",\"blue\",\"blue\",\"blue\",\"blue\",\"blue\",\"blue\",\"blue\",\"blue\",\"blue\",\"blue\",\"blue\",\"blue\",\"blue\",\"blue\",\"blue\",\"blue\",\"blue\",\"blue\",\"blue\",\"blue\",\"blue\",\"blue\",\"blue\",\"blue\",\"blue\",\"blue\",\"blue\",\"blue\",\"blue\",\"blue\",\"blue\",\"blue\",\"blue\",\"blue\",\"blue\",\"blue\",\"blue\",\"blue\",\"blue\",\"blue\",\"blue\",\"blue\",\"blue\",\"blue\",\"blue\",\"blue\",\"blue\",\"blue\",\"blue\",\"blue\",\"blue\",\"blue\",\"blue\",\"blue\",\"blue\",\"blue\",\"blue\",\"blue\",\"blue\",\"blue\",\"blue\",\"blue\",\"blue\",\"blue\",\"blue\",\"blue\",\"blue\",\"blue\",\"blue\",\"blue\",\"blue\",\"blue\",\"blue\",\"blue\",\"blue\",\"blue\",\"blue\",\"blue\",\"blue\",\"blue\",\"blue\",\"blue\",\"blue\",\"blue\",\"blue\",\"blue\",\"blue\",\"blue\",\"blue\",\"blue\",\"blue\",\"blue\",\"blue\",\"blue\",\"blue\",\"blue\",\"blue\",\"blue\",\"blue\",\"blue\",\"blue\",\"blue\",\"blue\",\"blue\",\"blue\",\"blue\",\"blue\",\"blue\",\"blue\",\"blue\",\"blue\",\"blue\",\"blue\",\"blue\",\"blue\",\"blue\",\"blue\",\"blue\",\"blue\",\"blue\",\"blue\",\"blue\",\"blue\",\"blue\",\"blue\",\"blue\",\"blue\",\"blue\",\"blue\",\"blue\",\"blue\",\"blue\",\"blue\",\"blue\",\"blue\",\"blue\",\"blue\",\"blue\",\"blue\",\"blue\",\"blue\",\"blue\",\"blue\",\"blue\",\"blue\",\"blue\",\"blue\",\"blue\",\"blue\",\"blue\",\"blue\",\"blue\",\"blue\",\"blue\",\"blue\",\"blue\",\"blue\",\"blue\",\"blue\",\"blue\",\"blue\",\"blue\",\"blue\",\"blue\",\"blue\",\"blue\",\"blue\",\"blue\",\"blue\",\"blue\",\"blue\",\"blue\",\"blue\",\"blue\",\"blue\",\"blue\",\"blue\",\"blue\",\"blue\",\"blue\",\"blue\",\"blue\",\"blue\",\"blue\",\"blue\",\"blue\",\"blue\",\"blue\",\"blue\",\"blue\",\"blue\",\"blue\",\"blue\",\"blue\",\"blue\",\"blue\",\"blue\",\"blue\",\"blue\",\"blue\",\"blue\",\"blue\",\"blue\",\"blue\",\"blue\",\"blue\",\"blue\",\"blue\",\"blue\",\"blue\",\"blue\",\"blue\",\"blue\",\"blue\",\"blue\",\"blue\",\"blue\",\"blue\",\"blue\",\"blue\",\"blue\",\"blue\",\"blue\",\"blue\",\"blue\",\"blue\",\"blue\",\"blue\",\"blue\",\"blue\",\"blue\",\"blue\",\"blue\",\"blue\",\"blue\",\"blue\",\"blue\",\"blue\",\"blue\",\"blue\",\"blue\",\"blue\",\"blue\",\"blue\",\"blue\",\"blue\",\"blue\",\"blue\",\"blue\",\"blue\",\"blue\",\"blue\",\"blue\",\"blue\",\"blue\",\"blue\",\"blue\",\"blue\",\"blue\",\"blue\",\"blue\",\"blue\",\"blue\",\"blue\",\"blue\",\"blue\",\"blue\",\"blue\",\"blue\",\"blue\",\"blue\",\"blue\",\"blue\",\"blue\",\"blue\",\"blue\",\"blue\",\"blue\",\"blue\",\"blue\",\"blue\",\"blue\",\"blue\",\"blue\",\"blue\",\"blue\",\"blue\",\"blue\",\"blue\",\"blue\",\"blue\",\"blue\",\"blue\",\"blue\",\"blue\",\"blue\",\"blue\",\"blue\",\"blue\",\"blue\",\"blue\",\"blue\",\"blue\",\"blue\",\"blue\",\"blue\",\"blue\",\"blue\",\"blue\",\"blue\",\"blue\",\"blue\",\"blue\",\"blue\",\"blue\",\"blue\",\"blue\",\"blue\",\"blue\",\"blue\",\"blue\",\"blue\",\"blue\",\"blue\",\"blue\",\"blue\",\"blue\",\"blue\",\"blue\",\"blue\",\"blue\",\"blue\",\"blue\",\"blue\",\"blue\",\"blue\",\"blue\",\"blue\",\"blue\",\"blue\",\"blue\",\"blue\",\"blue\",\"blue\",\"blue\",\"blue\",\"blue\",\"blue\",\"blue\",\"blue\",\"blue\",\"blue\",\"blue\",\"blue\",\"blue\",\"blue\",\"blue\",\"blue\",\"blue\",\"blue\",\"blue\",\"blue\",\"blue\",\"blue\",\"blue\",\"blue\",\"blue\",\"blue\",\"blue\",\"blue\",\"blue\",\"blue\",\"blue\",\"blue\",\"blue\",\"blue\",\"blue\",\"blue\",\"blue\",\"blue\",\"blue\",\"blue\",\"blue\",\"blue\",\"blue\",\"blue\",\"blue\",\"blue\",\"blue\",\"blue\",\"blue\",\"blue\",\"blue\",\"blue\",\"blue\",\"blue\",\"blue\",\"blue\",\"blue\",\"blue\",\"blue\",\"blue\",\"blue\",\"blue\",\"blue\",\"blue\",\"blue\",\"blue\",\"blue\",\"blue\",\"blue\",\"blue\",\"blue\",\"blue\",\"blue\",\"blue\",\"blue\",\"blue\",\"blue\",\"blue\",\"blue\",\"blue\",\"blue\",\"blue\",\"blue\",\"blue\",\"blue\",\"blue\",\"blue\",\"blue\",\"blue\",\"blue\",\"blue\",\"blue\",\"blue\",\"blue\",\"blue\",\"blue\",\"blue\",\"blue\",\"blue\",\"blue\",\"blue\",\"blue\",\"blue\",\"blue\",\"blue\",\"blue\",\"blue\",\"blue\",\"blue\",\"blue\",\"blue\",\"blue\",\"blue\",\"blue\",\"blue\",\"blue\",\"blue\",\"blue\",\"blue\",\"blue\",\"blue\",\"blue\",\"blue\",\"blue\",\"blue\",\"blue\",\"blue\",\"blue\",\"blue\",\"blue\",\"blue\",\"blue\",\"blue\",\"blue\",\"blue\",\"blue\",\"blue\",\"blue\",\"blue\",\"blue\",\"blue\",\"blue\",\"blue\",\"blue\",\"blue\",\"blue\",\"blue\",\"blue\",\"blue\",\"blue\",\"blue\",\"blue\",\"blue\",\"blue\",\"blue\",\"blue\",\"blue\",\"blue\",\"blue\",\"blue\",\"blue\",\"blue\",\"blue\",\"blue\",\"blue\",\"blue\",\"blue\",\"blue\",\"blue\",\"blue\",\"blue\",\"blue\",\"blue\",\"blue\",\"blue\",\"blue\",\"blue\",\"blue\",\"blue\",\"blue\",\"blue\",\"blue\",\"blue\",\"blue\",\"blue\",\"blue\",\"blue\",\"blue\",\"blue\",\"blue\",\"blue\",\"blue\",\"blue\",\"blue\",\"blue\",\"blue\",\"blue\",\"blue\",\"blue\",\"blue\",\"blue\",\"blue\",\"blue\",\"blue\",\"blue\",\"blue\",\"blue\",\"blue\",\"blue\",\"blue\",\"blue\",\"blue\",\"blue\",\"blue\",\"blue\",\"blue\",\"blue\",\"blue\",\"blue\",\"blue\",\"blue\",\"blue\",\"blue\",\"blue\",\"blue\",\"blue\",\"blue\",\"blue\",\"blue\",\"blue\",\"blue\",\"blue\",\"blue\",\"blue\",\"blue\",\"blue\",\"blue\",\"blue\",\"blue\",\"blue\",\"blue\",\"blue\",\"blue\",\"blue\",\"blue\",\"blue\",\"blue\",\"blue\",\"blue\",\"blue\",\"blue\",\"blue\",\"blue\",\"blue\",\"blue\",\"blue\",\"blue\",\"blue\",\"blue\",\"blue\",\"blue\",\"blue\",\"blue\",\"blue\",\"blue\",\"blue\",\"blue\",\"blue\",\"blue\",\"blue\",\"blue\",\"blue\",\"blue\",\"blue\",\"blue\",\"blue\",\"blue\",\"blue\",\"blue\",\"blue\",\"blue\",\"blue\",\"blue\",\"blue\",\"blue\",\"blue\",\"blue\",\"blue\",\"blue\",\"blue\",\"blue\",\"blue\",\"blue\",\"blue\",\"blue\",\"blue\",\"blue\",\"blue\",\"blue\",\"blue\",\"blue\",\"blue\",\"blue\",\"blue\",\"blue\",\"blue\",\"blue\",\"blue\",\"blue\",\"blue\",\"blue\",\"blue\",\"blue\",\"blue\",\"blue\",\"blue\",\"blue\",\"blue\",\"blue\",\"blue\",\"blue\",\"blue\",\"blue\",\"blue\",\"blue\",\"blue\",\"blue\",\"blue\",\"blue\",\"blue\",\"blue\",\"blue\",\"blue\",\"blue\",\"blue\",\"blue\",\"blue\",\"blue\",\"blue\",\"blue\",\"blue\",\"blue\",\"blue\",\"blue\",\"blue\",\"blue\",\"blue\",\"blue\",\"blue\",\"blue\",\"blue\",\"blue\",\"blue\",\"blue\",\"blue\",\"blue\",\"blue\",\"blue\",\"blue\",\"blue\",\"blue\",\"blue\",\"blue\",\"blue\",\"blue\",\"blue\",\"blue\",\"blue\",\"blue\",\"blue\",\"blue\",\"blue\",\"blue\",\"blue\",\"blue\",\"blue\",\"blue\",\"blue\",\"blue\",\"blue\",\"blue\",\"blue\",\"blue\",\"blue\",\"blue\",\"blue\",\"blue\",\"blue\",\"blue\",\"blue\",\"blue\",\"blue\",\"blue\",\"blue\",\"blue\",\"blue\",\"blue\",\"blue\",\"blue\",\"blue\",\"blue\",\"blue\",\"blue\",\"blue\",\"blue\",\"blue\",\"blue\",\"blue\",\"blue\",\"blue\",\"blue\",\"blue\",\"blue\",\"blue\",\"blue\",\"blue\",\"blue\",\"blue\",\"blue\",\"blue\",\"blue\",\"blue\",\"blue\",\"blue\",\"blue\",\"blue\",\"blue\",\"blue\",\"blue\",\"blue\",\"blue\",\"blue\",\"blue\",\"blue\",\"blue\",\"blue\",\"blue\",\"blue\",\"blue\",\"blue\",\"blue\",\"blue\",\"blue\",\"blue\",\"blue\",\"blue\",\"blue\",\"blue\",\"blue\",\"blue\",\"blue\",\"blue\",\"blue\",\"blue\",\"blue\",\"blue\",\"blue\",\"blue\",\"blue\",\"blue\",\"blue\",\"blue\",\"blue\",\"blue\",\"blue\",\"blue\",\"blue\",\"blue\",\"blue\",\"blue\",\"blue\",\"blue\",\"blue\",\"blue\",\"blue\",\"blue\",\"blue\",\"blue\",\"blue\",\"blue\",\"blue\",\"blue\",\"blue\",\"blue\",\"blue\",\"blue\",\"blue\",\"blue\",\"blue\",\"blue\",\"blue\",\"blue\",\"blue\",\"blue\",\"blue\",\"blue\",\"blue\",\"blue\",\"blue\",\"blue\",\"blue\",\"blue\",\"blue\",\"blue\",\"blue\",\"blue\",\"blue\",\"blue\",\"blue\",\"blue\",\"blue\",\"blue\",\"blue\",\"blue\",\"blue\",\"blue\",\"blue\",\"blue\",\"blue\",\"blue\",\"blue\",\"blue\",\"blue\",\"blue\",\"blue\",\"blue\",\"blue\",\"blue\",\"blue\",\"blue\",\"blue\",\"blue\",\"blue\",\"blue\",\"blue\",\"blue\",\"blue\",\"blue\",\"blue\",\"blue\",\"blue\",\"blue\",\"blue\",\"blue\",\"blue\",\"blue\",\"blue\",\"blue\",\"blue\",\"blue\",\"blue\",\"blue\",\"blue\",\"blue\",\"blue\",\"blue\",\"blue\",\"blue\",\"blue\",\"blue\",\"blue\",\"blue\",\"blue\",\"blue\",\"blue\",\"blue\",\"blue\",\"blue\",\"blue\",\"blue\",\"blue\",\"blue\",\"blue\",\"blue\",\"blue\",\"blue\",\"blue\",\"blue\",\"blue\",\"blue\",\"blue\",\"blue\",\"blue\",\"blue\",\"blue\",\"blue\",\"blue\",\"blue\",\"blue\",\"blue\",\"blue\",\"blue\",\"blue\",\"blue\",\"blue\",\"blue\",\"blue\",\"blue\",\"blue\",\"blue\",\"blue\",\"blue\",\"blue\",\"blue\",\"blue\",\"blue\",\"blue\",\"blue\",\"blue\",\"blue\",\"blue\",\"blue\",\"blue\",\"blue\",\"blue\",\"blue\",\"blue\",\"blue\",\"blue\",\"blue\",\"blue\",\"blue\",\"blue\",\"blue\",\"blue\",\"blue\",\"blue\",\"blue\",\"blue\",\"blue\",\"blue\",\"blue\",\"blue\",\"blue\",\"blue\",\"blue\",\"blue\",\"blue\",\"blue\",\"blue\",\"blue\",\"blue\",\"blue\",\"blue\",\"blue\",\"blue\",\"blue\",\"blue\",\"blue\",\"blue\",\"blue\",\"blue\",\"blue\",\"blue\",\"blue\",\"blue\",\"blue\",\"blue\",\"blue\",\"blue\",\"blue\",\"blue\",\"blue\",\"blue\",\"blue\",\"blue\",\"blue\",\"blue\",\"blue\",\"blue\",\"blue\",\"blue\",\"blue\",\"blue\",\"blue\",\"blue\",\"blue\",\"blue\",\"blue\",\"blue\",\"blue\",\"blue\",\"blue\",\"blue\",\"blue\",\"blue\",\"blue\",\"blue\",\"blue\",\"blue\",\"blue\",\"blue\",\"blue\",\"blue\",\"blue\",\"blue\",\"blue\",\"blue\",\"blue\",\"blue\",\"blue\",\"blue\",\"blue\",\"blue\",\"blue\",\"blue\",\"blue\",\"blue\",\"blue\",\"blue\",\"blue\",\"blue\",\"blue\",\"blue\",\"blue\",\"blue\",\"blue\",\"blue\",\"blue\",\"blue\",\"blue\",\"blue\",\"blue\",\"blue\",\"blue\",\"blue\",\"blue\",\"blue\",\"blue\",\"blue\",\"blue\",\"blue\",\"blue\",\"blue\",\"blue\",\"blue\",\"blue\",\"blue\",\"blue\",\"blue\",\"blue\",\"blue\",\"blue\",\"blue\",\"blue\",\"blue\",\"blue\",\"blue\",\"blue\",\"blue\",\"blue\",\"blue\",\"blue\",\"blue\",\"blue\",\"blue\",\"blue\",\"blue\",\"blue\",\"blue\",\"blue\",\"blue\",\"blue\",\"blue\",\"blue\",\"blue\",\"blue\",\"blue\",\"blue\",\"blue\",\"blue\",\"blue\",\"blue\",\"blue\",\"blue\",\"blue\",\"blue\",\"blue\",\"blue\",\"blue\",\"blue\",\"blue\",\"blue\",\"blue\",\"blue\",\"blue\",\"blue\",\"blue\",\"blue\",\"blue\",\"blue\",\"blue\",\"blue\",\"blue\",\"blue\",\"blue\",\"blue\",\"blue\",\"blue\",\"blue\",\"blue\",\"blue\",\"blue\",\"blue\",\"blue\",\"blue\",\"blue\",\"blue\",\"blue\",\"blue\",\"blue\",\"blue\",\"blue\",\"blue\",\"blue\",\"blue\",\"blue\",\"blue\",\"blue\",\"blue\",\"blue\",\"blue\",\"blue\",\"blue\",\"blue\",\"blue\",\"blue\",\"blue\",\"blue\",\"blue\",\"blue\",\"blue\",\"blue\",\"blue\",\"blue\",\"blue\",\"blue\",\"blue\",\"blue\",\"blue\",\"blue\",\"blue\",\"blue\",\"blue\",\"blue\",\"blue\",\"blue\",\"blue\",\"blue\",\"blue\",\"blue\",\"blue\",\"blue\",\"blue\",\"blue\",\"blue\",\"blue\",\"blue\",\"blue\",\"blue\",\"blue\",\"blue\",\"blue\",\"blue\",\"blue\",\"blue\",\"blue\",\"blue\",\"blue\",\"blue\",\"blue\",\"blue\",\"blue\",\"blue\",\"blue\",\"blue\",\"blue\",\"blue\",\"blue\",\"blue\",\"blue\",\"blue\",\"blue\",\"blue\",\"blue\",\"blue\",\"blue\",\"blue\",\"blue\",\"blue\",\"blue\",\"blue\",\"blue\",\"blue\",\"blue\",\"blue\",\"blue\",\"blue\",\"blue\",\"blue\",\"blue\",\"blue\",\"blue\",\"blue\",\"blue\",\"blue\",\"blue\",\"blue\",\"blue\",\"blue\",\"blue\",\"blue\",\"blue\",\"blue\",\"blue\",\"blue\",\"blue\",\"blue\",\"blue\",\"blue\",\"blue\",\"blue\",\"blue\",\"blue\",\"blue\",\"blue\",\"blue\",\"blue\",\"blue\",\"blue\",\"blue\",\"blue\",\"blue\",\"blue\",\"blue\",\"blue\",\"blue\",\"blue\",\"blue\",\"blue\",\"blue\",\"blue\",\"blue\",\"blue\",\"blue\",\"blue\",\"blue\",\"blue\",\"blue\",\"blue\",\"blue\",\"blue\",\"blue\",\"blue\",\"blue\",\"blue\",\"blue\",\"blue\",\"blue\",\"blue\",\"blue\",\"blue\",\"blue\",\"blue\",\"blue\",\"blue\",\"blue\",\"blue\",\"blue\",\"blue\",\"blue\",\"blue\",\"blue\",\"blue\",\"blue\",\"blue\",\"blue\",\"blue\",\"blue\",\"blue\",\"blue\",\"blue\",\"blue\",\"blue\",\"blue\",\"blue\",\"blue\",\"blue\",\"blue\",\"blue\",\"blue\",\"blue\",\"blue\",\"blue\",\"blue\",\"blue\",\"blue\",\"blue\",\"blue\",\"blue\",\"blue\",\"blue\",\"blue\",\"blue\",\"blue\",\"blue\",\"blue\",\"blue\",\"blue\",\"blue\",\"blue\",\"blue\",\"blue\",\"blue\",\"blue\",\"blue\",\"blue\",\"blue\",\"blue\",\"blue\",\"blue\",\"blue\",\"blue\",\"blue\",\"blue\",\"blue\",\"blue\",\"blue\",\"blue\",\"blue\",\"blue\",\"blue\",\"blue\",\"blue\",\"blue\",\"blue\",\"blue\",\"blue\",\"blue\",\"blue\",\"blue\",\"blue\",\"blue\",\"blue\",\"blue\",\"blue\",\"blue\",\"blue\",\"blue\",\"blue\",\"blue\",\"blue\",\"blue\",\"blue\",\"blue\",\"blue\",\"blue\",\"blue\",\"blue\",\"blue\",\"blue\",\"blue\",\"blue\",\"blue\",\"blue\",\"blue\",\"blue\",\"blue\",\"blue\",\"blue\",\"blue\",\"blue\",\"blue\",\"blue\",\"blue\",\"blue\",\"blue\",\"blue\",\"blue\",\"blue\",\"blue\",\"blue\",\"blue\",\"blue\",\"blue\",\"blue\",\"blue\",\"blue\",\"blue\",\"blue\",\"blue\",\"blue\",\"blue\",\"blue\",\"blue\",\"blue\",\"blue\",\"blue\",\"blue\",\"blue\",\"blue\",\"blue\",\"blue\",\"blue\",\"blue\",\"blue\",\"blue\",\"blue\",\"blue\",\"blue\",\"blue\",\"blue\",\"blue\",\"blue\",\"blue\",\"blue\",\"blue\",\"blue\",\"blue\",\"blue\",\"blue\",\"blue\",\"blue\",\"blue\",\"blue\",\"blue\",\"blue\",\"blue\",\"blue\",\"blue\",\"blue\",\"blue\",\"blue\",\"blue\",\"blue\",\"blue\",\"blue\",\"blue\",\"blue\",\"blue\",\"blue\",\"blue\",\"blue\",\"blue\",\"blue\",\"blue\",\"blue\",\"blue\",\"blue\",\"blue\",\"blue\",\"blue\",\"blue\",\"blue\",\"blue\",\"blue\",\"blue\",\"blue\",\"blue\",\"blue\",\"blue\",\"blue\",\"blue\",\"blue\",\"blue\",\"blue\",\"blue\",\"blue\",\"blue\",\"blue\",\"blue\",\"blue\",\"blue\",\"blue\",\"blue\",\"blue\",\"blue\",\"blue\",\"blue\",\"blue\",\"blue\",\"blue\",\"blue\",\"blue\",\"blue\",\"blue\",\"blue\",\"blue\",\"blue\",\"blue\",\"blue\",\"blue\",\"blue\",\"blue\",\"blue\",\"blue\",\"blue\",\"blue\",\"blue\",\"blue\",\"blue\",\"blue\",\"blue\",\"blue\",\"blue\",\"blue\",\"blue\",\"blue\",\"blue\",\"blue\",\"blue\",\"blue\",\"blue\",\"blue\",\"blue\",\"blue\",\"blue\",\"blue\",\"blue\",\"blue\",\"blue\",\"blue\",\"blue\",\"blue\",\"blue\",\"blue\",\"blue\",\"blue\",\"blue\",\"blue\",\"blue\",\"blue\",\"blue\",\"blue\",\"blue\",\"blue\",\"blue\",\"blue\",\"blue\",\"blue\",\"blue\",\"blue\",\"blue\",\"blue\",\"blue\",\"blue\",\"blue\",\"blue\",\"blue\",\"blue\",\"blue\",\"blue\",\"blue\",\"blue\",\"blue\",\"blue\",\"blue\",\"blue\",\"blue\",\"blue\",\"blue\",\"blue\",\"blue\",\"blue\",\"blue\",\"blue\",\"blue\",\"blue\",\"blue\",\"blue\",\"blue\",\"blue\",\"blue\",\"blue\",\"blue\",\"blue\",\"blue\",\"blue\",\"blue\",\"blue\",\"blue\",\"blue\",\"blue\",\"blue\",\"blue\",\"blue\",\"blue\",\"blue\",\"blue\",\"blue\",\"blue\",\"blue\",\"blue\",\"blue\",\"blue\",\"blue\",\"blue\",\"blue\",\"blue\",\"blue\",\"blue\",\"blue\",\"blue\",\"blue\",\"blue\",\"blue\",\"blue\",\"blue\",\"blue\",\"blue\",\"blue\",\"blue\",\"blue\",\"blue\",\"blue\",\"blue\",\"blue\",\"blue\",\"blue\",\"blue\",\"blue\",\"blue\",\"blue\",\"blue\",\"blue\",\"blue\",\"blue\",\"blue\",\"blue\",\"blue\",\"blue\",\"blue\",\"blue\",\"blue\",\"blue\",\"blue\",\"blue\",\"blue\",\"blue\",\"blue\",\"blue\",\"blue\",\"blue\",\"blue\",\"blue\",\"blue\",\"blue\",\"blue\",\"blue\",\"blue\",\"blue\",\"blue\",\"blue\",\"blue\",\"blue\",\"blue\",\"blue\",\"blue\",\"blue\",\"blue\",\"blue\",\"blue\",\"blue\",\"blue\",\"blue\",\"blue\",\"blue\",\"blue\",\"blue\",\"blue\",\"blue\",\"blue\",\"blue\",\"blue\",\"blue\",\"blue\",\"blue\",\"blue\",\"blue\",\"blue\",\"blue\",\"blue\",\"blue\",\"blue\",\"blue\",\"blue\",\"blue\",\"blue\",\"blue\",\"blue\",\"blue\",\"blue\",\"blue\",\"blue\",\"blue\",\"blue\",\"blue\",\"blue\",\"blue\",\"blue\",\"blue\",\"blue\",\"blue\",\"blue\",\"blue\",\"blue\",\"blue\",\"blue\",\"blue\",\"blue\",\"blue\",\"blue\",\"blue\",\"blue\",\"blue\",\"blue\",\"blue\",\"blue\",\"blue\",\"blue\",\"blue\",\"blue\",\"blue\",\"blue\",\"blue\",\"blue\",\"blue\",\"blue\",\"blue\",\"blue\",\"blue\",\"blue\",\"blue\",\"blue\",\"blue\",\"blue\",\"blue\",\"blue\",\"blue\",\"blue\",\"blue\",\"blue\",\"blue\",\"blue\",\"blue\",\"blue\",\"blue\",\"blue\",\"blue\",\"blue\",\"blue\",\"blue\",\"blue\",\"blue\",\"blue\",\"blue\",\"blue\",\"blue\",\"blue\",\"blue\",\"blue\",\"blue\",\"blue\",\"blue\",\"blue\",\"blue\",\"blue\",\"blue\",\"blue\",\"blue\",\"blue\",\"blue\",\"blue\",\"blue\",\"blue\",\"blue\",\"blue\",\"blue\",\"blue\",\"blue\",\"blue\",\"blue\",\"blue\",\"blue\",\"blue\",\"blue\",\"blue\",\"blue\",\"blue\",\"blue\",\"blue\",\"blue\",\"blue\",\"blue\",\"blue\",\"blue\",\"blue\",\"blue\",\"blue\",\"blue\",\"blue\",\"blue\",\"blue\",\"blue\",\"blue\",\"blue\",\"blue\",\"blue\",\"blue\",\"blue\",\"blue\",\"blue\",\"blue\",\"blue\",\"blue\",\"blue\",\"blue\",\"blue\",\"blue\",\"blue\",\"blue\",\"blue\",\"blue\",\"blue\",\"blue\",\"blue\",\"blue\",\"blue\",\"blue\",\"blue\",\"blue\",\"blue\",\"blue\",\"blue\",\"blue\",\"blue\",\"blue\",\"blue\",\"blue\",\"blue\",\"blue\",\"blue\",\"blue\",\"blue\",\"blue\",\"blue\",\"blue\",\"blue\",\"blue\",\"blue\",\"blue\",\"blue\",\"blue\",\"blue\",\"blue\",\"blue\",\"blue\",\"blue\",\"blue\",\"blue\",\"blue\",\"blue\",\"blue\",\"blue\",\"blue\",\"blue\",\"blue\",\"blue\",\"blue\",\"blue\",\"blue\",\"blue\",\"blue\",\"blue\",\"blue\",\"blue\",\"blue\",\"blue\",\"blue\",\"blue\",\"blue\",\"blue\",\"blue\",\"blue\",\"blue\",\"blue\",\"blue\",\"blue\",\"blue\",\"blue\",\"blue\",\"blue\",\"blue\",\"blue\",\"blue\",\"blue\",\"blue\",\"blue\",\"blue\",\"blue\",\"blue\",\"blue\",\"blue\",\"blue\",\"blue\",\"blue\",\"blue\",\"blue\",\"blue\",\"blue\",\"blue\",\"blue\",\"blue\",\"blue\",\"blue\",\"blue\",\"blue\",\"blue\",\"blue\",\"blue\",\"blue\",\"blue\",\"blue\",\"blue\",\"blue\",\"blue\",\"blue\",\"blue\",\"blue\",\"blue\",\"blue\",\"blue\",\"blue\",\"blue\",\"blue\",\"blue\",\"blue\",\"blue\",\"blue\",\"blue\",\"blue\",\"blue\",\"blue\",\"blue\",\"blue\",\"blue\",\"blue\",\"blue\",\"blue\",\"blue\",\"blue\",\"blue\",\"blue\",\"blue\",\"blue\",\"blue\",\"blue\",\"blue\",\"blue\",\"blue\",\"blue\",\"blue\",\"blue\",\"blue\",\"blue\",\"blue\",\"blue\",\"blue\",\"blue\",\"blue\",\"blue\",\"blue\",\"blue\",\"blue\",\"blue\",\"blue\",\"blue\",\"blue\",\"blue\",\"blue\",\"blue\",\"blue\",\"blue\",\"blue\",\"blue\",\"blue\",\"blue\",\"blue\",\"blue\",\"blue\",\"blue\",\"blue\",\"blue\",\"blue\",\"blue\",\"blue\",\"blue\",\"blue\",\"blue\",\"blue\",\"blue\",\"blue\",\"blue\",\"blue\",\"blue\",\"blue\",\"blue\",\"blue\",\"blue\",\"blue\",\"blue\",\"blue\",\"blue\",\"blue\",\"blue\",\"blue\",\"blue\",\"blue\",\"blue\",\"blue\",\"blue\",\"blue\",\"blue\",\"blue\",\"blue\",\"blue\",\"blue\",\"blue\",\"blue\",\"blue\",\"blue\",\"blue\",\"blue\",\"blue\",\"blue\",\"blue\",\"blue\",\"blue\",\"blue\",\"blue\",\"blue\",\"blue\",\"blue\",\"blue\",\"blue\",\"blue\",\"blue\",\"blue\",\"blue\",\"blue\",\"blue\",\"blue\",\"blue\",\"blue\",\"blue\",\"blue\",\"blue\",\"blue\",\"blue\",\"blue\",\"blue\",\"blue\",\"blue\",\"blue\",\"blue\",\"blue\",\"blue\",\"blue\",\"blue\",\"blue\",\"blue\",\"blue\",\"blue\",\"blue\",\"blue\",\"blue\",\"blue\",\"blue\",\"blue\",\"blue\",\"blue\",\"blue\",\"blue\",\"blue\",\"blue\",\"blue\",\"blue\",\"blue\",\"blue\",\"blue\",\"blue\",\"blue\",\"blue\",\"blue\",\"blue\",\"blue\",\"blue\",\"blue\",\"blue\",\"blue\",\"blue\",\"blue\",\"blue\",\"blue\",\"blue\",\"blue\",\"blue\",\"blue\",\"blue\",\"blue\",\"blue\",\"blue\",\"blue\",\"blue\",\"blue\",\"blue\",\"blue\",\"blue\",\"blue\",\"blue\",\"blue\",\"blue\",\"blue\",\"blue\",\"blue\",\"blue\",\"blue\",\"blue\",\"blue\",\"blue\",\"blue\",\"blue\",\"blue\",\"blue\",\"blue\",\"blue\",\"blue\",\"blue\",\"blue\",\"blue\",\"blue\",\"blue\",\"blue\",\"blue\",\"blue\",\"blue\",\"blue\",\"blue\",\"blue\",\"blue\",\"blue\",\"blue\",\"blue\",\"blue\",\"blue\",\"blue\",\"blue\",\"blue\",\"blue\",\"blue\",\"blue\",\"blue\",\"blue\",\"blue\",\"blue\",\"blue\",\"blue\",\"blue\",\"blue\",\"blue\",\"blue\",\"blue\",\"blue\",\"blue\",\"blue\",\"blue\",\"blue\",\"blue\",\"blue\",\"blue\",\"blue\",\"blue\",\"blue\",\"blue\",\"blue\",\"blue\",\"blue\",\"blue\",\"blue\",\"blue\",\"blue\",\"blue\",\"blue\",\"blue\",\"blue\",\"blue\",\"blue\",\"blue\",\"blue\",\"blue\",\"blue\",\"blue\",\"blue\",\"blue\",\"blue\",\"blue\",\"blue\",\"blue\",\"blue\",\"blue\",\"blue\",\"blue\",\"blue\",\"blue\",\"blue\",\"blue\",\"blue\",\"blue\",\"blue\",\"blue\",\"blue\",\"blue\",\"blue\",\"blue\",\"blue\",\"blue\",\"blue\",\"blue\",\"blue\",\"blue\",\"blue\",\"blue\",\"blue\",\"blue\",\"blue\",\"blue\",\"blue\",\"blue\",\"blue\",\"blue\",\"blue\",\"blue\",\"blue\",\"blue\",\"blue\",\"blue\",\"blue\",\"blue\",\"blue\",\"blue\",\"blue\",\"blue\",\"blue\",\"blue\",\"blue\",\"blue\",\"blue\",\"blue\",\"blue\",\"blue\",\"blue\",\"blue\",\"blue\",\"blue\",\"blue\",\"blue\",\"blue\",\"blue\",\"blue\",\"blue\",\"blue\",\"blue\",\"blue\",\"blue\",\"blue\",\"blue\",\"blue\",\"blue\",\"blue\",\"blue\",\"blue\",\"blue\",\"blue\",\"blue\",\"blue\",\"blue\",\"blue\",\"blue\",\"blue\",\"blue\",\"blue\",\"blue\",\"blue\",\"blue\",\"blue\",\"blue\",\"blue\",\"blue\",\"blue\",\"blue\",\"blue\",\"blue\",\"blue\",\"blue\",\"blue\",\"blue\",\"blue\",\"blue\",\"blue\",\"blue\",\"blue\",\"blue\",\"blue\",\"blue\",\"blue\",\"blue\",\"blue\",\"blue\",\"blue\",\"blue\",\"blue\",\"blue\",\"blue\",\"blue\",\"blue\",\"blue\",\"blue\",\"blue\",\"blue\",\"blue\",\"blue\",\"blue\",\"blue\",\"blue\",\"blue\",\"blue\",\"blue\",\"blue\",\"blue\",\"blue\",\"blue\",\"blue\",\"blue\",\"blue\",\"blue\",\"blue\",\"blue\",\"blue\",\"blue\",\"blue\",\"blue\",\"blue\",\"blue\",\"blue\",\"blue\",\"blue\",\"blue\",\"blue\",\"blue\",\"blue\",\"blue\",\"blue\",\"blue\",\"blue\",\"blue\",\"blue\",\"blue\",\"blue\",\"blue\",\"blue\",\"blue\",\"blue\",\"blue\",\"blue\",\"blue\",\"blue\",\"blue\",\"blue\",\"blue\",\"blue\",\"blue\",\"blue\",\"blue\",\"blue\",\"blue\",\"blue\",\"blue\",\"blue\",\"blue\",\"blue\",\"blue\",\"blue\",\"blue\",\"blue\",\"blue\",\"blue\",\"blue\",\"blue\",\"blue\",\"blue\",\"blue\",\"blue\",\"blue\",\"blue\",\"blue\",\"blue\",\"blue\",\"blue\",\"blue\",\"blue\",\"blue\",\"blue\",\"blue\",\"blue\",\"blue\",\"blue\",\"blue\",\"blue\",\"blue\",\"blue\",\"blue\",\"blue\",\"blue\",\"blue\",\"blue\",\"blue\",\"blue\",\"blue\",\"blue\",\"blue\",\"blue\",\"blue\",\"blue\",\"blue\",\"blue\",\"blue\",\"blue\",\"blue\",\"blue\",\"blue\",\"blue\",\"blue\",\"blue\",\"blue\",\"blue\",\"blue\",\"blue\",\"blue\",\"blue\",\"blue\",\"blue\",\"blue\",\"blue\",\"blue\",\"blue\",\"blue\",\"blue\",\"blue\",\"blue\",\"blue\",\"blue\",\"blue\",\"blue\",\"blue\",\"blue\",\"blue\",\"blue\",\"blue\",\"blue\",\"blue\",\"blue\",\"blue\",\"blue\",\"blue\",\"blue\",\"blue\",\"blue\",\"blue\",\"blue\",\"blue\",\"blue\",\"blue\",\"blue\",\"blue\",\"blue\",\"blue\",\"blue\",\"blue\",\"blue\",\"blue\",\"blue\",\"blue\",\"blue\",\"blue\",\"blue\",\"blue\",\"blue\",\"blue\",\"blue\",\"blue\",\"blue\",\"blue\",\"blue\",\"blue\",\"blue\",\"blue\",\"blue\",\"blue\",\"blue\",\"blue\",\"blue\",\"blue\",\"blue\",\"blue\",\"blue\",\"blue\",\"blue\",\"blue\",\"blue\",\"blue\",\"blue\",\"blue\",\"blue\",\"blue\",\"blue\",\"blue\",\"blue\",\"blue\",\"blue\",\"blue\",\"blue\",\"blue\",\"blue\",\"blue\",\"blue\",\"blue\",\"blue\",\"blue\",\"blue\",\"blue\",\"blue\",\"blue\",\"blue\",\"blue\",\"blue\",\"blue\",\"blue\",\"blue\",\"blue\",\"blue\",\"blue\",\"blue\",\"blue\",\"blue\",\"blue\",\"blue\",\"blue\",\"blue\",\"blue\",\"blue\",\"blue\",\"blue\",\"blue\",\"blue\",\"blue\",\"blue\",\"blue\",\"blue\",\"blue\",\"blue\",\"blue\",\"blue\",\"blue\",\"blue\",\"blue\",\"blue\",\"blue\",\"blue\",\"blue\",\"blue\",\"blue\",\"blue\",\"blue\",\"blue\",\"blue\",\"blue\",\"blue\",\"blue\",\"blue\",\"blue\",\"blue\",\"blue\",\"blue\",\"blue\",\"blue\",\"blue\",\"blue\",\"blue\",\"blue\",\"blue\",\"blue\",\"blue\",\"blue\",\"blue\",\"blue\",\"blue\",\"blue\",\"blue\",\"blue\",\"blue\",\"blue\",\"blue\",\"blue\",\"blue\",\"blue\",\"blue\",\"blue\",\"blue\",\"blue\",\"blue\",\"blue\",\"blue\",\"blue\",\"blue\",\"blue\",\"blue\",\"blue\",\"blue\",\"blue\",\"blue\",\"blue\",\"blue\",\"blue\",\"blue\",\"blue\",\"blue\",\"blue\",\"blue\",\"blue\",\"blue\",\"blue\",\"blue\",\"blue\",\"blue\",\"blue\",\"blue\",\"blue\",\"blue\",\"blue\",\"blue\",\"blue\",\"blue\",\"blue\",\"blue\",\"blue\",\"blue\",\"blue\",\"blue\",\"blue\",\"blue\",\"blue\",\"blue\",\"blue\",\"blue\",\"blue\",\"blue\",\"blue\",\"blue\",\"blue\",\"blue\",\"blue\",\"blue\",\"blue\",\"blue\",\"blue\",\"blue\",\"blue\",\"blue\",\"blue\",\"blue\",\"blue\",\"blue\",\"blue\",\"blue\",\"blue\",\"blue\",\"blue\",\"blue\",\"blue\",\"blue\",\"blue\",\"blue\",\"blue\",\"blue\",\"blue\",\"blue\",\"blue\",\"blue\",\"blue\",\"blue\",\"blue\",\"blue\",\"blue\",\"blue\",\"blue\",\"blue\",\"blue\",\"blue\",\"blue\",\"blue\",\"blue\",\"blue\",\"blue\",\"blue\",\"blue\",\"blue\",\"blue\",\"blue\",\"blue\",\"blue\",\"blue\",\"blue\",\"blue\",\"blue\",\"blue\",\"blue\",\"blue\",\"blue\",\"blue\",\"blue\",\"blue\",\"blue\",\"blue\",\"blue\",\"blue\",\"blue\",\"blue\",\"blue\",\"blue\",\"blue\",\"blue\",\"blue\",\"blue\",\"blue\",\"blue\",\"blue\",\"blue\",\"blue\",\"blue\",\"blue\",\"blue\",\"blue\",\"blue\",\"blue\",\"blue\",\"blue\",\"blue\",\"blue\",\"blue\",\"blue\",\"blue\",\"blue\",\"blue\",\"blue\",\"blue\",\"blue\",\"blue\",\"blue\",\"blue\",\"blue\",\"blue\",\"blue\",\"blue\",\"blue\",\"blue\",\"blue\",\"blue\",\"blue\",\"blue\",\"blue\",\"blue\",\"blue\",\"blue\",\"blue\",\"blue\",\"blue\",\"blue\",\"blue\",\"blue\",\"blue\",\"blue\",\"blue\",\"blue\",\"blue\",\"blue\",\"blue\",\"blue\",\"blue\",\"blue\",\"blue\",\"blue\",\"blue\",\"blue\",\"blue\",\"blue\",\"blue\",\"blue\",\"blue\",\"blue\",\"blue\",\"blue\",\"blue\",\"blue\",\"blue\",\"blue\",\"blue\",\"blue\",\"blue\",\"blue\",\"blue\",\"blue\",\"blue\",\"blue\",\"blue\",\"blue\",\"blue\",\"blue\",\"blue\",\"blue\",\"blue\",\"blue\",\"blue\",\"blue\",\"blue\",\"blue\",\"blue\",\"blue\",\"blue\",\"blue\",\"blue\",\"blue\",\"blue\",\"blue\",\"blue\",\"blue\",\"blue\",\"blue\",\"blue\",\"blue\",\"blue\",\"blue\",\"blue\",\"blue\",\"blue\",\"blue\",\"blue\",\"blue\",\"blue\",\"blue\",\"blue\",\"blue\",\"blue\",\"blue\",\"blue\",\"blue\",\"blue\",\"blue\",\"blue\",\"blue\",\"blue\",\"blue\",\"blue\",\"blue\",\"blue\",\"blue\",\"blue\",\"blue\",\"blue\",\"blue\",\"blue\",\"blue\",\"blue\",\"blue\",\"blue\",\"blue\",\"blue\",\"blue\",\"blue\",\"blue\",\"blue\",\"blue\",\"blue\",\"blue\",\"blue\",\"blue\",\"blue\",\"blue\",\"blue\",\"blue\",\"blue\",\"blue\",\"blue\",\"blue\",\"blue\",\"blue\",\"blue\",\"blue\",\"blue\",\"blue\",\"blue\",\"blue\",\"blue\",\"blue\",\"blue\",\"blue\",\"blue\",\"blue\",\"blue\",\"blue\",\"blue\",\"blue\",\"blue\",\"blue\",\"blue\",\"blue\",\"blue\",\"blue\",\"blue\",\"blue\",\"blue\",\"blue\",\"blue\",\"blue\",\"blue\",\"blue\",\"blue\",\"blue\",\"blue\",\"blue\",\"blue\",\"blue\",\"blue\",\"blue\",\"blue\",\"blue\",\"blue\",\"blue\",\"blue\",\"blue\",\"blue\",\"blue\",\"blue\",\"blue\",\"blue\",\"blue\",\"blue\",\"blue\",\"blue\",\"blue\",\"blue\",\"blue\",\"blue\",\"blue\",\"blue\",\"blue\",\"blue\",\"blue\",\"blue\",\"blue\",\"blue\",\"blue\",\"blue\",\"blue\",\"blue\",\"blue\",\"blue\",\"blue\",\"blue\",\"blue\",\"blue\",\"blue\",\"blue\",\"blue\",\"blue\",\"blue\",\"blue\",\"blue\",\"blue\",\"blue\",\"blue\",\"blue\",\"blue\",\"blue\",\"blue\",\"blue\",\"blue\",\"blue\",\"blue\",\"blue\",\"blue\",\"blue\",\"blue\",\"blue\",\"blue\",\"blue\",\"blue\",\"blue\",\"blue\",\"blue\",\"blue\",\"blue\",\"blue\",\"blue\",\"blue\",\"blue\",\"blue\",\"blue\",\"blue\",\"blue\",\"blue\",\"blue\",\"blue\",\"blue\",\"blue\",\"blue\",\"blue\",\"blue\",\"blue\",\"blue\",\"blue\",\"blue\",\"blue\",\"blue\",\"blue\",\"blue\",\"blue\",\"blue\",\"blue\",\"blue\",\"blue\",\"blue\",\"blue\",\"blue\",\"blue\",\"blue\",\"blue\",\"blue\",\"blue\",\"blue\",\"blue\",\"blue\",\"blue\",\"blue\",\"blue\",\"blue\",\"blue\",\"blue\",\"blue\",\"blue\",\"blue\",\"blue\",\"blue\",\"blue\",\"blue\",\"blue\",\"blue\",\"blue\",\"blue\",\"blue\",\"blue\",\"blue\",\"blue\",\"blue\",\"blue\",\"blue\",\"blue\",\"blue\",\"blue\",\"blue\",\"blue\",\"blue\",\"blue\",\"blue\",\"blue\",\"blue\",\"blue\",\"blue\",\"blue\",\"blue\",\"blue\",\"blue\",\"blue\",\"blue\",\"blue\",\"blue\",\"blue\",\"blue\",\"blue\",\"blue\",\"blue\",\"blue\",\"blue\",\"blue\",\"blue\",\"blue\",\"blue\",\"blue\",\"blue\",\"blue\",\"blue\",\"blue\",\"blue\",\"blue\",\"blue\",\"blue\",\"blue\",\"blue\",\"blue\",\"blue\",\"blue\",\"blue\",\"blue\",\"blue\",\"blue\",\"blue\",\"blue\",\"blue\",\"blue\",\"blue\",\"blue\",\"blue\",\"blue\",\"blue\",\"blue\",\"blue\",\"blue\",\"blue\",\"blue\",\"blue\",\"blue\",\"blue\",\"blue\",\"blue\",\"blue\",\"blue\",\"blue\",\"blue\",\"blue\",\"blue\",\"blue\",\"blue\",\"blue\",\"blue\",\"blue\",\"blue\",\"blue\",\"blue\",\"blue\",\"blue\",\"blue\",\"blue\",\"blue\",\"blue\",\"blue\",\"blue\",\"blue\",\"blue\",\"blue\",\"blue\",\"blue\",\"blue\",\"blue\",\"blue\",\"blue\",\"blue\",\"blue\",\"blue\",\"blue\",\"blue\",\"blue\",\"blue\",\"blue\",\"blue\",\"blue\",\"blue\",\"blue\",\"blue\",\"blue\",\"blue\",\"blue\",\"blue\",\"blue\",\"blue\",\"blue\",\"blue\",\"blue\",\"blue\",\"blue\",\"blue\",\"blue\",\"blue\",\"blue\",\"blue\",\"blue\",\"blue\",\"blue\",\"blue\",\"blue\",\"blue\",\"blue\",\"blue\",\"blue\",\"blue\",\"blue\",\"blue\",\"blue\",\"blue\",\"blue\",\"blue\",\"blue\",\"blue\",\"blue\",\"blue\",\"blue\",\"blue\",\"blue\",\"blue\",\"blue\",\"blue\",\"blue\",\"blue\",\"blue\",\"blue\",\"blue\",\"blue\",\"blue\",\"blue\",\"blue\",\"blue\",\"blue\",\"blue\",\"blue\",\"blue\",\"blue\",\"blue\",\"blue\",\"blue\",\"blue\",\"blue\",\"blue\",\"blue\",\"blue\",\"blue\",\"blue\",\"blue\",\"blue\",\"blue\",\"blue\",\"blue\",\"blue\",\"blue\",\"blue\",\"blue\",\"blue\",\"blue\",\"blue\",\"blue\",\"blue\",\"blue\",\"blue\",\"blue\",\"blue\",\"blue\",\"blue\",\"blue\",\"blue\",\"blue\",\"blue\",\"blue\",\"blue\",\"blue\",\"blue\",\"blue\",\"blue\",\"blue\",\"blue\",\"blue\",\"blue\",\"blue\",\"blue\",\"blue\",\"blue\",\"blue\",\"blue\",\"blue\",\"blue\",\"blue\",\"blue\",\"blue\",\"blue\",\"blue\",\"blue\",\"blue\",\"blue\",\"blue\",\"blue\",\"blue\",\"blue\",\"blue\",\"blue\",\"blue\",\"blue\",\"blue\",\"blue\",\"blue\",\"blue\",\"blue\",\"blue\",\"blue\",\"blue\",\"blue\",\"blue\",\"blue\",\"blue\",\"blue\",\"blue\",\"blue\",\"blue\",\"blue\",\"blue\",\"blue\",\"blue\",\"blue\",\"blue\",\"blue\",\"blue\",\"blue\",\"blue\",\"blue\",\"blue\",\"blue\",\"blue\",\"blue\",\"blue\",\"blue\",\"blue\",\"blue\",\"blue\",\"blue\",\"blue\",\"blue\",\"blue\",\"blue\",\"blue\",\"blue\",\"blue\",\"blue\",\"blue\",\"blue\",\"blue\",\"blue\",\"blue\",\"blue\",\"blue\",\"blue\",\"blue\",\"blue\",\"blue\",\"blue\",\"blue\",\"blue\",\"blue\",\"blue\",\"blue\",\"blue\",\"blue\",\"blue\",\"blue\",\"blue\",\"blue\",\"blue\",\"blue\",\"blue\",\"blue\",\"blue\",\"blue\",\"blue\",\"blue\",\"blue\",\"blue\",\"blue\",\"blue\",\"blue\",\"blue\",\"blue\",\"blue\",\"blue\",\"blue\",\"blue\",\"blue\",\"blue\",\"blue\",\"blue\",\"blue\",\"blue\",\"blue\",\"blue\",\"blue\",\"blue\",\"blue\",\"blue\",\"blue\",\"blue\",\"blue\",\"blue\",\"blue\",\"blue\",\"blue\",\"blue\",\"blue\",\"blue\",\"blue\",\"blue\",\"blue\",\"blue\",\"blue\",\"blue\",\"blue\",\"blue\",\"blue\",\"blue\",\"blue\",\"blue\",\"blue\",\"blue\",\"blue\",\"blue\",\"blue\",\"blue\",\"blue\",\"blue\",\"blue\",\"blue\",\"blue\",\"blue\",\"blue\",\"blue\",\"blue\",\"blue\",\"blue\",\"blue\",\"blue\",\"blue\",\"blue\",\"blue\",\"blue\",\"blue\",\"blue\",\"blue\",\"blue\",\"blue\",\"blue\",\"blue\",\"blue\",\"blue\",\"blue\",\"blue\",\"blue\",\"blue\",\"blue\",\"blue\",\"blue\",\"blue\",\"blue\",\"blue\",\"blue\",\"blue\",\"blue\",\"blue\",\"blue\",\"blue\",\"blue\",\"blue\",\"blue\",\"blue\",\"blue\",\"blue\",\"blue\",\"blue\",\"blue\",\"blue\",\"blue\",\"blue\",\"blue\",\"blue\",\"blue\",\"blue\",\"blue\",\"blue\",\"blue\",\"blue\",\"blue\",\"blue\",\"blue\",\"blue\",\"blue\",\"blue\",\"blue\",\"blue\",\"blue\",\"blue\",\"blue\",\"blue\",\"blue\",\"blue\",\"blue\",\"blue\",\"blue\",\"blue\",\"blue\",\"blue\",\"blue\",\"blue\",\"blue\",\"blue\",\"blue\",\"blue\",\"blue\",\"blue\",\"blue\",\"blue\",\"blue\",\"blue\",\"blue\",\"blue\",\"blue\",\"blue\",\"blue\",\"blue\",\"blue\",\"blue\",\"blue\",\"blue\",\"blue\",\"blue\",\"blue\",\"blue\",\"blue\",\"blue\",\"blue\",\"blue\",\"blue\",\"blue\",\"blue\",\"blue\",\"blue\",\"blue\",\"blue\",\"blue\",\"blue\",\"blue\",\"blue\",\"blue\",\"blue\",\"blue\",\"blue\",\"blue\",\"blue\",\"blue\",\"blue\",\"blue\",\"blue\",\"blue\",\"blue\",\"blue\",\"blue\",\"blue\",\"blue\",\"blue\",\"blue\",\"blue\",\"blue\",\"blue\",\"blue\",\"blue\",\"blue\",\"blue\",\"blue\",\"blue\",\"blue\",\"blue\",\"blue\",\"blue\",\"blue\",\"blue\",\"blue\",\"blue\",\"blue\",\"blue\",\"blue\",\"blue\",\"blue\",\"blue\",\"blue\",\"blue\",\"blue\",\"blue\",\"blue\",\"blue\",\"blue\",\"blue\",\"blue\",\"blue\",\"blue\",\"blue\",\"blue\",\"blue\",\"blue\",\"blue\",\"blue\",\"blue\",\"blue\",\"blue\",\"blue\",\"blue\",\"blue\",\"blue\",\"blue\",\"blue\",\"blue\",\"blue\",\"blue\",\"blue\",\"blue\",\"blue\",\"blue\",\"blue\",\"blue\",\"blue\",\"blue\",\"blue\",\"blue\",\"blue\",\"blue\",\"blue\",\"blue\",\"blue\",\"blue\",\"blue\",\"blue\",\"blue\",\"blue\",\"blue\",\"blue\",\"blue\",\"blue\",\"blue\",\"blue\",\"blue\",\"blue\",\"blue\",\"blue\",\"blue\",\"blue\",\"blue\",\"blue\",\"blue\",\"blue\",\"blue\",\"blue\",\"blue\",\"blue\",\"blue\",\"blue\",\"blue\",\"blue\",\"blue\",\"blue\",\"blue\",\"blue\",\"blue\",\"blue\",\"blue\",\"blue\",\"blue\",\"blue\",\"blue\",\"blue\",\"blue\",\"blue\",\"blue\",\"blue\",\"blue\",\"blue\",\"blue\",\"blue\",\"blue\",\"blue\",\"blue\",\"blue\",\"blue\",\"blue\",\"blue\",\"blue\",\"blue\",\"blue\",\"blue\",\"blue\",\"blue\",\"blue\",\"blue\",\"blue\",\"blue\",\"blue\",\"blue\",\"blue\",\"blue\",\"blue\",\"blue\",\"blue\",\"blue\",\"blue\",\"blue\",\"blue\",\"blue\",\"blue\",\"blue\",\"blue\",\"blue\",\"blue\",\"blue\",\"blue\",\"blue\",\"blue\",\"blue\",\"blue\",\"blue\",\"blue\",\"blue\",\"blue\",\"blue\",\"blue\",\"blue\",\"blue\",\"blue\",\"blue\",\"blue\",\"blue\",\"blue\",\"blue\",\"blue\",\"blue\",\"blue\",\"blue\",\"blue\",\"blue\",\"blue\",\"blue\",\"blue\",\"blue\",\"blue\",\"blue\",\"blue\",\"blue\",\"blue\",\"blue\",\"blue\",\"blue\",\"blue\",\"blue\",\"blue\",\"blue\",\"blue\",\"blue\",\"blue\",\"blue\",\"blue\",\"blue\",\"blue\",\"blue\",\"blue\",\"blue\",\"blue\",\"blue\",\"blue\",\"blue\",\"blue\",\"blue\",\"blue\",\"blue\",\"blue\",\"blue\",\"blue\",\"blue\",\"blue\",\"blue\",\"blue\",\"blue\",\"blue\",\"blue\",\"blue\",\"blue\",\"blue\",\"blue\",\"blue\",\"blue\",\"blue\",\"blue\",\"blue\",\"blue\",\"blue\",\"blue\",\"blue\",\"blue\",\"blue\",\"blue\",\"blue\",\"blue\",\"blue\",\"blue\",\"blue\",\"blue\",\"blue\",\"blue\",\"blue\",\"blue\",\"blue\",\"blue\",\"blue\",\"blue\",\"blue\",\"blue\",\"blue\",\"blue\",\"blue\",\"blue\",\"blue\",\"blue\",\"blue\",\"blue\",\"blue\",\"blue\",\"blue\",\"blue\",\"blue\",\"blue\",\"blue\",\"blue\",\"blue\",\"blue\",\"blue\",\"blue\",\"blue\",\"blue\",\"blue\",\"blue\",\"blue\",\"blue\",\"blue\",\"blue\",\"blue\",\"blue\",\"blue\",\"blue\",\"blue\",\"blue\",\"blue\",\"blue\",\"blue\",\"blue\",\"blue\",\"blue\",\"blue\",\"blue\",\"blue\",\"blue\",\"blue\",\"blue\",\"blue\",\"blue\",\"blue\",\"blue\",\"blue\",\"blue\",\"blue\",\"blue\",\"blue\",\"blue\",\"blue\",\"blue\",\"blue\",\"blue\",\"blue\",\"blue\",\"blue\",\"blue\",\"blue\",\"blue\",\"blue\",\"blue\",\"blue\",\"blue\",\"blue\",\"blue\",\"blue\",\"blue\",\"blue\",\"blue\",\"blue\",\"blue\",\"blue\",\"blue\",\"blue\",\"blue\",\"blue\",\"blue\",\"blue\",\"blue\",\"blue\",\"blue\",\"blue\",\"blue\",\"blue\",\"blue\",\"blue\",\"blue\",\"blue\",\"blue\",\"blue\",\"blue\",\"blue\",\"blue\",\"blue\",\"blue\",\"blue\",\"blue\",\"blue\",\"blue\",\"blue\",\"blue\",\"blue\",\"blue\",\"blue\",\"blue\",\"blue\",\"blue\",\"blue\",\"blue\",\"blue\",\"blue\",\"blue\",\"blue\",\"blue\",\"blue\",\"blue\",\"blue\",\"blue\",\"blue\",\"blue\",\"blue\",\"blue\",\"blue\",\"blue\",\"blue\",\"blue\",\"blue\",\"blue\",\"blue\",\"blue\",\"blue\",\"blue\",\"blue\",\"blue\",\"blue\",\"blue\",\"blue\",\"blue\",\"blue\",\"blue\",\"blue\",\"blue\",\"blue\",\"blue\",\"blue\",\"blue\",\"blue\",\"blue\",\"blue\",\"blue\",\"blue\",\"blue\",\"blue\",\"blue\",\"blue\",\"blue\",\"blue\",\"blue\",\"blue\",\"blue\",\"blue\",\"blue\",\"blue\",\"blue\",\"blue\",\"blue\",\"blue\",\"blue\",\"blue\",\"blue\",\"blue\",\"blue\",\"blue\",\"blue\",\"blue\",\"blue\",\"blue\",\"blue\",\"blue\",\"blue\",\"blue\",\"blue\",\"blue\",\"blue\",\"blue\",\"blue\",\"blue\",\"blue\",\"blue\",\"blue\",\"blue\",\"blue\",\"blue\",\"blue\",\"blue\",\"blue\",\"blue\",\"blue\",\"blue\",\"blue\",\"blue\",\"blue\",\"blue\",\"blue\",\"blue\",\"blue\",\"blue\",\"blue\",\"blue\",\"blue\",\"blue\",\"blue\",\"blue\",\"blue\",\"blue\",\"blue\",\"blue\",\"blue\",\"blue\",\"blue\",\"blue\",\"blue\",\"blue\",\"blue\",\"blue\",\"blue\",\"blue\",\"blue\",\"blue\",\"blue\",\"blue\",\"blue\",\"blue\",\"blue\",\"blue\",\"blue\",\"blue\",\"blue\",\"blue\",\"blue\",\"blue\",\"blue\",\"blue\",\"blue\",\"blue\",\"blue\",\"blue\",\"blue\",\"blue\",\"blue\",\"blue\",\"blue\",\"blue\",\"blue\",\"blue\",\"blue\",\"blue\",\"blue\",\"blue\",\"blue\",\"blue\",\"blue\",\"blue\",\"blue\",\"blue\",\"blue\",\"blue\",\"blue\",\"blue\",\"blue\",\"blue\",\"blue\",\"blue\",\"blue\",\"blue\",\"blue\",\"blue\",\"blue\",\"blue\",\"blue\",\"blue\",\"blue\",\"blue\",\"blue\",\"blue\",\"blue\",\"blue\",\"blue\",\"blue\",\"blue\",\"blue\",\"blue\",\"blue\",\"blue\",\"blue\",\"blue\",\"blue\",\"blue\",\"blue\",\"blue\",\"blue\",\"blue\",\"blue\",\"blue\",\"blue\",\"blue\",\"blue\",\"blue\",\"blue\",\"blue\",\"blue\",\"blue\",\"blue\",\"blue\",\"blue\",\"blue\",\"blue\",\"blue\",\"blue\",\"blue\",\"blue\",\"blue\",\"blue\",\"blue\",\"blue\",\"blue\",\"blue\",\"blue\",\"blue\",\"blue\",\"blue\",\"blue\",\"blue\",\"blue\",\"blue\",\"blue\",\"blue\",\"blue\",\"blue\",\"blue\",\"blue\",\"blue\",\"blue\",\"blue\",\"blue\",\"blue\",\"blue\",\"blue\",\"blue\",\"blue\",\"blue\",\"blue\",\"blue\",\"blue\",\"blue\",\"blue\",\"blue\",\"blue\",\"blue\",\"blue\",\"blue\",\"blue\",\"blue\",\"blue\",\"blue\",\"blue\",\"blue\",\"blue\",\"blue\",\"blue\",\"blue\",\"blue\",\"blue\",\"blue\",\"blue\",\"blue\",\"blue\",\"blue\",\"blue\",\"blue\",\"blue\",\"blue\",\"blue\",\"blue\",\"blue\",\"blue\",\"blue\",\"blue\",\"blue\",\"blue\",\"blue\",\"blue\",\"blue\",\"blue\",\"blue\",\"blue\",\"blue\",\"blue\",\"blue\",\"blue\",\"blue\",\"blue\",\"blue\",\"blue\",\"blue\",\"blue\",\"blue\",\"blue\",\"blue\",\"blue\",\"blue\",\"blue\",\"blue\",\"blue\",\"blue\",\"blue\",\"blue\",\"blue\",\"blue\",\"blue\",\"blue\",\"blue\",\"blue\",\"blue\",\"blue\",\"blue\",\"blue\",\"blue\",\"blue\",\"blue\",\"blue\",\"blue\",\"blue\",\"blue\",\"blue\",\"blue\",\"blue\",\"blue\",\"blue\",\"blue\",\"blue\",\"blue\",\"blue\",\"blue\",\"blue\",\"blue\",\"blue\",\"blue\",\"blue\",\"blue\",\"blue\",\"blue\",\"blue\",\"blue\",\"blue\",\"blue\",\"blue\",\"blue\",\"blue\",\"blue\",\"blue\",\"blue\",\"blue\",\"blue\",\"blue\",\"blue\",\"blue\",\"blue\",\"blue\",\"blue\",\"blue\",\"blue\",\"blue\",\"blue\",\"blue\",\"blue\",\"blue\",\"blue\",\"blue\",\"blue\",\"blue\",\"blue\",\"blue\",\"blue\",\"blue\",\"blue\",\"blue\",\"blue\",\"blue\",\"blue\",\"blue\",\"blue\",\"blue\",\"blue\",\"blue\",\"blue\",\"blue\",\"blue\",\"blue\",\"blue\",\"blue\",\"blue\",\"blue\",\"blue\",\"blue\",\"blue\",\"blue\",\"blue\",\"blue\",\"blue\",\"blue\",\"blue\",\"blue\",\"blue\",\"blue\",\"blue\",\"blue\",\"blue\",\"blue\",\"blue\",\"blue\",\"blue\",\"blue\",\"blue\",\"blue\",\"blue\",\"blue\",\"blue\",\"blue\",\"blue\",\"blue\",\"blue\",\"blue\",\"blue\",\"blue\",\"blue\",\"blue\",\"blue\",\"blue\",\"blue\",\"blue\",\"blue\",\"blue\",\"blue\",\"blue\",\"blue\",\"blue\",\"blue\",\"blue\",\"blue\",\"blue\",\"blue\",\"blue\",\"blue\",\"blue\",\"blue\",\"blue\",\"blue\",\"blue\",\"blue\",\"blue\",\"blue\",\"blue\",\"blue\",\"blue\",\"blue\",\"blue\",\"blue\",\"blue\",\"blue\",\"blue\",\"blue\",\"blue\",\"blue\",\"blue\",\"blue\",\"blue\",\"blue\",\"blue\",\"blue\",\"blue\",\"blue\",\"blue\",\"blue\",\"blue\",\"blue\",\"blue\",\"blue\",\"blue\",\"blue\",\"blue\",\"blue\",\"blue\",\"blue\",\"blue\",\"blue\",\"blue\",\"blue\",\"blue\",\"blue\",\"blue\",\"blue\",\"blue\",\"blue\",\"blue\",\"blue\",\"blue\",\"blue\",\"blue\",\"blue\",\"blue\",\"blue\",\"blue\",\"blue\",\"blue\",\"blue\",\"blue\",\"blue\",\"blue\",\"blue\",\"blue\",\"blue\",\"blue\",\"blue\",\"blue\",\"blue\",\"blue\",\"blue\",\"blue\",\"blue\",\"blue\",\"blue\",\"blue\",\"blue\",\"blue\",\"blue\",\"blue\",\"blue\",\"blue\",\"blue\",\"blue\",\"blue\",\"blue\",\"blue\",\"blue\",\"blue\",\"blue\",\"blue\",\"blue\",\"blue\",\"blue\",\"blue\",\"blue\",\"blue\",\"blue\",\"blue\",\"blue\",\"blue\",\"blue\",\"blue\",\"blue\",\"blue\",\"blue\",\"blue\",\"blue\",\"blue\",\"blue\",\"blue\",\"blue\",\"blue\",\"blue\",\"blue\",\"blue\",\"blue\",\"blue\",\"blue\",\"blue\",\"blue\",\"blue\",\"blue\",\"blue\",\"blue\",\"blue\",\"blue\",\"blue\",\"blue\",\"blue\",\"blue\",\"blue\",\"blue\",\"blue\",\"blue\",\"blue\",\"blue\",\"blue\",\"blue\",\"blue\",\"blue\",\"blue\",\"blue\",\"blue\",\"blue\",\"blue\",\"blue\",\"blue\",\"blue\",\"blue\",\"blue\",\"blue\",\"blue\",\"blue\",\"blue\",\"blue\",\"blue\",\"blue\",\"blue\",\"blue\",\"blue\",\"blue\",\"blue\",\"blue\",\"blue\",\"blue\",\"blue\",\"blue\",\"blue\",\"blue\",\"blue\",\"blue\",\"blue\",\"blue\",\"blue\",\"blue\",\"blue\",\"blue\",\"blue\",\"blue\",\"blue\",\"blue\",\"blue\",\"blue\",\"blue\",\"blue\",\"blue\",\"blue\",\"blue\",\"blue\",\"blue\",\"blue\",\"blue\",\"blue\",\"blue\",\"blue\",\"blue\",\"blue\",\"blue\",\"blue\",\"blue\",\"blue\",\"blue\",\"blue\",\"blue\",\"blue\",\"blue\",\"blue\",\"blue\",\"blue\",\"blue\",\"blue\",\"blue\",\"blue\",\"blue\",\"blue\",\"blue\",\"blue\",\"blue\",\"blue\",\"blue\",\"blue\",\"blue\",\"blue\",\"blue\",\"blue\",\"blue\",\"blue\",\"blue\",\"blue\",\"blue\",\"blue\",\"blue\",\"blue\",\"blue\",\"blue\",\"blue\",\"blue\",\"blue\",\"blue\",\"blue\",\"blue\",\"blue\",\"blue\",\"blue\",\"blue\",\"blue\",\"blue\",\"blue\",\"blue\",\"blue\",\"blue\",\"blue\",\"blue\",\"blue\",\"blue\",\"blue\",\"blue\",\"blue\",\"blue\",\"blue\",\"blue\",\"blue\",\"blue\",\"blue\",\"blue\",\"blue\",\"blue\",\"blue\",\"blue\",\"blue\",\"blue\",\"blue\",\"blue\",\"blue\",\"blue\",\"blue\",\"blue\",\"blue\",\"blue\",\"blue\",\"blue\",\"blue\",\"blue\",\"blue\",\"blue\",\"blue\",\"blue\",\"blue\",\"blue\",\"blue\",\"blue\",\"blue\",\"blue\",\"blue\",\"blue\",\"blue\",\"blue\",\"blue\",\"blue\",\"blue\",\"blue\",\"blue\",\"blue\",\"blue\",\"blue\",\"blue\",\"blue\",\"blue\",\"blue\",\"blue\",\"blue\",\"blue\"]],[\"token\",[\"verified\",\"2gb\",\"illinois\",\"jazz\",\"checking\",\"telescope\",\"seasons\",\"astrologer\",\"contribution\",\"homemade\",\"heroes\",\"warcraft\",\"kumar\",\"tester\",\"politically\",\"conquer\",\"columbia\",\"quiet\",\"repeat\",\"kapil\",\"involve\",\"mckinsey\",\"switched\",\"att\",\"instance\",\"innocent\",\"portuguese\",\"subscribers\",\"cabinet\",\"terror\",\"85\",\"rotation\",\"shirts\",\"drawn\",\"bi\",\"aspergers\",\"inspiration\",\"beats\",\"\\u00a3\",\"approximately\",\"asset\",\"empathy\",\"rooting\",\"ia\",\"dandruff\",\"slab\",\"operator\",\"horrible\",\"dominant\",\"ocd\",\"spacetime\",\"blow\",\"installing\",\"learnt\",\"separation\",\"institution\",\"temples\",\"hons\",\"pound\",\"removing\",\"unemployment\",\"greenlit\",\"audit\",\"supplement\",\"roller\",\"dota\",\"tiny\",\"equally\",\"braces\",\"aggressive\",\"corn\",\"camps\",\"additional\",\"consent\",\"granted\",\"welfare\",\"myths\",\"stations\",\"timeline\",\"psychologist\",\"nagpur\",\"herself\",\"cooper\",\"exgirlfriend\",\"intercourse\",\"flip\",\"hurts\",\"lpa\",\"nerve\",\"tvs\",\"halloween\",\"screenshot\",\"biomedical\",\"covered\",\"milky\",\"onsite\",\"aside\",\"meaningful\",\"stretch\",\"joker\",\"encounter\",\"tone\",\"founders\",\"talked\",\"respectively\",\"downloads\",\"cocaine\",\"toxic\",\"sword\",\"fuck\",\"trainer\",\"partition\",\"boxing\",\"grid\",\"practicing\",\"menu\",\"cms\",\"indore\",\"ate\",\"volunteer\",\"misconceptions\",\"pics\",\"flies\",\"instantly\",\"trans\",\"friday\",\"sociopaths\",\"ctc\",\"hoax\",\"detailed\",\"sizes\",\"rejection\",\"limitations\",\"bharat\",\"kissing\",\"renewable\",\"oriented\",\"countrys\",\"dumps\",\"spiders\",\"technological\",\"advertisement\",\"headache\",\"zodiac\",\"accommodation\",\"venus\",\"calcium\",\"passenger\",\"falls\",\"overnight\",\"pickup\",\"gary\",\"transportation\",\"odds\",\"jupiter\",\"purchasing\",\"fluently\",\"flu\",\"photons\",\"conductor\",\"ohio\",\"balaji\",\"mcdonalds\",\"betting\",\"irrational\",\"sachin\",\"deactivate\",\"estimate\",\"hairs\",\"fluent\",\"errors\",\"remaining\",\"marriages\",\"medieval\",\"charles\",\"spider\",\"oxford\",\"gita\",\"races\",\"liquor\",\"poland\",\"lease\",\"co2\",\"selenium\",\"attempts\",\"crystal\",\"manaphy\",\"knight\",\"collapsed\",\"wheels\",\"behaviour\",\"bitcoins\",\"parliament\",\"himher\",\"handsome\",\"thousands\",\"caring\",\"kings\",\"lucky\",\"workplace\",\"condom\",\"intuitive\",\"chronic\",\"eyesight\",\"simulation\",\"prank\",\"quickest\",\"concert\",\"popularity\",\"connections\",\"disorders\",\"scripting\",\"appearance\",\"js\",\"depth\",\"cheque\",\"longterm\",\"documentaries\",\"dioxide\",\"bright\",\"info\",\"diseases\",\"appeal\",\"snap\",\"smoked\",\"singers\",\"boil\",\"probably\",\"temperatures\",\"appearing\",\"olive\",\"ntse\",\"telecom\",\"brief\",\"discrimination\",\"ethnic\",\"cache\",\"passionate\",\"shoulder\",\"assault\",\"marshmallow\",\"momentum\",\"yr\",\"migrate\",\"retire\",\"cet\",\"canvas\",\"vietnamese\",\"institutions\",\"meter\",\"roots\",\"integer\",\"imported\",\"ants\",\"lyft\",\"piercing\",\"il\",\"poop\",\"organisms\",\"ve\",\"entropy\",\"calm\",\"saddest\",\"toward\",\"myth\",\"sight\",\"filling\",\"hdmi\",\"satisfied\",\"transactions\",\"pharmacy\",\"nursing\",\"correlation\",\"regression\",\"awake\",\"md\",\"nri\",\"recommendations\",\"bin\",\"finland\",\"multi\",\"voted\",\"discovery\",\"edward\",\"touching\",\"immigrant\",\"geometry\",\"indicate\",\"ourselves\",\"texting\",\"seek\",\"expecting\",\"dj\",\"brake\",\"helicopter\",\"blonde\",\"triple\",\"ladies\",\"vivekananda\",\"switching\",\"prostitution\",\"banana\",\"magazines\",\"shippuden\",\"lucknow\",\"2019\",\"failing\",\"elizabeth\",\"irish\",\"ebook\",\"temporary\",\"governor\",\"wasting\",\"weekends\",\"cpt\",\"wax\",\"labor\",\"instruments\",\"instrumentation\",\"hates\",\"hip\",\"arnab\",\"bubble\",\"employers\",\"aadhaar\",\"boyfriends\",\"jake\",\"explained\",\"yesterday\",\"beta\",\"extrovert\",\"andhra\",\"micromax\",\"vertical\",\"lay\",\"nonprofit\",\"dubbed\",\"typing\",\"automotive\",\"thomas\",\"procedures\",\"priority\",\"funded\",\"arabs\",\"siblings\",\"guinea\",\"missile\",\"luck\",\"strategic\",\"defend\",\"module\",\"tuition\",\"acids\",\"controller\",\"committee\",\"housing\",\"integral\",\"peaceful\",\"refugees\",\"prescription\",\"interns\",\"supported\",\"womans\",\"dentist\",\"wives\",\"village\",\"affecting\",\"lte\",\"beaches\",\"austin\",\"substance\",\"engagement\",\"trainee\",\"measures\",\"trailer\",\"purchased\",\"15000\",\"uttar\",\"glue\",\"dtu\",\"medal\",\"photon\",\"engg\",\"violin\",\"column\",\"somehow\",\"rotate\",\"3000\",\"virat\",\"forgotten\",\"fingers\",\"slim\",\"arrest\",\"covalent\",\"ncert\",\"kernel\",\"da\",\"alarm\",\"ngo\",\"4gb\",\"productivity\",\"planned\",\"district\",\"berlin\",\"lists\",\"leads\",\"slang\",\"defence\",\"aspiring\",\"56\",\"enemy\",\"farming\",\"muller\",\"pays\",\"liver\",\"membrane\",\"secretly\",\"plug\",\"gum\",\"eclipse\",\"chewing\",\"labs\",\"zombie\",\"authority\",\"males\",\"argentina\",\"tasks\",\"fell\",\"nails\",\"palestine\",\"tanks\",\"identical\",\"deck\",\"qualification\",\"leadership\",\"kohli\",\"pronunciation\",\"hello\",\"violent\",\"sabha\",\"respiration\",\"transform\",\"warranty\",\"faculty\",\"adolf\",\"expenses\",\"jersey\",\"mercury\",\"whiskey\",\"tackle\",\"tweet\",\"blame\",\"cruise\",\"mahindra\",\"discharge\",\"reduced\",\"vodka\",\"mahatma\",\"bass\",\"compete\",\"stains\",\"pill\",\"swim\",\"ali\",\"gf\",\"ford\",\"prince\",\"sweat\",\"performing\",\"limits\",\"leonardo\",\"cow\",\"resolve\",\"matters\",\"pharmaceutical\",\"ray\",\"remotely\",\"pf\",\"clinical\",\"bpo\",\"homeless\",\"husbands\",\"rising\",\"newtons\",\"outcome\",\"derivative\",\"alpha\",\"grown\",\"capitalism\",\"astronaut\",\"hybrid\",\"palm\",\"teens\",\"hits\",\"airplanes\",\"none\",\"admin\",\"applicable\",\"amcat\",\"spam\",\"neutrality\",\"pixel\",\"festival\",\"faces\",\"molar\",\"snakes\",\"sip\",\"kik\",\"farm\",\"ltd\",\"votes\",\"publishing\",\"comfort\",\"frontend\",\"spin\",\"diagnosed\",\"buildings\",\"\\u00b0\",\"cashless\",\"addictive\",\"extinct\",\"ugc\",\"coke\",\"llb\",\"phrases\",\"struggle\",\"drives\",\"fiber\",\"grocery\",\"achieved\",\"penny\",\"bath\",\"allies\",\"uninstall\",\"ny\",\"appears\",\"effort\",\"satellites\",\"confirmed\",\"loneliness\",\"illuminati\",\"uri\",\"lucid\",\"preferably\",\"neither\",\"\\u221a\",\"pacific\",\"americas\",\"bs\",\"graduated\",\"bills\",\"tube\",\"germans\",\"assume\",\"cleared\",\"mate\",\"divide\",\"versions\",\"fallen\",\"journey\",\"anthem\",\"certificates\",\"looked\",\"sponsor\",\"useless\",\"dependent\",\"invite\",\"guru\",\"keyword\",\"aipmt\",\"clone\",\"kgs\",\"chip\",\"origins\",\"wide\",\"motivational\",\"elite\",\"wanna\",\"unity\",\"cough\",\"connecting\",\"mystery\",\"kim\",\"syrian\",\"voldemort\",\"responsibilities\",\"molecules\",\"boobs\",\"holidays\",\"tutorial\",\"circumstances\",\"fiitjee\",\"islands\",\"bypass\",\"slowly\",\"mixture\",\"aluminum\",\"salesforce\",\"twin\",\"iot\",\"remedy\",\"sheets\",\"pole\",\"hated\",\"females\",\"protected\",\"irs\",\"insecure\",\"entering\",\"neuroscience\",\"offices\",\"delta\",\"suggestion\",\"snapdeal\",\"backstory\",\"periodic\",\"cancelled\",\"mans\",\"complicated\",\"bitsat\",\"pleasure\",\"loop\",\"dropbox\",\"selfish\",\"nude\",\"20000\",\"voter\",\"variables\",\"victory\",\"closest\",\"compensation\",\"extended\",\"locations\",\"cracked\",\"perks\",\"ended\",\"exit\",\"awareness\",\"pakistanis\",\"ebooks\",\"bull\",\"unblock\",\"100000\",\"entrepreneurship\",\"infrastructure\",\"scotland\",\"guest\",\"attacked\",\"hurting\",\"lion\",\"reject\",\"purposes\",\"knife\",\"thai\",\"ipl\",\"knee\",\"accepting\",\"spent\",\"punjabi\",\"tab\",\"quoras\",\"caffeine\",\"athletes\",\"ink\",\"cooked\",\"improving\",\"invaded\",\"allah\",\"thermodynamics\",\"mortgage\",\"firsttime\",\"achievements\",\"issued\",\"breath\",\"award\",\"llc\",\"legends\",\"mood\",\"influenced\",\"proteins\",\"holy\",\"performed\",\"pee\",\"blocks\",\"molecule\",\"interests\",\"imei\",\"requires\",\"cisco\",\"moves\",\"marrying\",\"mca\",\"perfectly\",\"iisc\",\"corporation\",\"shiva\",\"viruses\",\"difficulty\",\"50000\",\"volte\",\"shampoo\",\"secular\",\"transplant\",\"ghz\",\"ahead\",\"crew\",\"interact\",\"depend\",\"hawaii\",\"hiv\",\"evening\",\"vegetable\",\"revenge\",\"suppose\",\"busy\",\"label\",\"rogue\",\"rational\",\"hillstation\",\"brains\",\"urdu\",\"imagine\",\"salaries\",\"survey\",\"g4\",\"butt\",\"manufacturers\",\"saas\",\"residency\",\"recommendation\",\"purple\",\"fault\",\"aadhar\",\"aging\",\"bhopal\",\"conducted\",\"loses\",\"infection\",\"forest\",\"impacts\",\"collection\",\"fridge\",\"diamond\",\"mis\",\"recorded\",\"march\",\"conditioner\",\"signature\",\"listed\",\"branches\",\"manchester\",\"wanting\",\"perception\",\"absolutely\",\"servers\",\"soluble\",\"swami\",\"lumia\",\"directors\",\"52\",\"2008\",\"gaining\",\"stereotypes\",\"homes\",\"vegas\",\"jam\",\"behave\",\"relatively\",\"forum\",\"ib\",\"earphones\",\"facilities\",\"april\",\"finally\",\"tail\",\"capacitor\",\"tiger\",\"deaf\",\"deliver\",\"django\",\"expand\",\"skip\",\"nearly\",\"maybe\",\"task\",\"gateway\",\"strangest\",\"abstract\",\"adding\",\"suck\",\"tim\",\"printed\",\"sigma\",\"immigrate\",\"decline\",\"arrested\",\"95\",\"narcissistic\",\"freelancing\",\"patterns\",\"expired\",\"casual\",\"tablets\",\"patients\",\"lean\",\"pieces\",\"laymans\",\"whatever\",\"polish\",\"lemon\",\"abortion\",\"i3\",\"theorem\",\"h\",\"compulsory\",\"helped\",\"sons\",\"feminism\",\"compiler\",\"tested\",\"enhance\",\"adhd\",\"manhattan\",\"iii\",\"nail\",\"eee\",\"deals\",\"excellent\",\"ipo\",\"folder\",\"sand\",\"continuous\",\"capable\",\"libraries\",\"aggregate\",\"64\",\"bsnl\",\"profiles\",\"spirit\",\"pulled\",\"owns\",\"deloitte\",\"therapist\",\"acts\",\"millions\",\"authors\",\"marathi\",\"dvd\",\"coconut\",\"swiss\",\"interaction\",\"ncr\",\"kannada\",\"smallest\",\"advisable\",\"smartest\",\"sorry\",\"normally\",\"ends\",\"rome\",\"spectrum\",\"cousin\",\"75\",\"suzuki\",\"nights\",\"cap\",\"enable\",\"counselling\",\"proxy\",\"margin\",\"shops\",\"hackers\",\"tatkal\",\"opened\",\"cinema\",\"consumption\",\"coal\",\"silent\",\"choosing\",\"introduction\",\"electromagnetic\",\"hcl\",\"complaint\",\"puppies\",\"vc\",\"symbols\",\"lenses\",\"username\",\"arrow\",\"adopted\",\"affects\",\"sudden\",\"pcm\",\"gel\",\"affair\",\"pinterest\",\"statements\",\"supplements\",\"justified\",\"turns\",\"santa\",\"shoe\",\"trek\",\"headphone\",\"girlfriends\",\"verizon\",\"rocket\",\"conference\",\"ego\",\"srm\",\"afghanistan\",\"nucleus\",\"generated\",\"chinas\",\"ww1\",\"consultancy\",\"socially\",\"allen\",\"berkeley\",\"missed\",\"crying\",\"introduced\",\"ps3\",\"flour\",\"brought\",\"elder\",\"minecraft\",\"9th\",\"freelancer\",\"circles\",\"scars\",\"entertainment\",\"turbine\",\"deeply\",\"rom\",\"evolved\",\"nato\",\"strengths\",\"ide\",\"tweets\",\"scholarships\",\"mentor\",\"collect\",\"hdfc\",\"mandarin\",\"solo\",\"terrible\",\"influential\",\"professionals\",\"65\",\"recognition\",\"nvidia\",\"cia\",\"designs\",\"10k\",\"creation\",\"tom\",\"rated\",\"introverts\",\"boiling\",\"communism\",\"treaty\",\"whereas\",\"thanks\",\"cigarette\",\"bengaluru\",\"oneplus\",\"reserve\",\"advertise\",\"nits\",\"helping\",\"bruce\",\"mp3\",\"severe\",\"proposal\",\"cultures\",\"tap\",\"animated\",\"planes\",\"hall\",\"cognitive\",\"supports\",\"keys\",\"gotten\",\"feedback\",\"recording\",\"proceed\",\"membership\",\"console\",\"overseas\",\"hows\",\"william\",\"billionaires\",\"updated\",\"pre\",\"organizations\",\"messi\",\"unexpected\",\"nitrogen\",\"hungry\",\"nigeria\",\"sync\",\"arduino\",\"gross\",\"outer\",\"searching\",\"workers\",\"outlook\",\"europeans\",\"founder\",\"lectures\",\"legitimate\",\"camp\",\"ordinary\",\"investments\",\"bone\",\"raising\",\"quite\",\"ages\",\"joint\",\"johnson\",\"destination\",\"concerned\",\"belief\",\"refrigerator\",\"implications\",\"manga\",\"mandatory\",\"obamas\",\"lawyers\",\"bedroom\",\"icon\",\"qualifications\",\"qa\",\"bikes\",\"boston\",\"holding\",\"session\",\"appointment\",\"weaknesses\",\"iphones\",\"motorcycle\",\"schizophrenia\",\"5th\",\"intellectual\",\"eaten\",\"attending\",\"medals\",\"adsense\",\"nda\",\"6th\",\"kali\",\"georgia\",\"wechat\",\"earlier\",\"drone\",\"truck\",\"horse\",\"merchant\",\"torque\",\"seed\",\"backend\",\"holmes\",\"graduating\",\"400\",\"bones\",\"sufficient\",\"participate\",\"rifle\",\"shock\",\"downloaded\",\"earthquake\",\"breasts\",\"secretary\",\"insert\",\"damaged\",\"massive\",\"standing\",\"remainder\",\"programme\",\"holocaust\",\"totally\",\"belt\",\"affairs\",\"nokia\",\"mechanism\",\"pin\",\"scan\",\"fought\",\"superpower\",\"poetry\",\"signals\",\"educated\",\"scariest\",\"trains\",\"closer\",\"weapon\",\"icici\",\"serial\",\"bicycle\",\"terminal\",\"finished\",\"stolen\",\"inspiring\",\"cuisine\",\"spark\",\"sounds\",\"pricing\",\"click\",\"underwear\",\"kidney\",\"bengal\",\"invention\",\"discount\",\"chase\",\"evaluate\",\"distributed\",\"themes\",\"amd\",\"stem\",\"st\",\"genre\",\"vegetables\",\"council\",\"bihar\",\"thick\",\"mouse\",\"worry\",\"newly\",\"updates\",\"candy\",\"prepaid\",\"wet\",\"rap\",\"motors\",\"implemented\",\"theoretical\",\"fabric\",\"mexican\",\"portfolio\",\"technique\",\"icse\",\"expansion\",\"evolutionary\",\"justify\",\"trick\",\"attached\",\"lightning\",\"pitch\",\"armed\",\"einstein\",\"conversion\",\"iitjee\",\"declared\",\"admit\",\"acquisition\",\"innovation\",\"runs\",\"wwe\",\"trial\",\"memories\",\"refuse\",\"netherlands\",\"committed\",\"fraud\",\"jailbreak\",\"settle\",\"badly\",\"approved\",\"eligibility\",\"trend\",\"increases\",\"comic\",\"quorans\",\"cellular\",\"matches\",\"receiving\",\"bmw\",\"vlsi\",\"signed\",\"lakes\",\"350\",\"communications\",\"pork\",\"joined\",\"anyway\",\"differentiate\",\"actresses\",\"29\",\"ethics\",\"premier\",\"hearing\",\"vehicles\",\"drama\",\"instant\",\"lips\",\"dates\",\"july\",\"holiday\",\"coach\",\"malayalam\",\"superior\",\"soviet\",\"plate\",\"throw\",\"worship\",\"bars\",\"sharma\",\"mothers\",\"integrated\",\"clubs\",\"bug\",\"melbourne\",\"co\",\"bisexual\",\"regions\",\"lesson\",\"heads\",\"reader\",\"snake\",\"qualify\",\"paul\",\"causing\",\"disappear\",\"era\",\"lets\",\"qualified\",\"spiritual\",\"wolf\",\"requirement\",\"journalism\",\"studied\",\"lowest\",\"vader\",\"coursera\",\"stark\",\"configuration\",\"verbal\",\"undergrad\",\"dimensions\",\"transition\",\"efficiently\",\"interstellar\",\"locked\",\"summary\",\"chandigarh\",\"ghosts\",\"included\",\"operate\",\"dimension\",\"mount\",\"noticed\",\"rating\",\"somewhere\",\"martin\",\"bra\",\"bird\",\"zuckerberg\",\"sensor\",\"audience\",\"dirty\",\"starbucks\",\"permission\",\"residential\",\"wholesale\",\"assets\",\"clearly\",\"km\",\"invade\",\"ipcc\",\"fb\",\"shell\",\"shave\",\"loud\",\"tip\",\"seeds\",\"sets\",\"polar\",\"although\",\"june\",\"judaism\",\"anti\",\"instrument\",\"seven\",\"shooting\",\"j\",\"portal\",\"tower\",\"github\",\"linked\",\"admitted\",\"punishment\",\"mid\",\"micro\",\"cured\",\"lifestyle\",\"nor\",\"upset\",\"challenge\",\"soap\",\"standards\",\"integration\",\"lottery\",\"lab\",\"williams\",\"odd\",\"soil\",\"sensitive\",\"route\",\"tattoos\",\"coin\",\"declare\",\"frame\",\"differential\",\"bowl\",\"softwares\",\"notifications\",\"maintenance\",\"inner\",\"apples\",\"converted\",\"recruiter\",\"bombay\",\"command\",\"posting\",\"controlled\",\"balls\",\"personally\",\"poker\",\"extract\",\"hired\",\"bugs\",\"providers\",\"loans\",\"calculator\",\"attractions\",\"torrents\",\"keywords\",\"profession\",\"blogging\",\"transport\",\"sue\",\"anonymously\",\"compounds\",\"robot\",\"buddhism\",\"sweet\",\"defense\",\"nobody\",\"uc\",\"defined\",\"division\",\"bags\",\"epic\",\"unhealthy\",\"craziest\",\"urban\",\"combination\",\"pair\",\"laugh\",\"cv\",\"usd\",\"launched\",\"usps\",\"visited\",\"nexus\",\"regularly\",\"brothers\",\"broker\",\"concentrate\",\"agreement\",\"nervous\",\"frozen\",\"detail\",\"sir\",\"situations\",\"borderline\",\"angularjs\",\"abusive\",\"tourism\",\"relate\",\"august\",\"communist\",\"accountant\",\"dumb\",\"arab\",\"b2b\",\"du\",\"thermal\",\"asians\",\"threat\",\"karma\",\"passive\",\"homosexuality\",\"putting\",\"quantitative\",\"relativity\",\"sanskrit\",\"opinions\",\"verify\",\"bear\",\"roll\",\"expanding\",\"teenage\",\"jeans\",\"providing\",\"shared\",\"extreme\",\"mi\",\"vr\",\"progress\",\"greece\",\"cpu\",\"ips\",\"merge\",\"reputation\",\"loving\",\"salman\",\"iss\",\"warm\",\"dental\",\"extension\",\"attraction\",\"fictional\",\"journal\",\"login\",\"secondary\",\"recognize\",\"southern\",\"ph\",\"lunch\",\"wallet\",\"ronaldo\",\"larger\",\"actions\",\"fathers\",\"adopt\",\"claims\",\"bottom\",\"therapy\",\"patient\",\"described\",\"virginity\",\"functional\",\"ionic\",\"chartered\",\"discover\",\"55\",\"21st\",\"biased\",\"mad\",\"northern\",\"onto\",\"liberals\",\"premium\",\"neutral\",\"detect\",\"diagram\",\"sperm\",\"ga\",\"bleach\",\"spread\",\"contributions\",\"activate\",\"prior\",\"safest\",\"holder\",\"360\",\"aim\",\"rental\",\"families\",\"everybody\",\"shut\",\"payments\",\"150\",\"cube\",\"vegan\",\"newspaper\",\"beef\",\"houses\",\"preferred\",\"simultaneously\",\"marked\",\"reactions\",\"emergency\",\"protection\",\"cab\",\"forex\",\"norway\",\"immigrants\",\"googles\",\"ssb\",\"wing\",\"yrs\",\"ensure\",\"spy\",\"reasoning\",\"strange\",\"forgive\",\"turkish\",\"tag\",\"ranking\",\"platforms\",\"fox\",\"existed\",\"walmart\",\"lazy\",\"ears\",\"clock\",\"beam\",\"rare\",\"bush\",\"2011\",\"stops\",\"batteries\",\"certified\",\"naked\",\"worldwide\",\"staying\",\"lifetime\",\"ted\",\"lake\",\"wealthy\",\"transit\",\"stephen\",\"rural\",\"versa\",\"pets\",\"commonly\",\"adults\",\"ultimate\",\"genius\",\"vinegar\",\"allows\",\"aid\",\"retirement\",\"airtel\",\"sciences\",\"mountain\",\"drinks\",\"tour\",\"wind\",\"seattle\",\"disabled\",\"bodies\",\"lesbian\",\"governments\",\"kinetic\",\"tumblr\",\"absolute\",\"author\",\"toilet\",\"whey\",\"sleepy\",\"molecular\",\"watches\",\"inventions\",\"rain\",\"34\",\"angular\",\"o\",\"dish\",\"however\",\"agents\",\"abs\",\"switzerland\",\"transformer\",\"clearing\",\"consciousness\",\"broadband\",\"uae\",\"automatic\",\"opposed\",\"geography\",\"astronauts\",\"decisions\",\"cement\",\"induction\",\"luxury\",\"upvotes\",\"politicians\",\"posted\",\"toefl\",\"kitchen\",\"noise\",\"radius\",\"dye\",\"miles\",\"risks\",\"scientifically\",\"mnc\",\"propose\",\"prepared\",\"iiit\",\"mention\",\"equipment\",\"darth\",\"january\",\"surname\",\"raised\",\"attitude\",\"gta\",\"david\",\"hike\",\"awkward\",\"proven\",\"productive\",\"lg\",\"filled\",\"atmosphere\",\"lee\",\"irctc\",\"addicted\",\"dynamic\",\"employment\",\"weekend\",\"replacement\",\"singing\",\"owners\",\"bipolar\",\"tomorrow\",\"poems\",\"default\",\"kvpy\",\"sauce\",\"competitors\",\"russians\",\"sample\",\"crimes\",\"hang\",\"inspired\",\"furniture\",\"throughout\",\"presence\",\"efficiency\",\"leg\",\"biological\",\"pilani\",\"conversations\",\"inspirational\",\"bachelor\",\"centers\",\"withdraw\",\"fundamental\",\"comparison\",\"november\",\"fifa\",\"penalty\",\"algebra\",\"joke\",\"htc\",\"pilots\",\"collapse\",\"texts\",\"vocabulary\",\"moved\",\"sc\",\"smile\",\"october\",\"dot\",\"genetic\",\"architect\",\"url\",\"51\",\"sore\",\"uniform\",\"re\",\"rails\",\"smaller\",\"marine\",\"terrorists\",\"nazi\",\"breast\",\"politician\",\"subtitles\",\"chosen\",\"egypt\",\"thin\",\"packages\",\"editor\",\"bands\",\"mythology\",\"reasonable\",\"permit\",\"acceptable\",\"seriously\",\"iraq\",\"fever\",\"visitor\",\"honest\",\"friction\",\"offering\",\"smarter\",\"ahmedabad\",\"replaced\",\"resolution\",\"burning\",\"bridge\",\"catholic\",\"calendar\",\"resident\",\"policies\",\"forced\",\"leading\",\"arm\",\"deserve\",\"context\",\"coolest\",\"arranged\",\"arizona\",\"comics\",\"harm\",\"democrats\",\"jail\",\"breed\",\"anywhere\",\"psu\",\"christ\",\"violence\",\"agriculture\",\"objective\",\"moments\",\"infinity\",\"supporting\",\"critical\",\"trees\",\"beyond\",\"bag\",\"vitamin\",\"assembly\",\"solved\",\"array\",\"perspective\",\"pas\",\"wwii\",\"skinny\",\"contains\",\"lift\",\"cleaning\",\"peter\",\"aap\",\"pimples\",\"initial\",\"lesserknown\",\"sights\",\"principles\",\"realize\",\"millionaire\",\"faux\",\"orbit\",\"desire\",\"hi\",\"prophet\",\"suits\",\"careers\",\"thinks\",\"quantity\",\"spots\",\"wage\",\"asleep\",\"sociology\",\"guard\",\"units\",\"structural\",\"operation\",\"pants\",\"w\",\"bulk\",\"possibly\",\"drunk\",\"fired\",\"accident\",\"inch\",\"bottle\",\"aerospace\",\"narcissist\",\"ux\",\"angeles\",\"wood\",\"index\",\"safely\",\"robotics\",\"edition\",\"metals\",\"practices\",\"scheme\",\"interior\",\"diabetes\",\"nobel\",\"youth\",\"lived\",\"september\",\"chief\",\"proposed\",\"assuming\",\"sin\",\"counter\",\"disable\",\"introduce\",\"restore\",\"swimming\",\"intern\",\"answering\",\"mentioned\",\"crash\",\"laser\",\"teenagers\",\"presentation\",\"quran\",\"classified\",\"demonetisation\",\"communicate\",\"cotton\",\"autism\",\"anger\",\"environmental\",\"stable\",\"7th\",\"bread\",\"invited\",\"wisdom\",\"wrote\",\"widely\",\"minor\",\"formal\",\"dreaming\",\"managers\",\"escape\",\"pollution\",\"taiwan\",\"verification\",\"los\",\"figures\",\"26\",\"illness\",\"sides\",\"compatible\",\"pack\",\"conspiracy\",\"hedge\",\"flights\",\"dropped\",\"former\",\"suffer\",\"aware\",\"designers\",\"mahabharata\",\"evolve\",\"weigh\",\"dies\",\"fruits\",\"cc\",\"butter\",\"sharing\",\"atoms\",\"tongue\",\"transaction\",\"poverty\",\"suffering\",\"presidents\",\"resistance\",\"adam\",\"civilization\",\"mining\",\"toronto\",\"stick\",\"increased\",\"wild\",\"freelance\",\"removal\",\"aws\",\"rio\",\"principle\",\"asus\",\"cute\",\"consumer\",\"pool\",\"variable\",\"tutorials\",\"advance\",\"keeping\",\"visible\",\"cognizant\",\"equations\",\"rooms\",\"krishna\",\"printer\",\"tooth\",\"mentally\",\"realistic\",\"automobile\",\"cake\",\"tie\",\"beach\",\"ghost\",\"comfortable\",\"mysql\",\"oral\",\"closed\",\"helps\",\"maharashtra\",\"admissions\",\"i5\",\"partners\",\"axis\",\"beliefs\",\"neck\",\"clans\",\"hidden\",\"cyber\",\"voting\",\"bacteria\",\"layer\",\"chhattisgarh\",\"5000\",\"sitting\",\"murder\",\"argument\",\"f\",\"privacy\",\"syndrome\",\"2010\",\"bite\",\"vacation\",\"isro\",\"trouble\",\"records\",\"answered\",\"digit\",\"defeat\",\"childhood\",\"5s\",\"gates\",\"f1\",\"town\",\"anal\",\"copper\",\"talks\",\"affiliate\",\"sociopath\",\"installed\",\"static\",\"copyright\",\"animation\",\"donate\",\"stranger\",\"bcom\",\"destroyed\",\"gujarat\",\"foundation\",\"prize\",\"components\",\"foreigner\",\"arms\",\"unlimited\",\"needing\",\"settings\",\"item\",\"eve\",\"competition\",\"landing\",\"beard\",\"patent\",\"ending\",\"2020\",\"incident\",\"petroleum\",\"florida\",\"particularly\",\"ups\",\"generator\",\"leather\",\"heal\",\"experiment\",\"28\",\"passing\",\"talent\",\"remote\",\"300\",\"published\",\"impossible\",\"steam\",\"80\",\"washing\",\"guilty\",\"punjab\",\"70\",\"album\",\"bullet\",\"paris\",\"interface\",\"agencies\",\"mission\",\"digits\",\"modis\",\"recruitment\",\"manipal\",\"telling\",\"meal\",\"orange\",\"stone\",\"links\",\"ab\",\"upper\",\"cameras\",\"p\",\"combat\",\"passion\",\"shower\",\"thailand\",\"beings\",\"grad\",\"27\",\"finger\",\"jump\",\"lights\",\"ui\",\"bba\",\"sweden\",\"arrive\",\"4th\",\"amendment\",\"window\",\"satellite\",\"al\",\"matlab\",\"jokes\",\"muhammad\",\"expression\",\"booking\",\"dinner\",\"skype\",\"lots\",\"2018\",\"teen\",\"finish\",\"dslr\",\"mens\",\"proud\",\"entrepreneurs\",\"ukraine\",\"coins\",\"scenario\",\"transmission\",\"ignore\",\"pride\",\"contribute\",\"grand\",\"curve\",\"false\",\"operations\",\"breakup\",\"eventually\",\"acquire\",\"commission\",\"lies\",\"spoken\",\"pills\",\"masturbating\",\"jackson\",\"airbnb\",\"delivered\",\"disk\",\"radiation\",\"plays\",\"marvel\",\"particle\",\"breakfast\",\"smartphones\",\"relevant\",\"quota\",\"refund\",\"inches\",\"telugu\",\"angel\",\"eastern\",\"inflation\",\"predict\",\"annoying\",\"obc\",\"tough\",\"conduct\",\"originate\",\"notification\",\"backup\",\"harder\",\"richest\",\"pronounce\",\"sri\",\"wheel\",\"wasnt\",\"oldest\",\"sheet\",\"soda\",\"20s\",\"wipro\",\"awesome\",\"facial\",\"z\",\"noida\",\"confident\",\"fbi\",\"corrupt\",\"succeed\",\"reddit\",\"associate\",\"input\",\"guns\",\"rahul\",\"baking\",\"description\",\"musical\",\"apache\",\"nowadays\",\"fluid\",\"capacity\",\"loose\",\"freshman\",\"cfa\",\"optional\",\"theres\",\"ps4\",\"trends\",\"jon\",\"richard\",\"legit\",\"nodejs\",\"document\",\"sexually\",\"particles\",\"singer\",\"printing\",\"captain\",\"valuable\",\"several\",\"aiims\",\"boot\",\"sit\",\"zone\",\"billionaire\",\"floor\",\"gravitational\",\"export\",\"motivation\",\"golden\",\"transgender\",\"healthcare\",\"heaven\",\"81\",\"leaves\",\"listening\",\"overall\",\"press\",\"dishes\",\"railways\",\"warming\",\"enfield\",\"extent\",\"acceleration\",\"afford\",\"bonds\",\"border\",\"registration\",\"cast\",\"hope\",\"shipping\",\"karnataka\",\"specifically\",\"opportunity\",\"arabia\",\"pump\",\"pg\",\"carrier\",\"plot\",\"kingdom\",\"contract\",\"painful\",\"kindle\",\"boring\",\"essential\",\"disney\",\"charger\",\"seconds\",\"measured\",\"honda\",\"ba\",\"makeup\",\"\\u2013\",\"mini\",\"annual\",\"traits\",\"retrieve\",\"willing\",\"swift\",\"consume\",\"hindus\",\"psychopath\",\"tells\",\"solving\",\"conditions\",\"artists\",\"spotify\",\"bomb\",\"integrate\",\"stuck\",\"nikon\",\"gadgets\",\"womens\",\"judge\",\"republicans\",\"vacuum\",\"felt\",\"putin\",\"tennis\",\"concentration\",\"fans\",\"constantly\",\"matrix\",\"secrets\",\"spot\",\"soft\",\"stored\",\"neural\",\"submit\",\"scores\",\"ola\",\"wire\",\"gdp\",\"jaipur\",\"typically\",\"airline\",\"roles\",\"cheaper\",\"machines\",\"shift\",\"impress\",\"basics\",\"32\",\"conservative\",\"birds\",\"tend\",\"duty\",\"setup\",\"rude\",\"pink\",\"church\",\"mine\",\"jack\",\"sending\",\"cooking\",\"versus\",\"expert\",\"olympic\",\"biotechnology\",\"gurgaon\",\"worked\",\"codes\",\"successfully\",\"hardware\",\"faith\",\"pr\",\"television\",\"compound\",\"vit\",\"universal\",\"thank\",\"grammatically\",\"chicago\",\"ivy\",\"worried\",\"enterprise\",\"sodium\",\"railway\",\"remedies\",\"racism\",\"tracking\",\"psychological\",\"apartment\",\"magazine\",\"martial\",\"beauty\",\"waiting\",\"attacks\",\"horror\",\"fantasy\",\"ma\",\"select\",\"increasing\",\"metro\",\"opt\",\"map\",\"watched\",\"gear\",\"icloud\",\"james\",\"comedy\",\"lollipop\",\"ireland\",\"upcoming\",\"italian\",\"oven\",\"emotionally\",\"decided\",\"lakh\",\"grey\",\"kept\",\"produced\",\"mouth\",\"manual\",\"dhoni\",\"fill\",\"throat\",\"shoot\",\"liked\",\"innovative\",\"immediately\",\"lonely\",\"fighting\",\"max\",\"accidentally\",\"schedule\",\"orgasm\",\"rape\",\"ride\",\"muscles\",\"graduates\",\"taller\",\"boost\",\"lakhs\",\"microwave\",\"electrons\",\"upon\",\"attract\",\"ap\",\"abuse\",\"earths\",\"forever\",\"underrated\",\"facing\",\"terrorist\",\"alien\",\"celebrity\",\"frequently\",\"vpn\",\"wales\",\"powder\",\"superman\",\"mixed\",\"caught\",\"goods\",\"beginning\",\"starts\",\"atomic\",\"associated\",\"triangle\",\"parties\",\"banning\",\"k\",\"honey\",\"monitor\",\"graph\",\"leaders\",\"embedded\",\"juice\",\"split\",\"lady\",\"sequence\",\"911\",\"harassment\",\"nepal\",\"pop\",\"habit\",\"setting\",\"edge\",\"ww2\",\"gps\",\"federal\",\"charged\",\"lying\",\"empty\",\"whenever\",\"airplane\",\"jet\",\"destroy\",\"ies\",\"wouldnt\",\"quick\",\"decrease\",\"robert\",\"pradesh\",\"professors\",\"massage\",\"held\",\"spending\",\"markets\",\"objects\",\"chart\",\"mechanics\",\"silver\",\"usage\",\"basketball\",\"gen\",\"periods\",\"identity\",\"individuals\",\"css\",\"soul\",\"ipod\",\"chest\",\"understanding\",\"coast\",\"classic\",\"spain\",\"babies\",\"sd\",\"hostel\",\"shirt\",\"further\",\"logical\",\"franchise\",\"obtain\",\"foreigners\",\"fully\",\"region\",\"designed\",\"cheated\",\"beneficial\",\"shes\",\"accent\",\"couldnt\",\"queen\",\"sick\",\"blowing\",\"properly\",\"stronger\",\"returns\",\"condition\",\"musk\",\"ugly\",\"teams\",\"filter\",\"snow\",\"glasses\",\"employer\",\"solid\",\"followed\",\"embarrassing\",\"auto\",\"meeting\",\"belong\",\"strike\",\"internships\",\"bachelors\",\"administration\",\"temple\",\"wealth\",\"retail\",\"speakers\",\"electoral\",\"headphones\",\"streaming\",\"mirror\",\"diesel\",\"republic\",\"antivirus\",\"customers\",\"atm\",\"vagina\",\"cigarettes\",\"aptitude\",\"lewis\",\"saudi\",\"puppy\",\"recovery\",\"jimmy\",\"obsessed\",\"domestic\",\"pen\",\"batch\",\"de\",\"drawing\",\"ai\",\"medium\",\"simply\",\"photoshop\",\"sms\",\"turning\",\"nadu\",\"appropriate\",\"adobe\",\"substitute\",\"fruit\",\"recipes\",\"fighter\",\"saving\",\"greater\",\"cheat\",\"routine\",\"push\",\"sherlock\",\"arguments\",\"sony\",\"import\",\"soldiers\",\"charges\",\"emotions\",\"ibm\",\"un\",\"innovations\",\"itunes\",\"consultant\",\"iims\",\"relations\",\"psychopaths\",\"existing\",\"angle\",\"clash\",\"bus\",\"australian\",\"crazy\",\"pull\",\"theories\",\"savings\",\"suit\",\"contrast\",\"calculus\",\"pi\",\"credits\",\"bluetooth\",\"himself\",\"traveling\",\"criminal\",\"xiaomi\",\"zealand\",\"seats\",\"electron\",\"script\",\"11th\",\"lessons\",\"programmers\",\"december\",\"flag\",\"singh\",\"arabic\",\"sale\",\"nfl\",\"grammar\",\"killing\",\"virgin\",\"differently\",\"poem\",\"provided\",\"automation\",\"shy\",\"translation\",\"mathematical\",\"45\",\"celebrities\",\"spring\",\"downloading\",\"dr\",\"organization\",\"majority\",\"clients\",\"hd\",\"motivate\",\"thats\",\"thesis\",\"door\",\"weakest\",\"saw\",\"canon\",\"younger\",\"costs\",\"river\",\"rings\",\"factory\",\"decent\",\"clintons\",\"holes\",\"desert\",\"divorce\",\"sold\",\"cheese\",\"atom\",\"taught\",\"minute\",\"ocean\",\"crisis\",\"represent\",\"surgical\",\"parent\",\"brexit\",\"possibility\",\"longest\",\"edit\",\"scholarship\",\"motivated\",\"chocolate\",\"faced\",\"90\",\"parallel\",\"foot\",\"examination\",\"friendly\",\"kinds\",\"wins\",\"islamic\",\"degrees\",\"registered\",\"distribution\",\"junior\",\"gave\",\"sing\",\"articles\",\"hadoop\",\"saved\",\"hero\",\"ear\",\"asks\",\"improved\",\"teenager\",\"forms\",\"wash\",\"provides\",\"washington\",\"strikes\",\"binary\",\"syria\",\"indonesia\",\"powers\",\"highly\",\"heshe\",\"happiness\",\"director\",\"citizenship\",\"knew\",\"humanity\",\"translate\",\"nba\",\"permanently\",\"soccer\",\"todays\",\"challenges\",\"barack\",\"title\",\"latin\",\"fitness\",\"genuine\",\"investor\",\"dislike\",\"scenes\",\"hacker\",\"bangladesh\",\"ebay\",\"earning\",\"dell\",\"paytm\",\"spouse\",\"bored\",\"roman\",\"official\",\"dragon\",\"park\",\"except\",\"habits\",\"quote\",\"astrology\",\"congress\",\"automatically\",\"island\",\"religions\",\"christianity\",\"supreme\",\"owner\",\"hell\",\"wikipedia\",\"cancel\",\"industries\",\"actress\",\"client\",\"visual\",\"michael\",\"remain\",\"ability\",\"concrete\",\"conflict\",\"string\",\"linear\",\"supposed\",\"engines\",\"2012\",\"\\u2018\",\"lesser\",\"traditional\",\"episodes\",\"goals\",\"tata\",\"opening\",\"target\",\"weak\",\"anonymous\",\"bjp\",\"resource\",\"concepts\",\"ruby\",\"friendship\",\"nyc\",\"pretty\",\"implement\",\"painting\",\"ill\",\"agency\",\"reverse\",\"confused\",\"italy\",\"response\",\"yellow\",\"dance\",\"contain\",\"vice\",\"editing\",\"acting\",\"weirdest\",\"feels\",\"govt\",\"accounting\",\"rise\",\"wise\",\"leaving\",\"lens\",\"artist\",\"arvind\",\"pattern\",\"scared\",\"attention\",\"airlines\",\"sky\",\"malaysia\",\"port\",\"attempt\",\"element\",\"classical\",\"shown\",\"safety\",\"including\",\"tablet\",\"la\",\"terrorism\",\"commit\",\"maps\",\"african\",\"viewed\",\"calling\",\"6s\",\"agent\",\"output\",\"justice\",\"don\",\"addiction\",\"lock\",\"vegetarian\",\"britain\",\"percent\",\"meditation\",\"ibps\",\"monthly\",\"writers\",\"forward\",\"stuff\",\"mr\",\"ready\",\"forgot\",\"flying\",\"recommended\",\"fields\",\"blind\",\"l\",\"hinduism\",\"desktop\",\"host\",\"tattoo\",\"maintain\",\"boards\",\"helpful\",\"semester\",\"load\",\"tier\",\"agree\",\"factor\",\"elon\",\"freshers\",\"sql\",\"cases\",\"exact\",\"confidence\",\"behavior\",\"hacked\",\"quotes\",\"hydrogen\",\"pakistani\",\"masturbate\",\"divided\",\"skill\",\"fine\",\"falling\",\"chess\",\"charging\",\"pages\",\"vector\",\"supporters\",\"waste\",\"sanders\",\"affordable\",\"unlock\",\"techniques\",\"wine\",\"keyboard\",\"cm\",\"wireless\",\"lawyer\",\"egg\",\"cope\",\"mindblowing\",\"recipe\",\"corruption\",\"scored\",\"secure\",\"teaching\",\"opposite\",\"educational\",\"bernie\",\"y\",\"library\",\"models\",\"kid\",\"stack\",\"separate\",\"19\",\"extremely\",\"properties\",\"cable\",\"magic\",\"removed\",\"computing\",\"hospital\",\"beer\",\"christians\",\"twice\",\"kg\",\"consulting\",\"whose\",\"serious\",\"petrol\",\"travelling\",\"revolution\",\"custom\",\"structures\",\"guide\",\"celebrate\",\"lenovo\",\"turned\",\"ielts\",\"grades\",\"fuel\",\"relative\",\"oracle\",\"academy\",\"lack\",\"passed\",\"relation\",\"values\",\"movement\",\"strategies\",\"eu\",\"emotional\",\"legs\",\"pokemon\",\"3g\",\"iran\",\"mostly\",\"jewish\",\"offered\",\"log\",\"hasnt\",\"explanation\",\"signal\",\"stores\",\"syllabus\",\"bits\",\"yoga\",\"weapons\",\"gods\",\"10000\",\"delivery\",\"gb\",\"sum\",\"letters\",\"venture\",\"selection\",\"winning\",\"35\",\"comment\",\"consequences\",\"sport\",\"items\",\"seems\",\"ring\",\"jealous\",\"laptops\",\"criteria\",\"fresh\",\"reference\",\"bitcoin\",\"infinite\",\"perform\",\"brazil\",\"density\",\"plans\",\"hosting\",\"clothing\",\"hong\",\"dying\",\"heavy\",\"steve\",\"gone\",\"damage\",\"missing\",\"ethical\",\"republican\",\"contacts\",\"activity\",\"electronic\",\"qualities\",\"piano\",\"hisher\",\"repair\",\"posts\",\"disease\",\"winter\",\"ten\",\"publish\",\"paint\",\"physically\",\"executive\",\"deposit\",\"elements\",\"xbox\",\"ceo\",\"visitors\",\"discovered\",\"tickets\",\"literature\",\"primary\",\"naturally\",\"senior\",\"u\",\"hardest\",\"debate\",\"frequency\",\"vietnam\",\"cry\",\"assistant\",\"gifts\",\"practical\",\"funny\",\"valid\",\"liberal\",\"refer\",\"beat\",\"shape\",\"institutes\",\"msc\",\"internal\",\"located\",\"significant\",\"scientists\",\"g\",\"ship\",\"proper\",\"independence\",\"added\",\"hes\",\"catch\",\"urine\",\"effectively\",\"named\",\"responsible\",\"strength\",\"whos\",\"immigration\",\"vehicle\",\"tesla\",\"kong\",\"meth\",\"england\",\"huge\",\"pizza\",\"rejected\",\"george\",\"fan\",\"salt\",\"browser\",\"sat\",\"loved\",\"fees\",\"walking\",\"symbol\",\"equity\",\"ubuntu\",\"alternatives\",\"theme\",\"virus\",\"manufacturing\",\"cutoff\",\"pure\",\"22\",\"introvert\",\"unable\",\"greek\",\"rice\",\"gst\",\"happening\",\"centre\",\"kiss\",\"prison\",\"bigger\",\"font\",\"construction\",\"exercises\",\"keeps\",\"gmat\",\"offers\",\"cross\",\"nasa\",\"unit\",\"advertising\",\"cup\",\"fixed\",\"limited\",\"billion\",\"subjects\",\"arts\",\"worlds\",\"stupid\",\"breaking\",\"funding\",\"tank\",\"generate\",\"efficient\",\"exists\",\"atheist\",\"entrepreneur\",\"direction\",\"broken\",\"offline\",\"firms\",\"station\",\"magnetic\",\"include\",\"aliens\",\"tinder\",\"logo\",\"photography\",\"worse\",\"besides\",\"path\",\"somebody\",\"interviews\",\"persons\",\"figure\",\"placed\",\"nation\",\"knows\",\"unmarried\",\"hp\",\"profitable\",\"tricks\",\"boss\",\"reply\",\"scam\",\"circle\",\"processor\",\"debt\",\"growing\",\"royal\",\"fiction\",\"department\",\"mistake\",\"weird\",\"graphics\",\"external\",\"article\",\"volume\",\"scratch\",\"chain\",\"protect\",\"storage\",\"texas\",\"liquid\",\"circuit\",\"graphic\",\"tired\",\"weather\",\"oxygen\",\"velocity\",\"dad\",\"band\",\"teachers\",\"drugs\",\"complex\",\"studio\",\"accenture\",\"leader\",\"levels\",\"goal\",\"logic\",\"acne\",\"plastic\",\"motion\",\"button\",\"peoples\",\"vision\",\"gap\",\"dollar\",\"computers\",\"stomach\",\"sources\",\"constant\",\"draw\",\"dress\",\"calculated\",\"sort\",\"3rd\",\"club\",\"channels\",\"creating\",\"candidates\",\"kejriwal\",\"broke\",\"sentences\",\"format\",\"emails\",\"raw\",\"stanford\",\"completed\",\"documents\",\"pan\",\"showing\",\"enter\",\"unknown\",\"bought\",\"router\",\"claim\",\"six\",\"technologies\",\"\\u20b9\",\"flipkart\",\"infosys\",\"mutual\",\"angry\",\"iits\",\"affected\",\"prices\",\"shares\",\"naruto\",\"processing\",\"finding\",\"democratic\",\"evolution\",\"harmful\",\"dual\",\"virtual\",\"member\",\"wave\",\"actual\",\"extra\",\"radio\",\"citizens\",\"e\",\"hr\",\"previous\",\"stopped\",\"walk\",\"redmi\",\"speaker\",\"torrent\",\"smoke\",\"mistakes\",\"flash\",\"iron\",\"entire\",\"individual\",\"express\",\"flow\",\"mode\",\"aircraft\",\"section\",\"planets\",\"10th\",\"respond\",\"easier\",\"evil\",\"percentile\",\"seeing\",\"calories\",\"upgrade\",\"professor\",\"v\",\"launch\",\"staff\",\"till\",\"silicon\",\"entry\",\"constitution\",\"century\",\"notice\",\"ie\",\"atheists\",\"tests\",\"21\",\"became\",\"kerala\",\"truly\",\"count\",\"essay\",\"papers\",\"accurate\",\"colors\",\"respect\",\"ideal\",\"rock\",\"reliance\",\"peace\",\"masturbation\",\"audio\",\"random\",\"independent\",\"colour\",\"hotels\",\"presidency\",\"generation\",\"paypal\",\"shot\",\"central\",\"released\",\"occur\",\"display\",\"industrial\",\"particular\",\"risk\",\"eg\",\"belly\",\"pet\",\"similarities\",\"organic\",\"marijuana\",\"networks\",\"aspects\",\"flat\",\"d\",\"comments\",\"nose\",\"identify\",\"rbi\",\"improvement\",\"directly\",\"framework\",\"suggestions\",\"designing\",\"brands\",\"religious\",\"influence\",\"novels\",\"statistics\",\"historical\",\"ground\",\"commerce\",\"pregnancy\",\"romantic\",\"failure\",\"wearing\",\"john\",\"apart\",\"bay\",\"symptoms\",\"200\",\"couple\",\"60\",\"canadian\",\"lie\",\"print\",\"carry\",\"gender\",\"experienced\",\"pounds\",\"reservation\",\"either\",\"stage\",\"artificial\",\"fit\",\"blogs\",\"developing\",\"environment\",\"learned\",\"copy\",\"phase\",\"bond\",\"democracy\",\"cgpa\",\"operating\",\"surface\",\"officers\",\"h1b\",\"ip\",\"workout\",\"fee\",\"elected\",\"hands\",\"largest\",\"sad\",\"shouldnt\",\"seat\",\"sister\",\"developers\",\"despite\",\"scene\",\"po\",\"diploma\",\"request\",\"empire\",\"ratio\",\"considering\",\"academic\",\"tree\",\"register\",\"advantage\",\"eligible\",\"nit\",\"shop\",\"intel\",\"funniest\",\"alternative\",\"fail\",\"ads\",\"nature\",\"miss\",\"involved\",\"overrated\",\"attend\",\"freedom\",\"dna\",\"beginners\",\"raise\",\"dry\",\"failed\",\"legally\",\"batman\",\"upload\",\"carbon\",\"regret\",\"applied\",\"points\",\"investors\",\"pick\",\"equivalent\",\"connected\",\"christmas\",\"lyrics\",\"nations\",\"caused\",\"bsc\",\"1st\",\"action\",\"activities\",\"biology\",\"hide\",\"asia\",\"takes\",\"require\",\"alive\",\"mom\",\"cycle\",\"generally\",\"campaign\",\"fair\",\"wake\",\"bit\",\"rules\",\"olympics\",\"racist\",\"areas\",\"eggs\",\"feature\",\"sap\",\"taxes\",\"ad\",\"shall\",\"theyre\",\"species\",\"pilot\",\"firm\",\"fish\",\"define\",\"doctors\",\"piece\",\"itself\",\"bang\",\"solutions\",\"iim\",\"2013\",\"wanted\",\"length\",\"burn\",\"waves\",\"bar\",\"gives\",\"forces\",\"christian\",\"anybody\",\"relationships\",\"nice\",\"wedding\",\"various\",\"brother\",\"films\",\"cream\",\"suddenly\",\"philippines\",\"fashion\",\"truth\",\"gpa\",\"cgl\",\"tall\",\"goa\",\"hacking\",\"statement\",\"reset\",\"materials\",\"played\",\"match\",\"usb\",\"novel\",\"unusual\",\"knowing\",\"selected\",\"valley\",\"chrome\",\"couples\",\"becomes\",\"died\",\"cheating\",\"community\",\"groups\",\"category\",\"pursuing\",\"writer\",\"mexico\",\"anymore\",\"sugar\",\"climate\",\"brown\",\"players\",\"ii\",\"reviews\",\"took\",\"led\",\"connection\",\"begin\",\"html\",\"changing\",\"received\",\"plants\",\"debit\",\"record\",\"revenue\",\"mars\",\"strongest\",\"members\",\"formed\",\"union\",\"thought\",\"existence\",\"kashmir\",\"gandhi\",\"pdf\",\"banned\",\"0\",\"plane\",\"treated\",\"electricity\",\"scale\",\"basis\",\"moral\",\"images\",\"methods\",\"certification\",\"voltage\",\"style\",\"base\",\"excel\",\"amazing\",\"regarding\",\"result\",\"rates\",\"hold\",\"indias\",\"airport\",\"businesses\",\"feet\",\"built\",\"linkedin\",\"signs\",\"above\",\"networking\",\"r\",\"shopping\",\"looks\",\"went\",\"placements\",\"bed\",\"experiences\",\"daughter\",\"tourist\",\"employee\",\"caste\",\"wait\",\"direct\",\"especially\",\"feed\",\"continue\",\"expected\",\"algorithm\",\"depressed\",\"shoes\",\"soon\",\"supply\",\"stress\",\"24\",\"inr\",\"foods\",\"rent\",\"architecture\",\"ban\",\"entrance\",\"actors\",\"messenger\",\"unique\",\"kolkata\",\"funds\",\"rupee\",\"promote\",\"rupees\",\"jews\",\"23\",\"cook\",\"cultural\",\"accepted\",\"hear\",\"glass\",\"road\",\"joining\",\"measure\",\"havent\",\"metal\",\"resume\",\"afraid\",\"turkey\",\"meat\",\"goes\",\"installation\",\"netflix\",\"benefit\",\"demand\",\"release\",\"produce\",\"report\",\"cover\",\"changes\",\"double\",\"2nd\",\"reaction\",\"killed\",\"steel\",\"requirements\",\"france\",\"exchange\",\"ac\",\"quantum\",\"reliable\",\"box\",\"results\",\"lives\",\"treatment\",\"4g\",\"ece\",\"probability\",\"sleeping\",\"philosophy\",\"handle\",\"forget\",\"driver\",\"demonetization\",\"algorithms\",\"trade\",\"rule\",\"muscle\",\"calls\",\"tried\",\"mental\",\"sure\",\"quit\",\"navy\",\"achieve\",\"francisco\",\"location\",\"until\",\"sense\",\"anxiety\",\"wordpress\",\"focus\",\"fact\",\"production\",\"conversation\",\"motor\",\"five\",\"attracted\",\"hit\",\"analyst\",\"moto\",\"isis\",\"chicken\",\"sector\",\"permanent\",\"along\",\"king\",\"slow\",\"candidate\",\"minutes\",\"purchase\",\"gun\",\"selling\",\"usually\",\"\\u2026\",\"fly\",\"round\",\"panel\",\"error\",\"stocks\",\"api\",\"remember\",\"africa\",\"paying\",\"hitler\",\"3d\",\"regular\",\"losing\",\"mail\",\"yahoo\",\"cheapest\",\"older\",\"concept\",\"characters\",\"definition\",\"lines\",\"pm\",\"cloud\",\"cats\",\"russian\",\"ipad\",\"korean\",\"proof\",\"battle\",\"stars\",\"stream\",\"recent\",\"typical\",\"performance\",\"harvard\",\"restaurant\",\"origin\",\"listen\",\"smell\",\"decide\",\"serve\",\"undergraduate\",\"profit\",\"situation\",\"surgery\",\"asking\",\"plant\",\"link\",\"square\",\"completing\",\"four\",\"trust\",\"payment\",\"gym\",\"andor\",\"worklife\",\"guitar\",\"elections\",\"half\",\"investing\",\"scientist\",\"street\",\"needs\",\"native\",\"thoughts\",\"reality\",\"40\",\"medicine\",\"race\",\"choice\",\"longer\",\"came\",\"applying\",\"hiring\",\"west\",\"weed\",\"hacks\",\"step\",\"sea\",\"crime\",\"devices\",\"event\",\"citizen\",\"14\",\"17\",\"ticket\",\"fund\",\"equation\",\"suicide\",\"whom\",\"met\",\"almost\",\"designer\",\"local\",\"departments\",\"khan\",\"customer\",\"banking\",\"javascript\",\"trip\",\"issue\",\"react\",\"cannot\",\"dubai\",\"wall\",\"touch\",\"parts\",\"loves\",\"clothes\",\"straight\",\"sexual\",\"active\",\"inpatient\",\"dreams\",\"protein\",\"table\",\"exercise\",\"lord\",\"mtech\",\"creative\",\"ball\",\"speaking\",\"son\",\"receive\",\"dollars\",\"domain\",\"prospects\",\"hour\",\"graduation\",\"commercial\",\"themselves\",\"factors\",\"jesus\",\"programmer\",\"recommend\",\"replace\",\"chat\",\"placement\",\"episode\",\"fastest\",\"restaurants\",\"object\",\"drivers\",\"gaming\",\"mark\",\"taste\",\"seem\",\"perfect\",\"potential\",\"trumps\",\"appear\",\"rights\",\"equal\",\"rest\",\"package\",\"meant\",\"drop\",\"cool\",\"material\",\"potter\",\"events\",\"convince\",\"completely\",\"n\",\"zero\",\"significance\",\"lower\",\"feelings\",\"followers\",\"evidence\",\"certain\",\"later\",\"original\",\"bible\",\"disorder\",\"testing\",\"via\",\"stand\",\"actor\",\"characteristics\",\"cities\",\"reach\",\"ago\",\"mbbs\",\"speech\",\"electric\",\"approach\",\"scientific\",\"root\",\"analytics\",\"below\",\"grade\",\"mains\",\"topic\",\"fun\",\"ancient\",\"adult\",\"standard\",\"ice\",\"everyday\",\"population\",\"invented\",\"european\",\"intelligent\",\"11\",\"subject\",\"rehab\",\"background\",\"giving\",\"platform\",\"flight\",\"thrones\",\"maths\",\"dc\",\"teeth\",\"mit\",\"weeks\",\"east\",\"means\",\"programs\",\"beginner\",\"heat\",\"third\",\"tea\",\"range\",\"london\",\"maximum\",\"enjoy\",\"2000\",\"cells\",\"quickly\",\"here\",\"expensive\",\"phrase\",\"partner\",\"league\",\"anime\",\"latest\",\"specific\",\"whether\",\"functions\",\"os\",\"fire\",\"saying\",\"secret\",\"13\",\"planet\",\"hole\",\"super\",\"teacher\",\"strong\",\"accounts\",\"minister\",\"database\",\"economic\",\"channel\",\"estate\",\"ram\",\"switch\",\"asian\",\"smoking\",\"branch\",\"israel\",\"18\",\"features\",\"success\",\"lead\",\"total\",\"key\",\"master\",\"ok\",\"favourite\",\"psychology\",\"pok\\u00e9mon\",\"nothing\",\"clean\",\"25\",\"politics\",\"drinking\",\"sometimes\",\"recently\",\"korea\",\"sent\",\"poor\",\"hindu\",\"hollywood\",\"survive\",\"cure\",\"property\",\"return\",\"narendra\",\"budget\",\"sports\",\"limit\",\"arent\",\"boys\",\"driving\",\"whole\",\"cash\",\"smartphone\",\"php\",\"developed\",\"ssc\",\"hot\",\"attractive\",\"tool\",\"physical\",\"ecommerce\",\"sbi\",\"morning\",\"animal\",\"multiple\",\"loan\",\"acid\",\"fresher\",\"spanish\",\"moving\",\"decision\",\"county\",\"determined\",\"becoming\",\"seo\",\"summer\",\"manage\",\"server\",\"competitive\",\"milk\",\"importance\",\"banks\",\"cheap\",\"powerful\",\"issues\",\"penis\",\"according\",\"analysis\",\"bike\",\"position\",\"western\",\"advanced\",\"campus\",\"highest\",\"front\",\"court\",\"status\",\"gravity\",\"positions\",\"comes\",\"steps\",\"complete\",\"electronics\",\"won\",\"hurt\",\"certificate\",\"temperature\",\"player\",\"someones\",\"communication\",\"million\",\"talking\",\"preparing\",\"finance\",\"cancer\",\"9\",\"harry\",\"accept\",\"2014\",\"plus\",\"born\",\"tcs\",\"license\",\"bring\",\"teach\",\"practice\",\"trading\",\"m\",\"might\",\"opportunities\",\"global\",\"wish\",\"outside\",\"attack\",\"procedure\",\"needed\",\"update\",\"coffee\",\"provider\",\"rather\",\"16\",\"allow\",\"tamil\",\"mix\",\"connect\",\"room\",\"watching\",\"deep\",\"york\",\"image\",\"birth\",\"sign\",\"birthday\",\"playing\",\"wars\",\"grads\",\"hire\",\"phones\",\"cbse\",\"details\",\"clear\",\"cricket\",\"dangerous\",\"track\",\"corporate\",\"voice\",\"upsc\",\"content\",\"okay\",\"san\",\"heart\",\"far\",\"heard\",\"prove\",\"positive\",\"moment\",\"sales\",\"opinion\",\"engineers\",\"block\",\"diet\",\"coding\",\"core\",\"baby\",\"father\",\"little\",\"large\",\"blocked\",\"distance\",\"land\",\"simple\",\"husband\",\"told\",\"traffic\",\"prevent\",\"pictures\",\"planning\",\"fear\",\"classes\",\"towards\",\"technical\",\"building\",\"trying\",\"photo\",\"early\",\"uses\",\"sydney\",\"startups\",\"act\",\"id\",\"describe\",\"12th\",\"may\",\"formula\",\"gets\",\"present\",\"wont\",\"cut\",\"treat\",\"mathematics\",\"visiting\",\"eye\",\"policy\",\"close\",\"cse\",\"suitable\",\"version\",\"tools\",\"head\",\"minimum\",\"chennai\",\"easily\",\"method\",\"intelligence\",\"gre\",\"mother\",\"doctor\",\"macbook\",\"deleted\",\"gas\",\"suggest\",\"cards\",\"files\",\"loss\",\"art\",\"easiest\",\"late\",\"among\",\"together\",\"depression\",\"higher\",\"alone\",\"economics\",\"dead\",\"growth\",\"insurance\",\"gold\",\"necessary\",\"neet\",\"blog\",\"example\",\"memory\",\"crack\",\"consider\",\"works\",\"currency\",\"recruit\",\"pursue\",\"strategy\",\"young\",\"cs\",\"projects\",\"50\",\"manager\",\"abroad\",\"schools\",\"illegal\",\"inside\",\"stories\",\"hand\",\"t\",\"greatest\",\"personality\",\"galaxy\",\"device\",\"views\",\"user\",\"chemistry\",\"cars\",\"iq\",\"prefer\",\"picture\",\"nuclear\",\"middle\",\"applications\",\"gmail\",\"laws\",\"final\",\"capital\",\"kids\",\"society\",\"fake\",\"bill\",\"save\",\"though\",\"likely\",\"determine\",\"shows\",\"character\",\"snapchat\",\"youre\",\"eyes\",\"islam\",\"marry\",\"brand\",\"yet\",\"impact\",\"speak\",\"within\",\"rich\",\"resources\",\"net\",\"non\",\"pressure\",\"changed\",\"allowed\",\"obama\",\"cold\",\"running\",\"feeling\",\"jio\",\"football\",\"gift\",\"written\",\"buying\",\"mac\",\"spend\",\"prime\",\"blue\",\"train\",\"studies\",\"negative\",\"thinking\",\"solution\",\"sun\",\"least\",\"following\",\"install\",\"else\",\"muslims\",\"camera\",\"vote\",\"linux\",\"expect\",\"german\",\"recover\",\"starting\",\"crush\",\"coming\",\"muslim\",\"modern\",\"battery\",\"provide\",\"access\",\"presidential\",\"interest\",\"dating\",\"pro\",\"likes\",\"french\",\"singapore\",\"useful\",\"already\",\"professional\",\"percentage\",\"drink\",\"created\",\"board\",\"passport\",\"structure\",\"case\",\"height\",\"microsoft\",\"break\",\"screen\",\"names\",\"chance\",\"special\",\"30\",\"skin\",\"natural\",\"color\",\"interested\",\"amount\",\"pain\",\"healthy\",\"hack\",\"messages\",\"ias\",\"gay\",\"disadvantages\",\"pass\",\"moon\",\"systems\",\"hindi\",\"financial\",\"taken\",\"yes\",\"sim\",\"pregnant\",\"faster\",\"animals\",\"internship\",\"let\",\"photos\",\"balance\",\"sound\",\"due\",\"knowledge\",\"charge\",\"message\",\"officer\",\"solar\",\"military\",\"meet\",\"option\",\"reading\",\"across\",\"overcome\",\"everyone\",\"everything\",\"wife\",\"reduce\",\"chances\",\"samsung\",\"income\",\"bollywood\",\"season\",\"europe\",\"boy\",\"currently\",\"ex\",\"smart\",\"california\",\"engine\",\"paid\",\"army\",\"contact\",\"address\",\"wants\",\"ones\",\"gain\",\"reasons\",\"avoid\",\"please\",\"note\",\"known\",\"pune\",\"film\",\"national\",\"once\",\"users\",\"porn\",\"scope\",\"twitter\",\"drug\",\"rank\",\"japan\",\"fight\",\"transfer\",\"political\",\"green\",\"news\",\"self\",\"uber\",\"basic\",\"british\",\"religion\",\"hyderabad\",\"topics\",\"explain\",\"phd\",\"eating\",\"letter\",\"calculate\",\"ive\",\"tech\",\"personal\",\"japanese\",\"check\",\"hotel\",\"wifi\",\"beautiful\",\"difficult\",\"paper\",\"languages\",\"investment\",\"develop\",\"north\",\"electrical\",\"ios\",\"alcohol\",\"exactly\",\"profile\",\"past\",\"exams\",\"ca\",\"convert\",\"vs\",\"understand\",\"care\",\"dream\",\"try\",\"americans\",\"lost\",\"chemical\",\"source\",\"b\",\"admission\",\"easy\",\"must\",\"three\",\"effect\",\"view\",\"options\",\"page\",\"away\",\"red\",\"said\",\"line\",\"short\",\"happy\",\"security\",\"dark\",\"preparation\",\"second\",\"fat\",\"matter\",\"few\",\"since\",\"role\",\"pc\",\"office\",\"team\",\"delete\",\"cell\",\"election\",\"economy\",\"term\",\"dogs\",\"text\",\"female\",\"effective\",\"brain\",\"share\",\"digital\",\"btech\",\"russia\",\"\\u201c\",\"party\",\"numbers\",\"20\",\"store\",\"male\",\"mass\",\"turn\",\"left\",\"married\",\"rs\",\"taking\",\"those\",\"password\",\"follow\",\"advice\",\"isnt\",\"15\",\"types\",\"network\",\"\\u201d\",\"week\",\"purpose\",\"related\",\"fix\",\"started\",\"courses\",\"masters\",\"grow\",\"8\",\"fast\",\"leave\",\"100\",\"often\",\"found\",\"pros\",\"marriage\",\"cons\",\"quality\",\"words\",\"kill\",\"price\",\"near\",\"modi\",\"enough\",\"search\",\"python\",\"x\",\"blood\",\"math\",\"yourself\",\"drive\",\"size\",\"star\",\"graduate\",\"majors\",\"500\",\"model\",\"studying\",\"general\",\"oil\",\"colleges\",\"area\",\"developer\",\"germany\",\"industry\",\"full\",\"training\",\"says\",\"period\",\"videos\",\"universe\",\"fall\",\"daily\",\"information\",\"foreign\",\"credit\",\"force\",\"12\",\"youve\",\"south\",\"offer\",\"set\",\"add\",\"send\",\"australia\",\"center\",\"1000\",\"famous\",\"2015\",\"lot\",\"function\",\"tax\",\"correct\",\"solve\",\"advantages\",\"coaching\",\"institute\",\"effects\",\"guys\",\"again\",\"group\",\"hours\",\"side\",\"sentence\",\"low\",\"similar\",\"plan\",\"children\",\"answers\",\"talk\",\"marks\",\"ideas\",\"theory\",\"death\",\"compared\",\"night\",\"remove\",\"dog\",\"anything\",\"single\",\"successful\",\"gate\",\"indians\",\"put\",\"problems\",\"move\",\"writing\",\"point\",\"invest\",\"asked\",\"biggest\",\"others\",\"stock\",\"notes\",\"story\",\"machine\",\"private\",\"sell\",\"seen\",\"required\",\"field\",\"file\",\"rate\",\"humans\",\"application\",\"face\",\"sites\",\"mind\",\"facts\",\"mumbai\",\"post\",\"stay\",\"child\",\"terms\",\"products\",\"control\",\"legal\",\"police\",\"didnt\",\"level\",\"worst\",\"hate\",\"visit\",\"called\",\"amazon\",\"causes\",\"health\",\"form\",\"physics\",\"iit\",\"skills\",\"times\",\"medical\",\"based\",\"list\",\"websites\",\"die\",\"part\",\"less\",\"benefits\",\"apple\",\"instead\",\"these\",\"boyfriend\",\"sleep\",\"canada\",\"reason\",\"education\",\"cause\",\"jee\",\"value\",\"today\",\"media\",\"public\",\"happened\",\"product\",\"research\",\"main\",\"behind\",\"international\",\"project\",\"uk\",\"differ\",\"7\",\"places\",\"wear\",\"order\",\"date\",\"etc\",\"small\",\"songs\",\"apps\",\"email\",\"given\",\"wrong\",\"site\",\"normal\",\"culture\",\"also\",\"civil\",\"city\",\"available\",\"house\",\"exist\",\"startup\",\"services\",\"ms\",\"both\",\"down\",\"2017\",\"run\",\"cat\",\"well\",\"space\",\"join\",\"deal\",\"games\",\"visa\",\"rid\",\"air\",\"speed\",\"popular\",\"problem\",\"support\",\"current\",\"pakistan\",\"choose\",\"build\",\"idea\",\"america\",\"whatsapp\",\"affect\",\"law\",\"technology\",\"call\",\"6\",\"universities\",\"family\",\"marketing\",\"major\",\"actually\",\"favorite\",\"light\",\"bangalore\",\"woman\",\"because\",\"type\",\"program\",\"looking\",\"living\",\"open\",\"believe\",\"month\",\"able\",\"management\",\"travel\",\"degree\",\"show\",\"interesting\",\"score\",\"months\",\"series\",\"chinese\",\"development\",\"end\",\"code\",\"design\",\"per\",\"employees\",\"review\",\"clinton\",\"common\",\"kind\",\"internet\",\"song\",\"download\",\"course\",\"parents\",\"jobs\",\"such\",\"increase\",\"java\",\"god\",\"another\",\"united\",\"girlfriend\",\"mechanical\",\"always\",\"next\",\"never\",\"around\",\"tips\",\"mba\",\"myself\",\"hillary\",\"apply\",\"answer\",\"something\",\"considered\",\"making\",\"differences\",\"market\",\"compare\",\"great\",\"keep\",\"test\",\"s\",\"win\",\"against\",\"states\",\"earn\",\"youtube\",\"worth\",\"delhi\",\"energy\",\"laptop\",\"american\",\"lose\",\"each\",\"hard\",\"makes\",\"age\",\"ask\",\"safe\",\"body\",\"power\",\"salary\",\"4\",\"watch\",\"white\",\"windows\",\"instagram\",\"history\",\"pay\",\"every\",\"last\",\"create\",\"relationship\",\"music\",\"too\",\"meaning\",\"state\",\"average\",\"earth\",\"got\",\"process\",\"class\",\"tv\",\"eat\",\"done\",\"happens\",\"days\",\"big\",\"off\",\"improve\",\"future\",\"place\",\"man\",\"human\",\"government\",\"play\",\"countries\",\"food\",\"service\",\"students\",\"weight\",\"game\",\"engineer\",\"write\",\"very\",\"interview\",\"web\",\"tell\",\"social\",\"girls\",\"video\",\"look\",\"having\",\"guy\",\"home\",\"hair\",\"usa\",\"doesnt\",\"word\",\"bank\",\"friend\",\"true\",\"experience\",\"career\",\"president\",\"question\",\"own\",\"china\",\"come\",\"under\",\"working\",\"him\",\"doing\",\"donald\",\"friends\",\"right\",\"5\",\"cost\",\"mobile\",\"even\",\"movies\",\"then\",\"c\",\"\\u2019\",\"exam\",\"men\",\"learning\",\"card\",\"war\",\"read\",\"programming\",\"black\",\"anyone\",\"high\",\"10\",\"companies\",\"car\",\"getting\",\"give\",\"important\",\"questions\",\"cant\",\"iphone\",\"website\",\"top\",\"water\",\"prepare\",\"during\",\"real\",\"say\",\"system\",\"name\",\"through\",\"two\",\"1\",\"our\",\"study\",\"3\",\"university\",\"made\",\"back\",\"happen\",\"stop\",\"student\",\"sex\",\"bad\",\"language\",\"going\",\"same\",\"before\",\"software\",\"school\",\"live\",\"country\",\"android\",\"science\",\"help\",\"she\",\"see\",\"thing\",\"women\",\"over\",\"data\",\"examples\",\"computer\",\"had\",\"ways\",\"change\",\"while\",\"book\",\"english\",\"account\",\"still\",\"movie\",\"books\",\"2016\",\"facebook\",\"free\",\"number\",\"college\",\"app\",\"2\",\"just\",\"now\",\"no\",\"trump\",\"company\",\"only\",\"old\",\"been\",\"google\",\"phone\",\"long\",\"different\",\"girl\",\"his\",\"her\",\"years\",\"really\",\"them\",\"using\",\"business\",\"need\",\"being\",\"buy\",\"day\",\"person\",\"things\",\"possible\",\"could\",\"were\",\"its\",\"love\",\"engineering\",\"im\",\"used\",\"online\",\"go\",\"year\",\"he\",\"into\",\"feel\",\"dont\",\"first\",\"up\"]]]}}},\"view\":{\"type\":\"object\",\"name\":\"CDSView\",\"id\":\"p1096\",\"attributes\":{\"filter\":{\"type\":\"object\",\"name\":\"AllIndices\",\"id\":\"p1097\"}}},\"glyph\":{\"type\":\"object\",\"name\":\"Scatter\",\"id\":\"p1092\",\"attributes\":{\"x\":{\"type\":\"field\",\"field\":\"x\"},\"y\":{\"type\":\"field\",\"field\":\"y\"},\"size\":{\"type\":\"value\",\"value\":10},\"line_color\":{\"type\":\"field\",\"field\":\"color\"},\"line_alpha\":{\"type\":\"value\",\"value\":0.25},\"fill_color\":{\"type\":\"field\",\"field\":\"color\"},\"fill_alpha\":{\"type\":\"value\",\"value\":0.25},\"hatch_color\":{\"type\":\"field\",\"field\":\"color\"},\"hatch_alpha\":{\"type\":\"value\",\"value\":0.25}}},\"nonselection_glyph\":{\"type\":\"object\",\"name\":\"Scatter\",\"id\":\"p1093\",\"attributes\":{\"x\":{\"type\":\"field\",\"field\":\"x\"},\"y\":{\"type\":\"field\",\"field\":\"y\"},\"size\":{\"type\":\"value\",\"value\":10},\"line_color\":{\"type\":\"field\",\"field\":\"color\"},\"line_alpha\":{\"type\":\"value\",\"value\":0.1},\"fill_color\":{\"type\":\"field\",\"field\":\"color\"},\"fill_alpha\":{\"type\":\"value\",\"value\":0.1},\"hatch_color\":{\"type\":\"field\",\"field\":\"color\"},\"hatch_alpha\":{\"type\":\"value\",\"value\":0.1}}},\"muted_glyph\":{\"type\":\"object\",\"name\":\"Scatter\",\"id\":\"p1094\",\"attributes\":{\"x\":{\"type\":\"field\",\"field\":\"x\"},\"y\":{\"type\":\"field\",\"field\":\"y\"},\"size\":{\"type\":\"value\",\"value\":10},\"line_color\":{\"type\":\"field\",\"field\":\"color\"},\"line_alpha\":{\"type\":\"value\",\"value\":0.2},\"fill_color\":{\"type\":\"field\",\"field\":\"color\"},\"fill_alpha\":{\"type\":\"value\",\"value\":0.2},\"hatch_color\":{\"type\":\"field\",\"field\":\"color\"},\"hatch_alpha\":{\"type\":\"value\",\"value\":0.2}}}}}],\"toolbar\":{\"type\":\"object\",\"name\":\"Toolbar\",\"id\":\"p1063\",\"attributes\":{\"tools\":[{\"type\":\"object\",\"name\":\"PanTool\",\"id\":\"p1076\"},{\"type\":\"object\",\"name\":\"WheelZoomTool\",\"id\":\"p1077\",\"attributes\":{\"renderers\":\"auto\"}},{\"type\":\"object\",\"name\":\"BoxZoomTool\",\"id\":\"p1078\",\"attributes\":{\"overlay\":{\"type\":\"object\",\"name\":\"BoxAnnotation\",\"id\":\"p1079\",\"attributes\":{\"syncable\":false,\"line_color\":\"black\",\"line_alpha\":1.0,\"line_width\":2,\"line_dash\":[4,4],\"fill_color\":\"lightgrey\",\"fill_alpha\":0.5,\"level\":\"overlay\",\"visible\":false,\"left\":{\"type\":\"number\",\"value\":\"nan\"},\"right\":{\"type\":\"number\",\"value\":\"nan\"},\"top\":{\"type\":\"number\",\"value\":\"nan\"},\"bottom\":{\"type\":\"number\",\"value\":\"nan\"},\"left_units\":\"canvas\",\"right_units\":\"canvas\",\"top_units\":\"canvas\",\"bottom_units\":\"canvas\",\"handles\":{\"type\":\"object\",\"name\":\"BoxInteractionHandles\",\"id\":\"p1085\",\"attributes\":{\"all\":{\"type\":\"object\",\"name\":\"AreaVisuals\",\"id\":\"p1084\",\"attributes\":{\"fill_color\":\"white\",\"hover_fill_color\":\"lightgray\"}}}}}}}},{\"type\":\"object\",\"name\":\"SaveTool\",\"id\":\"p1086\"},{\"type\":\"object\",\"name\":\"ResetTool\",\"id\":\"p1087\"},{\"type\":\"object\",\"name\":\"HelpTool\",\"id\":\"p1088\"},{\"type\":\"object\",\"name\":\"HoverTool\",\"id\":\"p1098\",\"attributes\":{\"renderers\":\"auto\",\"tooltips\":[[\"token\",\"@token\"]]}}],\"active_scroll\":{\"id\":\"p1077\"}}},\"left\":[{\"type\":\"object\",\"name\":\"LinearAxis\",\"id\":\"p1071\",\"attributes\":{\"ticker\":{\"type\":\"object\",\"name\":\"BasicTicker\",\"id\":\"p1072\",\"attributes\":{\"mantissas\":[1,2,5]}},\"formatter\":{\"type\":\"object\",\"name\":\"BasicTickFormatter\",\"id\":\"p1073\"},\"major_label_policy\":{\"type\":\"object\",\"name\":\"AllLabels\",\"id\":\"p1074\"}}}],\"below\":[{\"type\":\"object\",\"name\":\"LinearAxis\",\"id\":\"p1066\",\"attributes\":{\"ticker\":{\"type\":\"object\",\"name\":\"BasicTicker\",\"id\":\"p1067\",\"attributes\":{\"mantissas\":[1,2,5]}},\"formatter\":{\"type\":\"object\",\"name\":\"BasicTickFormatter\",\"id\":\"p1068\"},\"major_label_policy\":{\"type\":\"object\",\"name\":\"AllLabels\",\"id\":\"p1069\"}}}],\"center\":[{\"type\":\"object\",\"name\":\"Grid\",\"id\":\"p1070\",\"attributes\":{\"axis\":{\"id\":\"p1066\"}}},{\"type\":\"object\",\"name\":\"Grid\",\"id\":\"p1075\",\"attributes\":{\"dimension\":1,\"axis\":{\"id\":\"p1071\"}}}]}}]}};\n  const render_items = [{\"docid\":\"3f8a2017-0b6a-440c-baa1-54ae80aab3b6\",\"roots\":{\"p1055\":\"b055d779-107e-4ed6-a60b-6bf62b93c85b\"},\"root_ids\":[\"p1055\"]}];\n  void root.Bokeh.embed.embed_items_notebook(docs_json, render_items);\n  }\n  if (root.Bokeh !== undefined) {\n    embed_document(root);\n  } else {\n    let attempts = 0;\n    const timer = setInterval(function(root) {\n      if (root.Bokeh !== undefined) {\n        clearInterval(timer);\n        embed_document(root);\n      } else {\n        attempts++;\n        if (attempts > 100) {\n          clearInterval(timer);\n          console.log(\"Bokeh: ERROR: Unable to run BokehJS code because BokehJS library is missing\");\n        }\n      }\n    }, 10, root)\n  }\n})(window);",
      "application/vnd.bokehjs_exec.v0+json": ""
     },
     "metadata": {
      "application/vnd.bokehjs_exec.v0+json": {
       "id": "p1055"
      }
     },
     "output_type": "display_data"
    },
    {
     "data": {
      "text/html": [
       "<div style=\"display: table;\"><div style=\"display: table-row;\"><div style=\"display: table-cell;\"><b title=\"bokeh.plotting._figure.figure\">figure</b>(</div><div style=\"display: table-cell;\">id&nbsp;=&nbsp;'p1055', <span id=\"p1102\" style=\"cursor: pointer;\">&hellip;)</span></div></div><div class=\"p1101\" style=\"display: none;\"><div style=\"display: table-cell;\"></div><div style=\"display: table-cell;\">above&nbsp;=&nbsp;[],</div></div><div class=\"p1101\" style=\"display: none;\"><div style=\"display: table-cell;\"></div><div style=\"display: table-cell;\">align&nbsp;=&nbsp;'auto',</div></div><div class=\"p1101\" style=\"display: none;\"><div style=\"display: table-cell;\"></div><div style=\"display: table-cell;\">aspect_ratio&nbsp;=&nbsp;None,</div></div><div class=\"p1101\" style=\"display: none;\"><div style=\"display: table-cell;\"></div><div style=\"display: table-cell;\">aspect_scale&nbsp;=&nbsp;1,</div></div><div class=\"p1101\" style=\"display: none;\"><div style=\"display: table-cell;\"></div><div style=\"display: table-cell;\">attribution&nbsp;=&nbsp;[],</div></div><div class=\"p1101\" style=\"display: none;\"><div style=\"display: table-cell;\"></div><div style=\"display: table-cell;\">background_fill_alpha&nbsp;=&nbsp;1.0,</div></div><div class=\"p1101\" style=\"display: none;\"><div style=\"display: table-cell;\"></div><div style=\"display: table-cell;\">background_fill_color&nbsp;=&nbsp;'#ffffff',</div></div><div class=\"p1101\" style=\"display: none;\"><div style=\"display: table-cell;\"></div><div style=\"display: table-cell;\">below&nbsp;=&nbsp;[LinearAxis(id='p1066', ...)],</div></div><div class=\"p1101\" style=\"display: none;\"><div style=\"display: table-cell;\"></div><div style=\"display: table-cell;\">border_fill_alpha&nbsp;=&nbsp;1.0,</div></div><div class=\"p1101\" style=\"display: none;\"><div style=\"display: table-cell;\"></div><div style=\"display: table-cell;\">border_fill_color&nbsp;=&nbsp;'#ffffff',</div></div><div class=\"p1101\" style=\"display: none;\"><div style=\"display: table-cell;\"></div><div style=\"display: table-cell;\">center&nbsp;=&nbsp;[Grid(id='p1070', ...), Grid(id='p1075', ...)],</div></div><div class=\"p1101\" style=\"display: none;\"><div style=\"display: table-cell;\"></div><div style=\"display: table-cell;\">context_menu&nbsp;=&nbsp;None,</div></div><div class=\"p1101\" style=\"display: none;\"><div style=\"display: table-cell;\"></div><div style=\"display: table-cell;\">css_classes&nbsp;=&nbsp;[],</div></div><div class=\"p1101\" style=\"display: none;\"><div style=\"display: table-cell;\"></div><div style=\"display: table-cell;\">css_variables&nbsp;=&nbsp;{},</div></div><div class=\"p1101\" style=\"display: none;\"><div style=\"display: table-cell;\"></div><div style=\"display: table-cell;\">disabled&nbsp;=&nbsp;False,</div></div><div class=\"p1101\" style=\"display: none;\"><div style=\"display: table-cell;\"></div><div style=\"display: table-cell;\">elements&nbsp;=&nbsp;[],</div></div><div class=\"p1101\" style=\"display: none;\"><div style=\"display: table-cell;\"></div><div style=\"display: table-cell;\">extra_x_ranges&nbsp;=&nbsp;{},</div></div><div class=\"p1101\" style=\"display: none;\"><div style=\"display: table-cell;\"></div><div style=\"display: table-cell;\">extra_x_scales&nbsp;=&nbsp;{},</div></div><div class=\"p1101\" style=\"display: none;\"><div style=\"display: table-cell;\"></div><div style=\"display: table-cell;\">extra_y_ranges&nbsp;=&nbsp;{},</div></div><div class=\"p1101\" style=\"display: none;\"><div style=\"display: table-cell;\"></div><div style=\"display: table-cell;\">extra_y_scales&nbsp;=&nbsp;{},</div></div><div class=\"p1101\" style=\"display: none;\"><div style=\"display: table-cell;\"></div><div style=\"display: table-cell;\">flow_mode&nbsp;=&nbsp;'block',</div></div><div class=\"p1101\" style=\"display: none;\"><div style=\"display: table-cell;\"></div><div style=\"display: table-cell;\">frame_align&nbsp;=&nbsp;True,</div></div><div class=\"p1101\" style=\"display: none;\"><div style=\"display: table-cell;\"></div><div style=\"display: table-cell;\">frame_height&nbsp;=&nbsp;None,</div></div><div class=\"p1101\" style=\"display: none;\"><div style=\"display: table-cell;\"></div><div style=\"display: table-cell;\">frame_width&nbsp;=&nbsp;None,</div></div><div class=\"p1101\" style=\"display: none;\"><div style=\"display: table-cell;\"></div><div style=\"display: table-cell;\">height&nbsp;=&nbsp;400,</div></div><div class=\"p1101\" style=\"display: none;\"><div style=\"display: table-cell;\"></div><div style=\"display: table-cell;\">height_policy&nbsp;=&nbsp;'auto',</div></div><div class=\"p1101\" style=\"display: none;\"><div style=\"display: table-cell;\"></div><div style=\"display: table-cell;\">hidpi&nbsp;=&nbsp;True,</div></div><div class=\"p1101\" style=\"display: none;\"><div style=\"display: table-cell;\"></div><div style=\"display: table-cell;\">hold_render&nbsp;=&nbsp;False,</div></div><div class=\"p1101\" style=\"display: none;\"><div style=\"display: table-cell;\"></div><div style=\"display: table-cell;\">js_event_callbacks&nbsp;=&nbsp;{},</div></div><div class=\"p1101\" style=\"display: none;\"><div style=\"display: table-cell;\"></div><div style=\"display: table-cell;\">js_property_callbacks&nbsp;=&nbsp;{},</div></div><div class=\"p1101\" style=\"display: none;\"><div style=\"display: table-cell;\"></div><div style=\"display: table-cell;\">left&nbsp;=&nbsp;[LinearAxis(id='p1071', ...)],</div></div><div class=\"p1101\" style=\"display: none;\"><div style=\"display: table-cell;\"></div><div style=\"display: table-cell;\">lod_factor&nbsp;=&nbsp;10,</div></div><div class=\"p1101\" style=\"display: none;\"><div style=\"display: table-cell;\"></div><div style=\"display: table-cell;\">lod_interval&nbsp;=&nbsp;300,</div></div><div class=\"p1101\" style=\"display: none;\"><div style=\"display: table-cell;\"></div><div style=\"display: table-cell;\">lod_threshold&nbsp;=&nbsp;2000,</div></div><div class=\"p1101\" style=\"display: none;\"><div style=\"display: table-cell;\"></div><div style=\"display: table-cell;\">lod_timeout&nbsp;=&nbsp;500,</div></div><div class=\"p1101\" style=\"display: none;\"><div style=\"display: table-cell;\"></div><div style=\"display: table-cell;\">margin&nbsp;=&nbsp;None,</div></div><div class=\"p1101\" style=\"display: none;\"><div style=\"display: table-cell;\"></div><div style=\"display: table-cell;\">match_aspect&nbsp;=&nbsp;False,</div></div><div class=\"p1101\" style=\"display: none;\"><div style=\"display: table-cell;\"></div><div style=\"display: table-cell;\">max_height&nbsp;=&nbsp;None,</div></div><div class=\"p1101\" style=\"display: none;\"><div style=\"display: table-cell;\"></div><div style=\"display: table-cell;\">max_width&nbsp;=&nbsp;None,</div></div><div class=\"p1101\" style=\"display: none;\"><div style=\"display: table-cell;\"></div><div style=\"display: table-cell;\">min_border&nbsp;=&nbsp;5,</div></div><div class=\"p1101\" style=\"display: none;\"><div style=\"display: table-cell;\"></div><div style=\"display: table-cell;\">min_border_bottom&nbsp;=&nbsp;None,</div></div><div class=\"p1101\" style=\"display: none;\"><div style=\"display: table-cell;\"></div><div style=\"display: table-cell;\">min_border_left&nbsp;=&nbsp;None,</div></div><div class=\"p1101\" style=\"display: none;\"><div style=\"display: table-cell;\"></div><div style=\"display: table-cell;\">min_border_right&nbsp;=&nbsp;None,</div></div><div class=\"p1101\" style=\"display: none;\"><div style=\"display: table-cell;\"></div><div style=\"display: table-cell;\">min_border_top&nbsp;=&nbsp;None,</div></div><div class=\"p1101\" style=\"display: none;\"><div style=\"display: table-cell;\"></div><div style=\"display: table-cell;\">min_height&nbsp;=&nbsp;None,</div></div><div class=\"p1101\" style=\"display: none;\"><div style=\"display: table-cell;\"></div><div style=\"display: table-cell;\">min_width&nbsp;=&nbsp;None,</div></div><div class=\"p1101\" style=\"display: none;\"><div style=\"display: table-cell;\"></div><div style=\"display: table-cell;\">name&nbsp;=&nbsp;None,</div></div><div class=\"p1101\" style=\"display: none;\"><div style=\"display: table-cell;\"></div><div style=\"display: table-cell;\">outline_line_alpha&nbsp;=&nbsp;1.0,</div></div><div class=\"p1101\" style=\"display: none;\"><div style=\"display: table-cell;\"></div><div style=\"display: table-cell;\">outline_line_cap&nbsp;=&nbsp;'butt',</div></div><div class=\"p1101\" style=\"display: none;\"><div style=\"display: table-cell;\"></div><div style=\"display: table-cell;\">outline_line_color&nbsp;=&nbsp;'#e5e5e5',</div></div><div class=\"p1101\" style=\"display: none;\"><div style=\"display: table-cell;\"></div><div style=\"display: table-cell;\">outline_line_dash&nbsp;=&nbsp;[],</div></div><div class=\"p1101\" style=\"display: none;\"><div style=\"display: table-cell;\"></div><div style=\"display: table-cell;\">outline_line_dash_offset&nbsp;=&nbsp;0,</div></div><div class=\"p1101\" style=\"display: none;\"><div style=\"display: table-cell;\"></div><div style=\"display: table-cell;\">outline_line_join&nbsp;=&nbsp;'bevel',</div></div><div class=\"p1101\" style=\"display: none;\"><div style=\"display: table-cell;\"></div><div style=\"display: table-cell;\">outline_line_width&nbsp;=&nbsp;1,</div></div><div class=\"p1101\" style=\"display: none;\"><div style=\"display: table-cell;\"></div><div style=\"display: table-cell;\">output_backend&nbsp;=&nbsp;'canvas',</div></div><div class=\"p1101\" style=\"display: none;\"><div style=\"display: table-cell;\"></div><div style=\"display: table-cell;\">renderers&nbsp;=&nbsp;[GlyphRenderer(id='p1095', ...)],</div></div><div class=\"p1101\" style=\"display: none;\"><div style=\"display: table-cell;\"></div><div style=\"display: table-cell;\">reset_policy&nbsp;=&nbsp;'standard',</div></div><div class=\"p1101\" style=\"display: none;\"><div style=\"display: table-cell;\"></div><div style=\"display: table-cell;\">resizable&nbsp;=&nbsp;False,</div></div><div class=\"p1101\" style=\"display: none;\"><div style=\"display: table-cell;\"></div><div style=\"display: table-cell;\">right&nbsp;=&nbsp;[],</div></div><div class=\"p1101\" style=\"display: none;\"><div style=\"display: table-cell;\"></div><div style=\"display: table-cell;\">sizing_mode&nbsp;=&nbsp;None,</div></div><div class=\"p1101\" style=\"display: none;\"><div style=\"display: table-cell;\"></div><div style=\"display: table-cell;\">styles&nbsp;=&nbsp;{},</div></div><div class=\"p1101\" style=\"display: none;\"><div style=\"display: table-cell;\"></div><div style=\"display: table-cell;\">stylesheets&nbsp;=&nbsp;[],</div></div><div class=\"p1101\" style=\"display: none;\"><div style=\"display: table-cell;\"></div><div style=\"display: table-cell;\">subscribed_events&nbsp;=&nbsp;PropertyValueSet(),</div></div><div class=\"p1101\" style=\"display: none;\"><div style=\"display: table-cell;\"></div><div style=\"display: table-cell;\">syncable&nbsp;=&nbsp;True,</div></div><div class=\"p1101\" style=\"display: none;\"><div style=\"display: table-cell;\"></div><div style=\"display: table-cell;\">tags&nbsp;=&nbsp;[],</div></div><div class=\"p1101\" style=\"display: none;\"><div style=\"display: table-cell;\"></div><div style=\"display: table-cell;\">title&nbsp;=&nbsp;Title(id='p1062', ...),</div></div><div class=\"p1101\" style=\"display: none;\"><div style=\"display: table-cell;\"></div><div style=\"display: table-cell;\">title_location&nbsp;=&nbsp;'above',</div></div><div class=\"p1101\" style=\"display: none;\"><div style=\"display: table-cell;\"></div><div style=\"display: table-cell;\">toolbar&nbsp;=&nbsp;Toolbar(id='p1063', ...),</div></div><div class=\"p1101\" style=\"display: none;\"><div style=\"display: table-cell;\"></div><div style=\"display: table-cell;\">toolbar_inner&nbsp;=&nbsp;False,</div></div><div class=\"p1101\" style=\"display: none;\"><div style=\"display: table-cell;\"></div><div style=\"display: table-cell;\">toolbar_location&nbsp;=&nbsp;'right',</div></div><div class=\"p1101\" style=\"display: none;\"><div style=\"display: table-cell;\"></div><div style=\"display: table-cell;\">toolbar_sticky&nbsp;=&nbsp;True,</div></div><div class=\"p1101\" style=\"display: none;\"><div style=\"display: table-cell;\"></div><div style=\"display: table-cell;\">visible&nbsp;=&nbsp;True,</div></div><div class=\"p1101\" style=\"display: none;\"><div style=\"display: table-cell;\"></div><div style=\"display: table-cell;\">width&nbsp;=&nbsp;600,</div></div><div class=\"p1101\" style=\"display: none;\"><div style=\"display: table-cell;\"></div><div style=\"display: table-cell;\">width_policy&nbsp;=&nbsp;'auto',</div></div><div class=\"p1101\" style=\"display: none;\"><div style=\"display: table-cell;\"></div><div style=\"display: table-cell;\">x_range&nbsp;=&nbsp;DataRange1d(id='p1056', ...),</div></div><div class=\"p1101\" style=\"display: none;\"><div style=\"display: table-cell;\"></div><div style=\"display: table-cell;\">x_scale&nbsp;=&nbsp;LinearScale(id='p1064', ...),</div></div><div class=\"p1101\" style=\"display: none;\"><div style=\"display: table-cell;\"></div><div style=\"display: table-cell;\">y_range&nbsp;=&nbsp;DataRange1d(id='p1057', ...),</div></div><div class=\"p1101\" style=\"display: none;\"><div style=\"display: table-cell;\"></div><div style=\"display: table-cell;\">y_scale&nbsp;=&nbsp;LinearScale(id='p1065', ...))</div></div></div>\n",
       "<script>\n",
       "(function() {\n",
       "  let expanded = false;\n",
       "  const ellipsis = document.getElementById(\"p1102\");\n",
       "  ellipsis.addEventListener(\"click\", function() {\n",
       "    const rows = document.getElementsByClassName(\"p1101\");\n",
       "    for (let i = 0; i < rows.length; i++) {\n",
       "      const el = rows[i];\n",
       "      el.style.display = expanded ? \"none\" : \"table-row\";\n",
       "    }\n",
       "    ellipsis.innerHTML = expanded ? \"&hellip;)\" : \"&lsaquo;&lsaquo;&lsaquo;\";\n",
       "    expanded = !expanded;\n",
       "  });\n",
       "})();\n",
       "</script>\n"
      ],
      "text/plain": [
       "figure(id='p1055', ...)"
      ]
     },
     "execution_count": 109,
     "metadata": {},
     "output_type": "execute_result"
    }
   ],
   "source": [
    "draw_vectors(embedding[:, 0], embedding[:, 1], token=top_words)"
   ]
  }
 ],
 "metadata": {
  "accelerator": "GPU",
  "colab": {
   "gpuType": "T4",
   "provenance": []
  },
  "kernelspec": {
   "display_name": "Python 3",
   "name": "python3"
  },
  "language_info": {
   "codemirror_mode": {
    "name": "ipython",
    "version": 3
   },
   "file_extension": ".py",
   "mimetype": "text/x-python",
   "name": "python",
   "nbconvert_exporter": "python",
   "pygments_lexer": "ipython3",
   "version": "3.11.2"
  },
  "widgets": {
   "application/vnd.jupyter.widget-state+json": {
    "065d9c13c86a41b4b0442c4c4c80a87b": {
     "model_module": "@jupyter-widgets/base",
     "model_module_version": "1.2.0",
     "model_name": "LayoutModel",
     "state": {
      "_model_module": "@jupyter-widgets/base",
      "_model_module_version": "1.2.0",
      "_model_name": "LayoutModel",
      "_view_count": null,
      "_view_module": "@jupyter-widgets/base",
      "_view_module_version": "1.2.0",
      "_view_name": "LayoutView",
      "align_content": null,
      "align_items": null,
      "align_self": null,
      "border": null,
      "bottom": null,
      "display": null,
      "flex": null,
      "flex_flow": null,
      "grid_area": null,
      "grid_auto_columns": null,
      "grid_auto_flow": null,
      "grid_auto_rows": null,
      "grid_column": null,
      "grid_gap": null,
      "grid_row": null,
      "grid_template_areas": null,
      "grid_template_columns": null,
      "grid_template_rows": null,
      "height": null,
      "justify_content": null,
      "justify_items": null,
      "left": null,
      "margin": null,
      "max_height": null,
      "max_width": null,
      "min_height": null,
      "min_width": null,
      "object_fit": null,
      "object_position": null,
      "order": null,
      "overflow": null,
      "overflow_x": null,
      "overflow_y": null,
      "padding": null,
      "right": null,
      "top": null,
      "visibility": null,
      "width": null
     }
    },
    "097b3ff115cd41d0a5d9403b12688bd7": {
     "model_module": "@jupyter-widgets/base",
     "model_module_version": "1.2.0",
     "model_name": "LayoutModel",
     "state": {
      "_model_module": "@jupyter-widgets/base",
      "_model_module_version": "1.2.0",
      "_model_name": "LayoutModel",
      "_view_count": null,
      "_view_module": "@jupyter-widgets/base",
      "_view_module_version": "1.2.0",
      "_view_name": "LayoutView",
      "align_content": null,
      "align_items": null,
      "align_self": null,
      "border": null,
      "bottom": null,
      "display": null,
      "flex": null,
      "flex_flow": null,
      "grid_area": null,
      "grid_auto_columns": null,
      "grid_auto_flow": null,
      "grid_auto_rows": null,
      "grid_column": null,
      "grid_gap": null,
      "grid_row": null,
      "grid_template_areas": null,
      "grid_template_columns": null,
      "grid_template_rows": null,
      "height": null,
      "justify_content": null,
      "justify_items": null,
      "left": null,
      "margin": null,
      "max_height": null,
      "max_width": null,
      "min_height": null,
      "min_width": null,
      "object_fit": null,
      "object_position": null,
      "order": null,
      "overflow": null,
      "overflow_x": null,
      "overflow_y": null,
      "padding": null,
      "right": null,
      "top": null,
      "visibility": null,
      "width": null
     }
    },
    "146e2fc85501414797d3f3511e31708d": {
     "model_module": "@jupyter-widgets/base",
     "model_module_version": "1.2.0",
     "model_name": "LayoutModel",
     "state": {
      "_model_module": "@jupyter-widgets/base",
      "_model_module_version": "1.2.0",
      "_model_name": "LayoutModel",
      "_view_count": null,
      "_view_module": "@jupyter-widgets/base",
      "_view_module_version": "1.2.0",
      "_view_name": "LayoutView",
      "align_content": null,
      "align_items": null,
      "align_self": null,
      "border": null,
      "bottom": null,
      "display": null,
      "flex": null,
      "flex_flow": null,
      "grid_area": null,
      "grid_auto_columns": null,
      "grid_auto_flow": null,
      "grid_auto_rows": null,
      "grid_column": null,
      "grid_gap": null,
      "grid_row": null,
      "grid_template_areas": null,
      "grid_template_columns": null,
      "grid_template_rows": null,
      "height": null,
      "justify_content": null,
      "justify_items": null,
      "left": null,
      "margin": null,
      "max_height": null,
      "max_width": null,
      "min_height": null,
      "min_width": null,
      "object_fit": null,
      "object_position": null,
      "order": null,
      "overflow": null,
      "overflow_x": null,
      "overflow_y": null,
      "padding": null,
      "right": null,
      "top": null,
      "visibility": null,
      "width": null
     }
    },
    "2514faa7dde34ca0b647e8e07ea39186": {
     "model_module": "@jupyter-widgets/controls",
     "model_module_version": "1.5.0",
     "model_name": "HTMLModel",
     "state": {
      "_dom_classes": [],
      "_model_module": "@jupyter-widgets/controls",
      "_model_module_version": "1.5.0",
      "_model_name": "HTMLModel",
      "_view_count": null,
      "_view_module": "@jupyter-widgets/controls",
      "_view_module_version": "1.5.0",
      "_view_name": "HTMLView",
      "description": "",
      "description_tooltip": null,
      "layout": "IPY_MODEL_146e2fc85501414797d3f3511e31708d",
      "placeholder": "​",
      "style": "IPY_MODEL_395e59027407416aa28eeaa65158394b",
      "value": " 537174/537174 [00:32&lt;00:00, 16486.32it/s]"
     }
    },
    "2e7efbd1e85d46b0a75a514d1364dc00": {
     "model_module": "@jupyter-widgets/controls",
     "model_module_version": "1.5.0",
     "model_name": "FloatProgressModel",
     "state": {
      "_dom_classes": [],
      "_model_module": "@jupyter-widgets/controls",
      "_model_module_version": "1.5.0",
      "_model_name": "FloatProgressModel",
      "_view_count": null,
      "_view_module": "@jupyter-widgets/controls",
      "_view_module_version": "1.5.0",
      "_view_name": "ProgressView",
      "bar_style": "success",
      "description": "",
      "description_tooltip": null,
      "layout": "IPY_MODEL_d49f8f8b7c574db4b6337a8b586ef361",
      "max": 2500,
      "min": 0,
      "orientation": "horizontal",
      "style": "IPY_MODEL_b9d630009f6f47d0ab23caed9c5a3273",
      "value": 2500
     }
    },
    "395e59027407416aa28eeaa65158394b": {
     "model_module": "@jupyter-widgets/controls",
     "model_module_version": "1.5.0",
     "model_name": "DescriptionStyleModel",
     "state": {
      "_model_module": "@jupyter-widgets/controls",
      "_model_module_version": "1.5.0",
      "_model_name": "DescriptionStyleModel",
      "_view_count": null,
      "_view_module": "@jupyter-widgets/base",
      "_view_module_version": "1.2.0",
      "_view_name": "StyleView",
      "description_width": ""
     }
    },
    "3efe82ecb1c04b22b435b989c1d500e6": {
     "model_module": "@jupyter-widgets/controls",
     "model_module_version": "1.5.0",
     "model_name": "DescriptionStyleModel",
     "state": {
      "_model_module": "@jupyter-widgets/controls",
      "_model_module_version": "1.5.0",
      "_model_name": "DescriptionStyleModel",
      "_view_count": null,
      "_view_module": "@jupyter-widgets/base",
      "_view_module_version": "1.2.0",
      "_view_name": "StyleView",
      "description_width": ""
     }
    },
    "4d824d94d54f4fcf9dc0b057ed30b720": {
     "model_module": "@jupyter-widgets/controls",
     "model_module_version": "1.5.0",
     "model_name": "HTMLModel",
     "state": {
      "_dom_classes": [],
      "_model_module": "@jupyter-widgets/controls",
      "_model_module_version": "1.5.0",
      "_model_name": "HTMLModel",
      "_view_count": null,
      "_view_module": "@jupyter-widgets/controls",
      "_view_module_version": "1.5.0",
      "_view_name": "HTMLView",
      "description": "",
      "description_tooltip": null,
      "layout": "IPY_MODEL_097b3ff115cd41d0a5d9403b12688bd7",
      "placeholder": "​",
      "style": "IPY_MODEL_ecb17a77bdd54467a9af1bcd018a8b6b",
      "value": "100%"
     }
    },
    "5dcc187b47294280b10ecf36fa12de47": {
     "model_module": "@jupyter-widgets/controls",
     "model_module_version": "1.5.0",
     "model_name": "ProgressStyleModel",
     "state": {
      "_model_module": "@jupyter-widgets/controls",
      "_model_module_version": "1.5.0",
      "_model_name": "ProgressStyleModel",
      "_view_count": null,
      "_view_module": "@jupyter-widgets/base",
      "_view_module_version": "1.2.0",
      "_view_name": "StyleView",
      "bar_color": null,
      "description_width": ""
     }
    },
    "60b54a1b9f1a428ab8af59d737c20ac2": {
     "model_module": "@jupyter-widgets/controls",
     "model_module_version": "1.5.0",
     "model_name": "HTMLModel",
     "state": {
      "_dom_classes": [],
      "_model_module": "@jupyter-widgets/controls",
      "_model_module_version": "1.5.0",
      "_model_name": "HTMLModel",
      "_view_count": null,
      "_view_module": "@jupyter-widgets/controls",
      "_view_module_version": "1.5.0",
      "_view_name": "HTMLView",
      "description": "",
      "description_tooltip": null,
      "layout": "IPY_MODEL_ced1e3047e6a4b878dab803f5b8e302e",
      "placeholder": "​",
      "style": "IPY_MODEL_3efe82ecb1c04b22b435b989c1d500e6",
      "value": "100%"
     }
    },
    "68b39844bef74ce2a027c626017ce0ee": {
     "model_module": "@jupyter-widgets/controls",
     "model_module_version": "1.5.0",
     "model_name": "HBoxModel",
     "state": {
      "_dom_classes": [],
      "_model_module": "@jupyter-widgets/controls",
      "_model_module_version": "1.5.0",
      "_model_name": "HBoxModel",
      "_view_count": null,
      "_view_module": "@jupyter-widgets/controls",
      "_view_module_version": "1.5.0",
      "_view_name": "HBoxView",
      "box_style": "",
      "children": [
       "IPY_MODEL_4d824d94d54f4fcf9dc0b057ed30b720",
       "IPY_MODEL_b6dc3239730f4fc18c324e77bb06fa27",
       "IPY_MODEL_2514faa7dde34ca0b647e8e07ea39186"
      ],
      "layout": "IPY_MODEL_f12018927b5140be9da0e94c502ad58e"
     }
    },
    "84637333a0874606a9f04a6d99717028": {
     "model_module": "@jupyter-widgets/controls",
     "model_module_version": "1.5.0",
     "model_name": "HTMLModel",
     "state": {
      "_dom_classes": [],
      "_model_module": "@jupyter-widgets/controls",
      "_model_module_version": "1.5.0",
      "_model_name": "HTMLModel",
      "_view_count": null,
      "_view_module": "@jupyter-widgets/controls",
      "_view_module_version": "1.5.0",
      "_view_name": "HTMLView",
      "description": "",
      "description_tooltip": null,
      "layout": "IPY_MODEL_f0c3c5afeae149279887da8d865e2927",
      "placeholder": "​",
      "style": "IPY_MODEL_e0ee2968849546e980b89ae2be4d340e",
      "value": " 2500/2500 [10:40&lt;00:00,  4.15it/s]"
     }
    },
    "aec0d7894f454e73acd9d62ab1939c52": {
     "model_module": "@jupyter-widgets/base",
     "model_module_version": "1.2.0",
     "model_name": "LayoutModel",
     "state": {
      "_model_module": "@jupyter-widgets/base",
      "_model_module_version": "1.2.0",
      "_model_name": "LayoutModel",
      "_view_count": null,
      "_view_module": "@jupyter-widgets/base",
      "_view_module_version": "1.2.0",
      "_view_name": "LayoutView",
      "align_content": null,
      "align_items": null,
      "align_self": null,
      "border": null,
      "bottom": null,
      "display": null,
      "flex": null,
      "flex_flow": null,
      "grid_area": null,
      "grid_auto_columns": null,
      "grid_auto_flow": null,
      "grid_auto_rows": null,
      "grid_column": null,
      "grid_gap": null,
      "grid_row": null,
      "grid_template_areas": null,
      "grid_template_columns": null,
      "grid_template_rows": null,
      "height": null,
      "justify_content": null,
      "justify_items": null,
      "left": null,
      "margin": null,
      "max_height": null,
      "max_width": null,
      "min_height": null,
      "min_width": null,
      "object_fit": null,
      "object_position": null,
      "order": null,
      "overflow": null,
      "overflow_x": null,
      "overflow_y": null,
      "padding": null,
      "right": null,
      "top": null,
      "visibility": null,
      "width": null
     }
    },
    "b6dc3239730f4fc18c324e77bb06fa27": {
     "model_module": "@jupyter-widgets/controls",
     "model_module_version": "1.5.0",
     "model_name": "FloatProgressModel",
     "state": {
      "_dom_classes": [],
      "_model_module": "@jupyter-widgets/controls",
      "_model_module_version": "1.5.0",
      "_model_name": "FloatProgressModel",
      "_view_count": null,
      "_view_module": "@jupyter-widgets/controls",
      "_view_module_version": "1.5.0",
      "_view_name": "ProgressView",
      "bar_style": "success",
      "description": "",
      "description_tooltip": null,
      "layout": "IPY_MODEL_065d9c13c86a41b4b0442c4c4c80a87b",
      "max": 537174,
      "min": 0,
      "orientation": "horizontal",
      "style": "IPY_MODEL_5dcc187b47294280b10ecf36fa12de47",
      "value": 537174
     }
    },
    "b9d630009f6f47d0ab23caed9c5a3273": {
     "model_module": "@jupyter-widgets/controls",
     "model_module_version": "1.5.0",
     "model_name": "ProgressStyleModel",
     "state": {
      "_model_module": "@jupyter-widgets/controls",
      "_model_module_version": "1.5.0",
      "_model_name": "ProgressStyleModel",
      "_view_count": null,
      "_view_module": "@jupyter-widgets/base",
      "_view_module_version": "1.2.0",
      "_view_name": "StyleView",
      "bar_color": null,
      "description_width": ""
     }
    },
    "c997b991d766469d8104c39793b730ad": {
     "model_module": "@jupyter-widgets/controls",
     "model_module_version": "1.5.0",
     "model_name": "HBoxModel",
     "state": {
      "_dom_classes": [],
      "_model_module": "@jupyter-widgets/controls",
      "_model_module_version": "1.5.0",
      "_model_name": "HBoxModel",
      "_view_count": null,
      "_view_module": "@jupyter-widgets/controls",
      "_view_module_version": "1.5.0",
      "_view_name": "HBoxView",
      "box_style": "",
      "children": [
       "IPY_MODEL_60b54a1b9f1a428ab8af59d737c20ac2",
       "IPY_MODEL_2e7efbd1e85d46b0a75a514d1364dc00",
       "IPY_MODEL_84637333a0874606a9f04a6d99717028"
      ],
      "layout": "IPY_MODEL_aec0d7894f454e73acd9d62ab1939c52"
     }
    },
    "ced1e3047e6a4b878dab803f5b8e302e": {
     "model_module": "@jupyter-widgets/base",
     "model_module_version": "1.2.0",
     "model_name": "LayoutModel",
     "state": {
      "_model_module": "@jupyter-widgets/base",
      "_model_module_version": "1.2.0",
      "_model_name": "LayoutModel",
      "_view_count": null,
      "_view_module": "@jupyter-widgets/base",
      "_view_module_version": "1.2.0",
      "_view_name": "LayoutView",
      "align_content": null,
      "align_items": null,
      "align_self": null,
      "border": null,
      "bottom": null,
      "display": null,
      "flex": null,
      "flex_flow": null,
      "grid_area": null,
      "grid_auto_columns": null,
      "grid_auto_flow": null,
      "grid_auto_rows": null,
      "grid_column": null,
      "grid_gap": null,
      "grid_row": null,
      "grid_template_areas": null,
      "grid_template_columns": null,
      "grid_template_rows": null,
      "height": null,
      "justify_content": null,
      "justify_items": null,
      "left": null,
      "margin": null,
      "max_height": null,
      "max_width": null,
      "min_height": null,
      "min_width": null,
      "object_fit": null,
      "object_position": null,
      "order": null,
      "overflow": null,
      "overflow_x": null,
      "overflow_y": null,
      "padding": null,
      "right": null,
      "top": null,
      "visibility": null,
      "width": null
     }
    },
    "d49f8f8b7c574db4b6337a8b586ef361": {
     "model_module": "@jupyter-widgets/base",
     "model_module_version": "1.2.0",
     "model_name": "LayoutModel",
     "state": {
      "_model_module": "@jupyter-widgets/base",
      "_model_module_version": "1.2.0",
      "_model_name": "LayoutModel",
      "_view_count": null,
      "_view_module": "@jupyter-widgets/base",
      "_view_module_version": "1.2.0",
      "_view_name": "LayoutView",
      "align_content": null,
      "align_items": null,
      "align_self": null,
      "border": null,
      "bottom": null,
      "display": null,
      "flex": null,
      "flex_flow": null,
      "grid_area": null,
      "grid_auto_columns": null,
      "grid_auto_flow": null,
      "grid_auto_rows": null,
      "grid_column": null,
      "grid_gap": null,
      "grid_row": null,
      "grid_template_areas": null,
      "grid_template_columns": null,
      "grid_template_rows": null,
      "height": null,
      "justify_content": null,
      "justify_items": null,
      "left": null,
      "margin": null,
      "max_height": null,
      "max_width": null,
      "min_height": null,
      "min_width": null,
      "object_fit": null,
      "object_position": null,
      "order": null,
      "overflow": null,
      "overflow_x": null,
      "overflow_y": null,
      "padding": null,
      "right": null,
      "top": null,
      "visibility": null,
      "width": null
     }
    },
    "e0ee2968849546e980b89ae2be4d340e": {
     "model_module": "@jupyter-widgets/controls",
     "model_module_version": "1.5.0",
     "model_name": "DescriptionStyleModel",
     "state": {
      "_model_module": "@jupyter-widgets/controls",
      "_model_module_version": "1.5.0",
      "_model_name": "DescriptionStyleModel",
      "_view_count": null,
      "_view_module": "@jupyter-widgets/base",
      "_view_module_version": "1.2.0",
      "_view_name": "StyleView",
      "description_width": ""
     }
    },
    "ecb17a77bdd54467a9af1bcd018a8b6b": {
     "model_module": "@jupyter-widgets/controls",
     "model_module_version": "1.5.0",
     "model_name": "DescriptionStyleModel",
     "state": {
      "_model_module": "@jupyter-widgets/controls",
      "_model_module_version": "1.5.0",
      "_model_name": "DescriptionStyleModel",
      "_view_count": null,
      "_view_module": "@jupyter-widgets/base",
      "_view_module_version": "1.2.0",
      "_view_name": "StyleView",
      "description_width": ""
     }
    },
    "f0c3c5afeae149279887da8d865e2927": {
     "model_module": "@jupyter-widgets/base",
     "model_module_version": "1.2.0",
     "model_name": "LayoutModel",
     "state": {
      "_model_module": "@jupyter-widgets/base",
      "_model_module_version": "1.2.0",
      "_model_name": "LayoutModel",
      "_view_count": null,
      "_view_module": "@jupyter-widgets/base",
      "_view_module_version": "1.2.0",
      "_view_name": "LayoutView",
      "align_content": null,
      "align_items": null,
      "align_self": null,
      "border": null,
      "bottom": null,
      "display": null,
      "flex": null,
      "flex_flow": null,
      "grid_area": null,
      "grid_auto_columns": null,
      "grid_auto_flow": null,
      "grid_auto_rows": null,
      "grid_column": null,
      "grid_gap": null,
      "grid_row": null,
      "grid_template_areas": null,
      "grid_template_columns": null,
      "grid_template_rows": null,
      "height": null,
      "justify_content": null,
      "justify_items": null,
      "left": null,
      "margin": null,
      "max_height": null,
      "max_width": null,
      "min_height": null,
      "min_width": null,
      "object_fit": null,
      "object_position": null,
      "order": null,
      "overflow": null,
      "overflow_x": null,
      "overflow_y": null,
      "padding": null,
      "right": null,
      "top": null,
      "visibility": null,
      "width": null
     }
    },
    "f12018927b5140be9da0e94c502ad58e": {
     "model_module": "@jupyter-widgets/base",
     "model_module_version": "1.2.0",
     "model_name": "LayoutModel",
     "state": {
      "_model_module": "@jupyter-widgets/base",
      "_model_module_version": "1.2.0",
      "_model_name": "LayoutModel",
      "_view_count": null,
      "_view_module": "@jupyter-widgets/base",
      "_view_module_version": "1.2.0",
      "_view_name": "LayoutView",
      "align_content": null,
      "align_items": null,
      "align_self": null,
      "border": null,
      "bottom": null,
      "display": null,
      "flex": null,
      "flex_flow": null,
      "grid_area": null,
      "grid_auto_columns": null,
      "grid_auto_flow": null,
      "grid_auto_rows": null,
      "grid_column": null,
      "grid_gap": null,
      "grid_row": null,
      "grid_template_areas": null,
      "grid_template_columns": null,
      "grid_template_rows": null,
      "height": null,
      "justify_content": null,
      "justify_items": null,
      "left": null,
      "margin": null,
      "max_height": null,
      "max_width": null,
      "min_height": null,
      "min_width": null,
      "object_fit": null,
      "object_position": null,
      "order": null,
      "overflow": null,
      "overflow_x": null,
      "overflow_y": null,
      "padding": null,
      "right": null,
      "top": null,
      "visibility": null,
      "width": null
     }
    }
   }
  }
 },
 "nbformat": 4,
 "nbformat_minor": 0
}
