{
  "cells": [
    {
      "cell_type": "markdown",
      "metadata": {
        "id": "bXSEhW_NHmuq"
      },
      "source": [
        "# **Сравнение эмбеддингов GloVe и BERT**\n",
        "\n",
        "## **Импорт библиотек**"
      ]
    },
    {
      "cell_type": "markdown",
      "metadata": {
        "id": "-NkH32U_HlEJ"
      },
      "source": [
        "Для работы с эмбеддингами мы будем использовать библиотеку `flair`, разработанную Берлинским университетом имени Гумбольдта. `flair` имеет простой интерфейс, который позволяет использовать и комбинировать различные эмбеддинги слов и документов."
      ]
    },
    {
      "cell_type": "code",
      "execution_count": 1,
      "metadata": {
        "colab": {
          "base_uri": "https://localhost:8080/"
        },
        "id": "KJd3zFAFKA1p",
        "outputId": "f9a470ae-b612-40e5-d86c-a8fd2d8cee14"
      },
      "outputs": [],
      "source": [
        "# !pip install flair -q"
      ]
    },
    {
      "cell_type": "code",
      "execution_count": 2,
      "metadata": {
        "id": "VtUuQcNOL5t5"
      },
      "outputs": [],
      "source": [
        "import numpy as np\n",
        "from flair.embeddings import WordEmbeddings\n",
        "from flair.embeddings import TransformerWordEmbeddings\n",
        "from flair.data import Sentence\n",
        "from scipy.spatial import distance"
      ]
    },
    {
      "cell_type": "markdown",
      "metadata": {
        "id": "BaK81dLAReMO"
      },
      "source": [
        "## **Пример эмбеддинга \"GloVe\"**\n",
        "\n",
        "Классические модели эмбеддингов, такие как *Word2Vec* слов предполагают, что каждое отдельное слово получает ровно один предварительно вычисленный вектор. Большинство эмбеддингов подпадают под этот класс, включая популярные эмбеддинги **GloVe** или **Komninos**.\n",
        "\n",
        "Проилюстрируем работу *Word2Vec* с помощью эмбеддингов **GloVe**.\n",
        "\n",
        "**GloVe** — это алгоритм обучения без учителя для получения векторных представлений слов. В то время, как *Word2Vec* фиксирует, появляются ли слова в похожих контекстах, **GloVe** фокусируется на совпадении слов во всем корпусе. Его эмбеддинги связаны с вероятностью того, что два слова появятся вместе."
      ]
    },
    {
      "cell_type": "code",
      "execution_count": 3,
      "metadata": {
        "colab": {
          "base_uri": "https://localhost:8080/"
        },
        "id": "MUSf5G5jL58p",
        "outputId": "3cf1127f-c25e-4cdc-832f-abc43e50f4c5"
      },
      "outputs": [
        {
          "name": "stdout",
          "output_type": "stream",
          "text": [
            "2024-08-08 17:42:32,584 https://flair.informatik.hu-berlin.de/resources/embeddings/token/glove.gensim.vectors.npy not found in cache, downloading to /tmp/tmp8_lmo8z2\n"
          ]
        },
        {
          "name": "stderr",
          "output_type": "stream",
          "text": [
            "100%|██████████| 153M/153M [00:06<00:00, 24.3MB/s]"
          ]
        },
        {
          "name": "stdout",
          "output_type": "stream",
          "text": [
            "2024-08-08 17:42:39,498 copying /tmp/tmp8_lmo8z2 to cache at /root/.flair/embeddings/glove.gensim.vectors.npy\n"
          ]
        },
        {
          "name": "stderr",
          "output_type": "stream",
          "text": [
            "\n"
          ]
        },
        {
          "name": "stdout",
          "output_type": "stream",
          "text": [
            "2024-08-08 17:42:40,076 removing temp file /tmp/tmp8_lmo8z2\n",
            "2024-08-08 17:42:40,470 https://flair.informatik.hu-berlin.de/resources/embeddings/token/glove.gensim not found in cache, downloading to /tmp/tmpp5pf7fd3\n"
          ]
        },
        {
          "name": "stderr",
          "output_type": "stream",
          "text": [
            "100%|██████████| 20.5M/20.5M [00:01<00:00, 13.1MB/s]"
          ]
        },
        {
          "name": "stdout",
          "output_type": "stream",
          "text": [
            "2024-08-08 17:42:42,445 copying /tmp/tmpp5pf7fd3 to cache at /root/.flair/embeddings/glove.gensim\n",
            "2024-08-08 17:42:42,468 removing temp file /tmp/tmpp5pf7fd3\n"
          ]
        },
        {
          "name": "stderr",
          "output_type": "stream",
          "text": [
            "\n"
          ]
        }
      ],
      "source": [
        "# Скачаем заранее изученные эмбеддинги\n",
        "glove_embedding = WordEmbeddings('glove')"
      ]
    },
    {
      "cell_type": "markdown",
      "metadata": {
        "id": "t63vP9mlRhUp"
      },
      "source": [
        "### **1е предложение**"
      ]
    },
    {
      "cell_type": "code",
      "execution_count": 43,
      "metadata": {
        "id": "cV8ALdZ0L6Dk"
      },
      "outputs": [],
      "source": [
        "sentence_1 = Sentence(\"The light in the room was too bright, and I couldn't read\")"
      ]
    },
    {
      "cell_type": "markdown",
      "metadata": {
        "id": "aYMrDPKQMIoK"
      },
      "source": [
        " Элементы результирующего вектора называются ***токенами***.\n",
        "\n"
      ]
    },
    {
      "cell_type": "code",
      "execution_count": 44,
      "metadata": {
        "colab": {
          "base_uri": "https://localhost:8080/"
        },
        "id": "3IC1576rL7jK",
        "outputId": "ad83baa2-23c3-46ec-bbcd-aa60d946439f"
      },
      "outputs": [
        {
          "data": {
            "text/plain": [
              "[Sentence[14]: \"The light in the room was too bright, and I couldn't read\"]"
            ]
          },
          "execution_count": 44,
          "metadata": {},
          "output_type": "execute_result"
        }
      ],
      "source": [
        "glove_embedding.embed(sentence_1)"
      ]
    },
    {
      "cell_type": "code",
      "execution_count": 45,
      "metadata": {
        "colab": {
          "base_uri": "https://localhost:8080/"
        },
        "id": "KXfWooZHL7l4",
        "outputId": "83849af0-5c23-4d84-a099-a9ac6b153399"
      },
      "outputs": [
        {
          "name": "stdout",
          "output_type": "stream",
          "text": [
            "Token[0]: \"The\"\n",
            "torch.Size([100]) \n",
            "\n",
            "Token[1]: \"light\"\n",
            "torch.Size([100]) \n",
            "\n",
            "Token[2]: \"in\"\n",
            "torch.Size([100]) \n",
            "\n",
            "Token[3]: \"the\"\n",
            "torch.Size([100]) \n",
            "\n",
            "Token[4]: \"room\"\n",
            "torch.Size([100]) \n",
            "\n",
            "Token[5]: \"was\"\n",
            "torch.Size([100]) \n",
            "\n",
            "Token[6]: \"too\"\n",
            "torch.Size([100]) \n",
            "\n",
            "Token[7]: \"bright\"\n",
            "torch.Size([100]) \n",
            "\n",
            "Token[8]: \",\"\n",
            "torch.Size([100]) \n",
            "\n",
            "Token[9]: \"and\"\n",
            "torch.Size([100]) \n",
            "\n",
            "Token[10]: \"I\"\n",
            "torch.Size([100]) \n",
            "\n",
            "Token[11]: \"could\"\n",
            "torch.Size([100]) \n",
            "\n",
            "Token[12]: \"n't\"\n",
            "torch.Size([100]) \n",
            "\n",
            "Token[13]: \"read\"\n",
            "torch.Size([100]) \n",
            "\n"
          ]
        }
      ],
      "source": [
        "for token in sentence_1:\n",
        "    print(token)\n",
        "    print(token.embedding.shape, '\\n')"
      ]
    },
    {
      "cell_type": "markdown",
      "metadata": {
        "id": "qBUmJP2nJfum"
      },
      "source": [
        "Выберем первое слово нашего предложения и посмотрим на его векторное представление"
      ]
    },
    {
      "cell_type": "code",
      "execution_count": 46,
      "metadata": {
        "colab": {
          "base_uri": "https://localhost:8080/"
        },
        "id": "lHwww0V0U5om",
        "outputId": "4de04c84-1be0-4399-fc2a-7b636926f836"
      },
      "outputs": [
        {
          "name": "stdout",
          "output_type": "stream",
          "text": [
            "Token[1]: \"light\"\n",
            "tensor([-0.0057,  0.4809, -0.1462, -0.1068,  0.1280, -0.2933,  0.1540,  0.4191,\n",
            "        -0.5845, -0.0882,  0.2701, -0.6978,  0.2960,  0.1466,  0.7739, -0.7541,\n",
            "        -0.1105, -0.1999,  0.8344, -0.5336,  0.3413, -0.9155, -0.2100, -0.4984,\n",
            "         0.3633,  0.7514,  0.2243,  0.0499,  0.0130,  0.0514, -0.1493, -0.2122,\n",
            "        -0.6939,  0.0937, -0.1015,  0.2140,  0.0152, -0.1494,  0.6456,  0.3025,\n",
            "        -0.2018, -0.9830, -0.3830, -0.5775,  0.0785,  0.0308,  0.0819,  0.2499,\n",
            "         0.4438, -0.9815,  0.5671,  0.1875,  0.2845,  1.2965,  0.1928, -2.2519,\n",
            "         0.2619,  0.6577,  1.7942, -0.4435,  0.1692,  1.1139, -0.6808,  0.7017,\n",
            "         0.4602, -0.1253,  0.3981, -0.5240, -0.2695, -0.2514,  0.4031, -0.7773,\n",
            "         0.7515,  0.1175,  0.7159,  0.0934,  0.4862, -0.3857, -0.5227,  0.0262,\n",
            "         0.3681, -0.2359, -0.4491,  0.7412, -0.8613, -0.2482, -0.0351, -0.2383,\n",
            "         0.9937,  0.0170,  0.0811, -0.4658, -0.6330,  0.2032, -0.7355,  0.3726,\n",
            "        -0.8211, -0.4171,  0.2343, -0.4022])\n"
          ]
        }
      ],
      "source": [
        "print(sentence_1[1], sentence_1[1].embedding, sep=\"\\n\")"
      ]
    },
    {
      "cell_type": "code",
      "execution_count": 47,
      "metadata": {
        "colab": {
          "base_uri": "https://localhost:8080/"
        },
        "id": "vaKQ291wVph2",
        "outputId": "dc9e408d-2bd7-4a54-91e3-7f1bdce335a4"
      },
      "outputs": [
        {
          "data": {
            "text/plain": [
              "torch.Size([100])"
            ]
          },
          "execution_count": 47,
          "metadata": {},
          "output_type": "execute_result"
        }
      ],
      "source": [
        "sentence_1[1].embedding.shape"
      ]
    },
    {
      "cell_type": "markdown",
      "metadata": {
        "id": "Jj7HaPcERj6l"
      },
      "source": [
        "### **2е предложение**"
      ]
    },
    {
      "cell_type": "code",
      "execution_count": 48,
      "metadata": {
        "id": "h9UQxJymMy0a"
      },
      "outputs": [],
      "source": [
        "sentence_2 = Sentence('She always radiates light and joy to everyone around her')"
      ]
    },
    {
      "cell_type": "code",
      "execution_count": 49,
      "metadata": {
        "colab": {
          "base_uri": "https://localhost:8080/"
        },
        "id": "nlawydV0Nbjc",
        "outputId": "8ad90c68-be6a-47de-d1d8-de5c76240f5a"
      },
      "outputs": [
        {
          "data": {
            "text/plain": [
              "[Sentence[10]: \"She always radiates light and joy to everyone around her\"]"
            ]
          },
          "execution_count": 49,
          "metadata": {},
          "output_type": "execute_result"
        }
      ],
      "source": [
        "glove_embedding.embed(sentence_2)"
      ]
    },
    {
      "cell_type": "code",
      "execution_count": 50,
      "metadata": {
        "colab": {
          "base_uri": "https://localhost:8080/"
        },
        "id": "vArJ75eENbl1",
        "outputId": "7f6c7d45-19c4-463f-910b-88be7688c9ce"
      },
      "outputs": [
        {
          "name": "stdout",
          "output_type": "stream",
          "text": [
            "Token[0]: \"She\"\n",
            "torch.Size([100]) \n",
            "\n",
            "Token[1]: \"always\"\n",
            "torch.Size([100]) \n",
            "\n",
            "Token[2]: \"radiates\"\n",
            "torch.Size([100]) \n",
            "\n",
            "Token[3]: \"light\"\n",
            "torch.Size([100]) \n",
            "\n",
            "Token[4]: \"and\"\n",
            "torch.Size([100]) \n",
            "\n",
            "Token[5]: \"joy\"\n",
            "torch.Size([100]) \n",
            "\n",
            "Token[6]: \"to\"\n",
            "torch.Size([100]) \n",
            "\n",
            "Token[7]: \"everyone\"\n",
            "torch.Size([100]) \n",
            "\n",
            "Token[8]: \"around\"\n",
            "torch.Size([100]) \n",
            "\n",
            "Token[9]: \"her\"\n",
            "torch.Size([100]) \n",
            "\n"
          ]
        }
      ],
      "source": [
        "for token in sentence_2:\n",
        "    print(token)\n",
        "    print(token.embedding.shape, '\\n')"
      ]
    },
    {
      "cell_type": "code",
      "execution_count": 51,
      "metadata": {
        "colab": {
          "base_uri": "https://localhost:8080/"
        },
        "id": "DcyvHe-JRAti",
        "outputId": "71539d51-45aa-4037-cca0-014040d74253"
      },
      "outputs": [
        {
          "name": "stdout",
          "output_type": "stream",
          "text": [
            "Token[3]: \"light\"\n",
            "tensor([-0.0057,  0.4809, -0.1462, -0.1068,  0.1280, -0.2933,  0.1540,  0.4191,\n",
            "        -0.5845, -0.0882,  0.2701, -0.6978,  0.2960,  0.1466,  0.7739, -0.7541,\n",
            "        -0.1105, -0.1999,  0.8344, -0.5336,  0.3413, -0.9155, -0.2100, -0.4984,\n",
            "         0.3633,  0.7514,  0.2243,  0.0499,  0.0130,  0.0514, -0.1493, -0.2122,\n",
            "        -0.6939,  0.0937, -0.1015,  0.2140,  0.0152, -0.1494,  0.6456,  0.3025,\n",
            "        -0.2018, -0.9830, -0.3830, -0.5775,  0.0785,  0.0308,  0.0819,  0.2499,\n",
            "         0.4438, -0.9815,  0.5671,  0.1875,  0.2845,  1.2965,  0.1928, -2.2519,\n",
            "         0.2619,  0.6577,  1.7942, -0.4435,  0.1692,  1.1139, -0.6808,  0.7017,\n",
            "         0.4602, -0.1253,  0.3981, -0.5240, -0.2695, -0.2514,  0.4031, -0.7773,\n",
            "         0.7515,  0.1175,  0.7159,  0.0934,  0.4862, -0.3857, -0.5227,  0.0262,\n",
            "         0.3681, -0.2359, -0.4491,  0.7412, -0.8613, -0.2482, -0.0351, -0.2383,\n",
            "         0.9937,  0.0170,  0.0811, -0.4658, -0.6330,  0.2032, -0.7355,  0.3726,\n",
            "        -0.8211, -0.4171,  0.2343, -0.4022])\n"
          ]
        }
      ],
      "source": [
        "print(sentence_2[3], sentence_2[3].embedding, sep=\"\\n\")"
      ]
    },
    {
      "cell_type": "code",
      "execution_count": 52,
      "metadata": {
        "colab": {
          "base_uri": "https://localhost:8080/"
        },
        "id": "z2iekZ7QVw1A",
        "outputId": "d13c15c3-c7d3-4157-e6e6-b4bcf3d14e33"
      },
      "outputs": [
        {
          "data": {
            "text/plain": [
              "torch.Size([100])"
            ]
          },
          "execution_count": 52,
          "metadata": {},
          "output_type": "execute_result"
        }
      ],
      "source": [
        "sentence_2[3].embedding.shape"
      ]
    },
    {
      "cell_type": "markdown",
      "metadata": {
        "id": "xaLnCTt3Rmr1"
      },
      "source": [
        "### **Расстояние между словом light в двух предложениях**"
      ]
    },
    {
      "cell_type": "code",
      "execution_count": 54,
      "metadata": {
        "colab": {
          "base_uri": "https://localhost:8080/"
        },
        "id": "eob6E_nVRAwi",
        "outputId": "b461a0d6-2e5a-4c51-bb8f-9923aa8aacbe"
      },
      "outputs": [
        {
          "name": "stdout",
          "output_type": "stream",
          "text": [
            "Distance between 'light' embeddings for Glove = 0.0\n"
          ]
        }
      ],
      "source": [
        "glove_dst = distance.euclidean(\n",
        "    np.array(sentence_1[1].embedding),\n",
        "    np.array(sentence_2[3].embedding)\n",
        "    )\n",
        "\n",
        "print(\"Distance between 'light' embeddings for Glove = {}\".format(glove_dst))"
      ]
    },
    {
      "cell_type": "markdown",
      "metadata": {
        "id": "PflnZaRsSPu_"
      },
      "source": [
        "## **Эмбеддинг BERT**"
      ]
    },
    {
      "cell_type": "code",
      "execution_count": 28,
      "metadata": {
        "colab": {
          "base_uri": "https://localhost:8080/",
          "height": 301,
          "referenced_widgets": [
            "c8b036a6aaa14dd9a77812dda4c6c2d0",
            "5e2b8004ac804acda0670510f8fb991f",
            "0789b2545804459fa62d628cc6a66576",
            "09a71d48b6474172abf3ee954ca26628",
            "e935cadbe8d14f8a83cfd6ddf47a912d",
            "bb994156c127426c848a1f3bb75ed4ba",
            "7c91b5bd077245f6a3c35ad8348e580b",
            "8f858e9ddf254546a94bf4cdb29ef05c",
            "4b7a96dbd1bc48568c82bb12da383a1c",
            "9ba44997cb6744fdab2a05a947149f0a",
            "ea66c1e039a14c218cc39b161f5413ac",
            "df9e1187a4d04c958861f24774830d21",
            "b2744aa92d684ac8984d064ebc475a6b",
            "666c70328178408d853a65669ca2d35f",
            "abb7c0ba4d9f4d86a4dc836f9e464a49",
            "249153afc809411da3be54bea84ce636",
            "0fcb235face746eea52d4a3c37ec6928",
            "40d51d00985b43d484b4e7394d18902f",
            "7e40f36291ad403c85e6a849136338c3",
            "36737a7970454624bcef3f81ce5ebde3",
            "9a76fcb4070447a8910a84546b77b5ad",
            "ca96090848ba42fca49db9e390807966",
            "c220fe9faae445b48b81e83eaf2403c2",
            "f6c3078571c347a1a4106004d97ba010",
            "417fbaf3e66c4f779fc150768d7596b9",
            "8120753bf55943139328ccb57e88d348",
            "0ef1f2f54c02475fac3f98a891a7b48c",
            "87c5f08d95e24de3b9e6efba718f3b26",
            "d74332990a7a46f385e3e7c63499a538",
            "587670e65a0741be84c0434dbdba5039",
            "b0a350a8cdfe44d4b1cb3880c0a1c95f",
            "2c384288f0a64de6a1f4a2fa766667ce",
            "2d12a09ce8c24bbaa3379b3bbeedf13e",
            "479a9b2d0a5a4cfda14c071636492384",
            "4b1940dafa814d6e8109df792c677ed7",
            "8bc522ee40ce48cea89f2589c5e2dce6",
            "d1256d9ea19b43cfa8ba2768c2e46b14",
            "d8973baad2644682b65aeeb8a2b815fa",
            "8c256996b9ea49648d4e42671b8cf61c",
            "fe3e264ab85f4f9bb4e974933a738d71",
            "0bdfc45016154b3494e80dce0e76b817",
            "033b98c471ac4713b93cc063abf359ff",
            "53dd8d77ffd74d5ab7394dcd090dfadd",
            "8d22ca0be7084eb191d9921a62fc9fac",
            "2dbaac86cff04ad98517ac57f61c6ab4",
            "bb51398867094101b7d5a45c8dfd7636",
            "a8a675d7146e4ce5bd455670dd0f61b3",
            "e730d0f7555946f9b23e11ac5f36415f",
            "956ae451b35244cea7a6f50dbc9af7b7",
            "b213c3383c9b4010886241017eccc198",
            "234ab216cb9f42c389adbf041212ab1d",
            "cd98de9358494405848b5bf765767232",
            "e82aaa2d4edf456d8f5d02a362e7a550",
            "1e3f1a729d0344699007a0fc2c1e7089",
            "788ea36973dc40769babac3b936dd2c8"
          ]
        },
        "id": "dXY0ryH4PnG3",
        "outputId": "e6c9578e-ab52-4681-b560-3d109aec280b"
      },
      "outputs": [
        {
          "name": "stderr",
          "output_type": "stream",
          "text": [
            "/usr/local/lib/python3.10/dist-packages/huggingface_hub/utils/_token.py:89: UserWarning: \n",
            "The secret `HF_TOKEN` does not exist in your Colab secrets.\n",
            "To authenticate with the Hugging Face Hub, create a token in your settings tab (https://huggingface.co/settings/tokens), set it as secret in your Google Colab and restart your session.\n",
            "You will be able to reuse this secret in all of your notebooks.\n",
            "Please note that authentication is recommended but still optional to access public models or datasets.\n",
            "  warnings.warn(\n"
          ]
        },
        {
          "data": {
            "application/vnd.jupyter.widget-view+json": {
              "model_id": "c8b036a6aaa14dd9a77812dda4c6c2d0",
              "version_major": 2,
              "version_minor": 0
            },
            "text/plain": [
              "tokenizer_config.json:   0%|          | 0.00/49.0 [00:00<?, ?B/s]"
            ]
          },
          "metadata": {},
          "output_type": "display_data"
        },
        {
          "data": {
            "application/vnd.jupyter.widget-view+json": {
              "model_id": "df9e1187a4d04c958861f24774830d21",
              "version_major": 2,
              "version_minor": 0
            },
            "text/plain": [
              "config.json:   0%|          | 0.00/625 [00:00<?, ?B/s]"
            ]
          },
          "metadata": {},
          "output_type": "display_data"
        },
        {
          "data": {
            "application/vnd.jupyter.widget-view+json": {
              "model_id": "c220fe9faae445b48b81e83eaf2403c2",
              "version_major": 2,
              "version_minor": 0
            },
            "text/plain": [
              "vocab.txt:   0%|          | 0.00/996k [00:00<?, ?B/s]"
            ]
          },
          "metadata": {},
          "output_type": "display_data"
        },
        {
          "data": {
            "application/vnd.jupyter.widget-view+json": {
              "model_id": "479a9b2d0a5a4cfda14c071636492384",
              "version_major": 2,
              "version_minor": 0
            },
            "text/plain": [
              "tokenizer.json:   0%|          | 0.00/1.96M [00:00<?, ?B/s]"
            ]
          },
          "metadata": {},
          "output_type": "display_data"
        },
        {
          "data": {
            "application/vnd.jupyter.widget-view+json": {
              "model_id": "2dbaac86cff04ad98517ac57f61c6ab4",
              "version_major": 2,
              "version_minor": 0
            },
            "text/plain": [
              "model.safetensors:   0%|          | 0.00/714M [00:00<?, ?B/s]"
            ]
          },
          "metadata": {},
          "output_type": "display_data"
        }
      ],
      "source": [
        "bert_embedding = TransformerWordEmbeddings('bert-base-multilingual-cased')"
      ]
    },
    {
      "cell_type": "markdown",
      "metadata": {
        "id": "y8FA9vv5EgDC"
      },
      "source": [
        "### **1е предложение**"
      ]
    },
    {
      "cell_type": "code",
      "execution_count": 55,
      "metadata": {
        "colab": {
          "base_uri": "https://localhost:8080/"
        },
        "id": "A3IP_ShHPnJf",
        "outputId": "c7b5f40c-3989-42da-8dc5-7a39fc1243cc"
      },
      "outputs": [
        {
          "name": "stdout",
          "output_type": "stream",
          "text": [
            "Token[0]: \"The\"\n",
            "torch.Size([868]) \n",
            "\n",
            "Token[1]: \"light\"\n",
            "torch.Size([868]) \n",
            "\n",
            "Token[2]: \"in\"\n",
            "torch.Size([868]) \n",
            "\n",
            "Token[3]: \"the\"\n",
            "torch.Size([868]) \n",
            "\n",
            "Token[4]: \"room\"\n",
            "torch.Size([868]) \n",
            "\n",
            "Token[5]: \"was\"\n",
            "torch.Size([868]) \n",
            "\n",
            "Token[6]: \"too\"\n",
            "torch.Size([868]) \n",
            "\n",
            "Token[7]: \"bright\"\n",
            "torch.Size([868]) \n",
            "\n",
            "Token[8]: \",\"\n",
            "torch.Size([868]) \n",
            "\n",
            "Token[9]: \"and\"\n",
            "torch.Size([868]) \n",
            "\n",
            "Token[10]: \"I\"\n",
            "torch.Size([868]) \n",
            "\n",
            "Token[11]: \"could\"\n",
            "torch.Size([868]) \n",
            "\n",
            "Token[12]: \"n't\"\n",
            "torch.Size([868]) \n",
            "\n",
            "Token[13]: \"read\"\n",
            "torch.Size([868]) \n",
            "\n"
          ]
        }
      ],
      "source": [
        "bert_embedding.embed(sentence_1)\n",
        "for token in sentence_1:\n",
        "    print(token)\n",
        "    print(token.embedding.shape, '\\n')"
      ]
    },
    {
      "cell_type": "code",
      "execution_count": 57,
      "metadata": {
        "colab": {
          "base_uri": "https://localhost:8080/"
        },
        "id": "i-l5ugHoVCB4",
        "outputId": "8ae2c5b2-4605-44ce-bc03-a11044a1f132"
      },
      "outputs": [
        {
          "name": "stdout",
          "output_type": "stream",
          "text": [
            "Token[1]: \"light\"\n",
            "tensor([-0.0057,  0.4809, -0.1462, -0.1068,  0.1280, -0.2933,  0.1540,  0.4191,\n",
            "        -0.5845, -0.0882,  0.2701, -0.6978,  0.2960,  0.1466,  0.7739, -0.7541,\n",
            "        -0.1105, -0.1999,  0.8344, -0.5336,  0.3413, -0.9155, -0.2100, -0.4984,\n",
            "         0.3633,  0.7514,  0.2243,  0.0499,  0.0130,  0.0514, -0.1493, -0.2122,\n",
            "        -0.6939,  0.0937, -0.1015,  0.2140,  0.0152, -0.1494,  0.6456,  0.3025,\n",
            "        -0.2018, -0.9830, -0.3830, -0.5775,  0.0785,  0.0308,  0.0819,  0.2499,\n",
            "         0.4438, -0.9815,  0.5671,  0.1875,  0.2845,  1.2965,  0.1928, -2.2519,\n",
            "         0.2619,  0.6577,  1.7942, -0.4435,  0.1692,  1.1139, -0.6808,  0.7017,\n",
            "         0.4602, -0.1253,  0.3981, -0.5240, -0.2695, -0.2514,  0.4031, -0.7773,\n",
            "         0.7515,  0.1175,  0.7159,  0.0934,  0.4862, -0.3857, -0.5227,  0.0262,\n",
            "         0.3681, -0.2359, -0.4491,  0.7412, -0.8613, -0.2482, -0.0351, -0.2383,\n",
            "         0.9937,  0.0170,  0.0811, -0.4658, -0.6330,  0.2032, -0.7355,  0.3726,\n",
            "        -0.8211, -0.4171,  0.2343, -0.4022])\n"
          ]
        }
      ],
      "source": [
        "print(sentence_1[1], sentence_1[1].embedding[:100], sep='\\n')"
      ]
    },
    {
      "cell_type": "code",
      "execution_count": 58,
      "metadata": {
        "colab": {
          "base_uri": "https://localhost:8080/"
        },
        "id": "-NbsQf5LVCOo",
        "outputId": "03f1709e-66f6-4f15-fd90-5fff9a0bd802"
      },
      "outputs": [
        {
          "data": {
            "text/plain": [
              "torch.Size([868])"
            ]
          },
          "execution_count": 58,
          "metadata": {},
          "output_type": "execute_result"
        }
      ],
      "source": [
        "sentence_1[1].embedding.shape"
      ]
    },
    {
      "cell_type": "markdown",
      "metadata": {
        "id": "uUmEHu3bEgDC"
      },
      "source": [
        "### **2е предложение**"
      ]
    },
    {
      "cell_type": "code",
      "execution_count": 59,
      "metadata": {
        "colab": {
          "base_uri": "https://localhost:8080/"
        },
        "id": "EE0U1W1GPnPu",
        "outputId": "40d770a6-d849-4720-fea0-0921ce14e4a1"
      },
      "outputs": [
        {
          "name": "stdout",
          "output_type": "stream",
          "text": [
            "Token[0]: \"She\"\n",
            "torch.Size([868]) \n",
            "\n",
            "Token[1]: \"always\"\n",
            "torch.Size([868]) \n",
            "\n",
            "Token[2]: \"radiates\"\n",
            "torch.Size([868]) \n",
            "\n",
            "Token[3]: \"light\"\n",
            "torch.Size([868]) \n",
            "\n",
            "Token[4]: \"and\"\n",
            "torch.Size([868]) \n",
            "\n",
            "Token[5]: \"joy\"\n",
            "torch.Size([868]) \n",
            "\n",
            "Token[6]: \"to\"\n",
            "torch.Size([868]) \n",
            "\n",
            "Token[7]: \"everyone\"\n",
            "torch.Size([868]) \n",
            "\n",
            "Token[8]: \"around\"\n",
            "torch.Size([868]) \n",
            "\n",
            "Token[9]: \"her\"\n",
            "torch.Size([868]) \n",
            "\n"
          ]
        }
      ],
      "source": [
        "bert_embedding.embed(sentence_2)\n",
        "\n",
        "for token in sentence_2:\n",
        "    print(token)\n",
        "    print(token.embedding.shape, '\\n')"
      ]
    },
    {
      "cell_type": "code",
      "execution_count": 60,
      "metadata": {
        "colab": {
          "base_uri": "https://localhost:8080/"
        },
        "id": "gxgH3RinSYuo",
        "outputId": "7decb19a-7b25-490e-9bc7-bdd19536b24a"
      },
      "outputs": [
        {
          "name": "stdout",
          "output_type": "stream",
          "text": [
            "Token[3]: \"light\"\n",
            "tensor([-0.0057,  0.4809, -0.1462, -0.1068,  0.1280, -0.2933,  0.1540,  0.4191,\n",
            "        -0.5845, -0.0882,  0.2701, -0.6978,  0.2960,  0.1466,  0.7739, -0.7541,\n",
            "        -0.1105, -0.1999,  0.8344, -0.5336,  0.3413, -0.9155, -0.2100, -0.4984,\n",
            "         0.3633,  0.7514,  0.2243,  0.0499,  0.0130,  0.0514, -0.1493, -0.2122,\n",
            "        -0.6939,  0.0937, -0.1015,  0.2140,  0.0152, -0.1494,  0.6456,  0.3025,\n",
            "        -0.2018, -0.9830, -0.3830, -0.5775,  0.0785,  0.0308,  0.0819,  0.2499,\n",
            "         0.4438, -0.9815,  0.5671,  0.1875,  0.2845,  1.2965,  0.1928, -2.2519,\n",
            "         0.2619,  0.6577,  1.7942, -0.4435,  0.1692,  1.1139, -0.6808,  0.7017,\n",
            "         0.4602, -0.1253,  0.3981, -0.5240, -0.2695, -0.2514,  0.4031, -0.7773,\n",
            "         0.7515,  0.1175,  0.7159,  0.0934,  0.4862, -0.3857, -0.5227,  0.0262,\n",
            "         0.3681, -0.2359, -0.4491,  0.7412, -0.8613, -0.2482, -0.0351, -0.2383,\n",
            "         0.9937,  0.0170,  0.0811, -0.4658, -0.6330,  0.2032, -0.7355,  0.3726,\n",
            "        -0.8211, -0.4171,  0.2343, -0.4022])\n"
          ]
        }
      ],
      "source": [
        "print(sentence_2[3], sentence_2[3].embedding[:100], sep='\\n')"
      ]
    },
    {
      "cell_type": "code",
      "execution_count": 61,
      "metadata": {
        "colab": {
          "base_uri": "https://localhost:8080/"
        },
        "id": "LLWXtOSRWwxT",
        "outputId": "7d469d96-58c4-45e7-a528-d9c8cbeec506"
      },
      "outputs": [
        {
          "data": {
            "text/plain": [
              "torch.Size([868])"
            ]
          },
          "execution_count": 61,
          "metadata": {},
          "output_type": "execute_result"
        }
      ],
      "source": [
        "sentence_2[3].embedding.shape"
      ]
    },
    {
      "cell_type": "markdown",
      "metadata": {
        "id": "T8S_IjxUEgDC"
      },
      "source": [
        "### **Расстояние между словом light в двух предложениях**"
      ]
    },
    {
      "cell_type": "code",
      "execution_count": 62,
      "metadata": {
        "colab": {
          "base_uri": "https://localhost:8080/"
        },
        "id": "72YFcQX6QcYg",
        "outputId": "5447e215-2980-4ed0-d0bd-e0f5a03a983c"
      },
      "outputs": [
        {
          "name": "stdout",
          "output_type": "stream",
          "text": [
            "Distance between 'light' embeddings for Glove = 12.834538459777832\n"
          ]
        }
      ],
      "source": [
        "bert_dst = distance.euclidean(\n",
        "    np.array(sentence_1[1].embedding),\n",
        "    np.array(sentence_2[3].embedding)\n",
        "    )\n",
        "\n",
        "print(\"Distance between 'light' embeddings for Glove = {}\".format(bert_dst))"
      ]
    },
    {
      "cell_type": "markdown",
      "metadata": {
        "id": "EOBPcEZpL0Nx"
      },
      "source": [
        "Как видим, в отличие от классических моделей, BERT учитывает контекст."
      ]
    }
  ],
  "metadata": {
    "colab": {
      "provenance": []
    },
    "kernelspec": {
      "display_name": "Python 3",
      "name": "python3"
    },
    "language_info": {
      "codemirror_mode": {
        "name": "ipython",
        "version": 3
      },
      "file_extension": ".py",
      "mimetype": "text/x-python",
      "name": "python",
      "nbconvert_exporter": "python",
      "pygments_lexer": "ipython3",
      "version": "3.11.1"
    },
    "widgets": {
      "application/vnd.jupyter.widget-state+json": {
        "033b98c471ac4713b93cc063abf359ff": {
          "model_module": "@jupyter-widgets/controls",
          "model_module_version": "1.5.0",
          "model_name": "ProgressStyleModel",
          "state": {
            "_model_module": "@jupyter-widgets/controls",
            "_model_module_version": "1.5.0",
            "_model_name": "ProgressStyleModel",
            "_view_count": null,
            "_view_module": "@jupyter-widgets/base",
            "_view_module_version": "1.2.0",
            "_view_name": "StyleView",
            "bar_color": null,
            "description_width": ""
          }
        },
        "0789b2545804459fa62d628cc6a66576": {
          "model_module": "@jupyter-widgets/controls",
          "model_module_version": "1.5.0",
          "model_name": "FloatProgressModel",
          "state": {
            "_dom_classes": [],
            "_model_module": "@jupyter-widgets/controls",
            "_model_module_version": "1.5.0",
            "_model_name": "FloatProgressModel",
            "_view_count": null,
            "_view_module": "@jupyter-widgets/controls",
            "_view_module_version": "1.5.0",
            "_view_name": "ProgressView",
            "bar_style": "success",
            "description": "",
            "description_tooltip": null,
            "layout": "IPY_MODEL_8f858e9ddf254546a94bf4cdb29ef05c",
            "max": 49,
            "min": 0,
            "orientation": "horizontal",
            "style": "IPY_MODEL_4b7a96dbd1bc48568c82bb12da383a1c",
            "value": 49
          }
        },
        "09a71d48b6474172abf3ee954ca26628": {
          "model_module": "@jupyter-widgets/controls",
          "model_module_version": "1.5.0",
          "model_name": "HTMLModel",
          "state": {
            "_dom_classes": [],
            "_model_module": "@jupyter-widgets/controls",
            "_model_module_version": "1.5.0",
            "_model_name": "HTMLModel",
            "_view_count": null,
            "_view_module": "@jupyter-widgets/controls",
            "_view_module_version": "1.5.0",
            "_view_name": "HTMLView",
            "description": "",
            "description_tooltip": null,
            "layout": "IPY_MODEL_9ba44997cb6744fdab2a05a947149f0a",
            "placeholder": "​",
            "style": "IPY_MODEL_ea66c1e039a14c218cc39b161f5413ac",
            "value": " 49.0/49.0 [00:00&lt;00:00, 1.19kB/s]"
          }
        },
        "0bdfc45016154b3494e80dce0e76b817": {
          "model_module": "@jupyter-widgets/base",
          "model_module_version": "1.2.0",
          "model_name": "LayoutModel",
          "state": {
            "_model_module": "@jupyter-widgets/base",
            "_model_module_version": "1.2.0",
            "_model_name": "LayoutModel",
            "_view_count": null,
            "_view_module": "@jupyter-widgets/base",
            "_view_module_version": "1.2.0",
            "_view_name": "LayoutView",
            "align_content": null,
            "align_items": null,
            "align_self": null,
            "border": null,
            "bottom": null,
            "display": null,
            "flex": null,
            "flex_flow": null,
            "grid_area": null,
            "grid_auto_columns": null,
            "grid_auto_flow": null,
            "grid_auto_rows": null,
            "grid_column": null,
            "grid_gap": null,
            "grid_row": null,
            "grid_template_areas": null,
            "grid_template_columns": null,
            "grid_template_rows": null,
            "height": null,
            "justify_content": null,
            "justify_items": null,
            "left": null,
            "margin": null,
            "max_height": null,
            "max_width": null,
            "min_height": null,
            "min_width": null,
            "object_fit": null,
            "object_position": null,
            "order": null,
            "overflow": null,
            "overflow_x": null,
            "overflow_y": null,
            "padding": null,
            "right": null,
            "top": null,
            "visibility": null,
            "width": null
          }
        },
        "0ef1f2f54c02475fac3f98a891a7b48c": {
          "model_module": "@jupyter-widgets/base",
          "model_module_version": "1.2.0",
          "model_name": "LayoutModel",
          "state": {
            "_model_module": "@jupyter-widgets/base",
            "_model_module_version": "1.2.0",
            "_model_name": "LayoutModel",
            "_view_count": null,
            "_view_module": "@jupyter-widgets/base",
            "_view_module_version": "1.2.0",
            "_view_name": "LayoutView",
            "align_content": null,
            "align_items": null,
            "align_self": null,
            "border": null,
            "bottom": null,
            "display": null,
            "flex": null,
            "flex_flow": null,
            "grid_area": null,
            "grid_auto_columns": null,
            "grid_auto_flow": null,
            "grid_auto_rows": null,
            "grid_column": null,
            "grid_gap": null,
            "grid_row": null,
            "grid_template_areas": null,
            "grid_template_columns": null,
            "grid_template_rows": null,
            "height": null,
            "justify_content": null,
            "justify_items": null,
            "left": null,
            "margin": null,
            "max_height": null,
            "max_width": null,
            "min_height": null,
            "min_width": null,
            "object_fit": null,
            "object_position": null,
            "order": null,
            "overflow": null,
            "overflow_x": null,
            "overflow_y": null,
            "padding": null,
            "right": null,
            "top": null,
            "visibility": null,
            "width": null
          }
        },
        "0fcb235face746eea52d4a3c37ec6928": {
          "model_module": "@jupyter-widgets/base",
          "model_module_version": "1.2.0",
          "model_name": "LayoutModel",
          "state": {
            "_model_module": "@jupyter-widgets/base",
            "_model_module_version": "1.2.0",
            "_model_name": "LayoutModel",
            "_view_count": null,
            "_view_module": "@jupyter-widgets/base",
            "_view_module_version": "1.2.0",
            "_view_name": "LayoutView",
            "align_content": null,
            "align_items": null,
            "align_self": null,
            "border": null,
            "bottom": null,
            "display": null,
            "flex": null,
            "flex_flow": null,
            "grid_area": null,
            "grid_auto_columns": null,
            "grid_auto_flow": null,
            "grid_auto_rows": null,
            "grid_column": null,
            "grid_gap": null,
            "grid_row": null,
            "grid_template_areas": null,
            "grid_template_columns": null,
            "grid_template_rows": null,
            "height": null,
            "justify_content": null,
            "justify_items": null,
            "left": null,
            "margin": null,
            "max_height": null,
            "max_width": null,
            "min_height": null,
            "min_width": null,
            "object_fit": null,
            "object_position": null,
            "order": null,
            "overflow": null,
            "overflow_x": null,
            "overflow_y": null,
            "padding": null,
            "right": null,
            "top": null,
            "visibility": null,
            "width": null
          }
        },
        "1e3f1a729d0344699007a0fc2c1e7089": {
          "model_module": "@jupyter-widgets/base",
          "model_module_version": "1.2.0",
          "model_name": "LayoutModel",
          "state": {
            "_model_module": "@jupyter-widgets/base",
            "_model_module_version": "1.2.0",
            "_model_name": "LayoutModel",
            "_view_count": null,
            "_view_module": "@jupyter-widgets/base",
            "_view_module_version": "1.2.0",
            "_view_name": "LayoutView",
            "align_content": null,
            "align_items": null,
            "align_self": null,
            "border": null,
            "bottom": null,
            "display": null,
            "flex": null,
            "flex_flow": null,
            "grid_area": null,
            "grid_auto_columns": null,
            "grid_auto_flow": null,
            "grid_auto_rows": null,
            "grid_column": null,
            "grid_gap": null,
            "grid_row": null,
            "grid_template_areas": null,
            "grid_template_columns": null,
            "grid_template_rows": null,
            "height": null,
            "justify_content": null,
            "justify_items": null,
            "left": null,
            "margin": null,
            "max_height": null,
            "max_width": null,
            "min_height": null,
            "min_width": null,
            "object_fit": null,
            "object_position": null,
            "order": null,
            "overflow": null,
            "overflow_x": null,
            "overflow_y": null,
            "padding": null,
            "right": null,
            "top": null,
            "visibility": null,
            "width": null
          }
        },
        "234ab216cb9f42c389adbf041212ab1d": {
          "model_module": "@jupyter-widgets/controls",
          "model_module_version": "1.5.0",
          "model_name": "DescriptionStyleModel",
          "state": {
            "_model_module": "@jupyter-widgets/controls",
            "_model_module_version": "1.5.0",
            "_model_name": "DescriptionStyleModel",
            "_view_count": null,
            "_view_module": "@jupyter-widgets/base",
            "_view_module_version": "1.2.0",
            "_view_name": "StyleView",
            "description_width": ""
          }
        },
        "249153afc809411da3be54bea84ce636": {
          "model_module": "@jupyter-widgets/base",
          "model_module_version": "1.2.0",
          "model_name": "LayoutModel",
          "state": {
            "_model_module": "@jupyter-widgets/base",
            "_model_module_version": "1.2.0",
            "_model_name": "LayoutModel",
            "_view_count": null,
            "_view_module": "@jupyter-widgets/base",
            "_view_module_version": "1.2.0",
            "_view_name": "LayoutView",
            "align_content": null,
            "align_items": null,
            "align_self": null,
            "border": null,
            "bottom": null,
            "display": null,
            "flex": null,
            "flex_flow": null,
            "grid_area": null,
            "grid_auto_columns": null,
            "grid_auto_flow": null,
            "grid_auto_rows": null,
            "grid_column": null,
            "grid_gap": null,
            "grid_row": null,
            "grid_template_areas": null,
            "grid_template_columns": null,
            "grid_template_rows": null,
            "height": null,
            "justify_content": null,
            "justify_items": null,
            "left": null,
            "margin": null,
            "max_height": null,
            "max_width": null,
            "min_height": null,
            "min_width": null,
            "object_fit": null,
            "object_position": null,
            "order": null,
            "overflow": null,
            "overflow_x": null,
            "overflow_y": null,
            "padding": null,
            "right": null,
            "top": null,
            "visibility": null,
            "width": null
          }
        },
        "2c384288f0a64de6a1f4a2fa766667ce": {
          "model_module": "@jupyter-widgets/base",
          "model_module_version": "1.2.0",
          "model_name": "LayoutModel",
          "state": {
            "_model_module": "@jupyter-widgets/base",
            "_model_module_version": "1.2.0",
            "_model_name": "LayoutModel",
            "_view_count": null,
            "_view_module": "@jupyter-widgets/base",
            "_view_module_version": "1.2.0",
            "_view_name": "LayoutView",
            "align_content": null,
            "align_items": null,
            "align_self": null,
            "border": null,
            "bottom": null,
            "display": null,
            "flex": null,
            "flex_flow": null,
            "grid_area": null,
            "grid_auto_columns": null,
            "grid_auto_flow": null,
            "grid_auto_rows": null,
            "grid_column": null,
            "grid_gap": null,
            "grid_row": null,
            "grid_template_areas": null,
            "grid_template_columns": null,
            "grid_template_rows": null,
            "height": null,
            "justify_content": null,
            "justify_items": null,
            "left": null,
            "margin": null,
            "max_height": null,
            "max_width": null,
            "min_height": null,
            "min_width": null,
            "object_fit": null,
            "object_position": null,
            "order": null,
            "overflow": null,
            "overflow_x": null,
            "overflow_y": null,
            "padding": null,
            "right": null,
            "top": null,
            "visibility": null,
            "width": null
          }
        },
        "2d12a09ce8c24bbaa3379b3bbeedf13e": {
          "model_module": "@jupyter-widgets/controls",
          "model_module_version": "1.5.0",
          "model_name": "DescriptionStyleModel",
          "state": {
            "_model_module": "@jupyter-widgets/controls",
            "_model_module_version": "1.5.0",
            "_model_name": "DescriptionStyleModel",
            "_view_count": null,
            "_view_module": "@jupyter-widgets/base",
            "_view_module_version": "1.2.0",
            "_view_name": "StyleView",
            "description_width": ""
          }
        },
        "2dbaac86cff04ad98517ac57f61c6ab4": {
          "model_module": "@jupyter-widgets/controls",
          "model_module_version": "1.5.0",
          "model_name": "HBoxModel",
          "state": {
            "_dom_classes": [],
            "_model_module": "@jupyter-widgets/controls",
            "_model_module_version": "1.5.0",
            "_model_name": "HBoxModel",
            "_view_count": null,
            "_view_module": "@jupyter-widgets/controls",
            "_view_module_version": "1.5.0",
            "_view_name": "HBoxView",
            "box_style": "",
            "children": [
              "IPY_MODEL_bb51398867094101b7d5a45c8dfd7636",
              "IPY_MODEL_a8a675d7146e4ce5bd455670dd0f61b3",
              "IPY_MODEL_e730d0f7555946f9b23e11ac5f36415f"
            ],
            "layout": "IPY_MODEL_956ae451b35244cea7a6f50dbc9af7b7"
          }
        },
        "36737a7970454624bcef3f81ce5ebde3": {
          "model_module": "@jupyter-widgets/controls",
          "model_module_version": "1.5.0",
          "model_name": "ProgressStyleModel",
          "state": {
            "_model_module": "@jupyter-widgets/controls",
            "_model_module_version": "1.5.0",
            "_model_name": "ProgressStyleModel",
            "_view_count": null,
            "_view_module": "@jupyter-widgets/base",
            "_view_module_version": "1.2.0",
            "_view_name": "StyleView",
            "bar_color": null,
            "description_width": ""
          }
        },
        "40d51d00985b43d484b4e7394d18902f": {
          "model_module": "@jupyter-widgets/controls",
          "model_module_version": "1.5.0",
          "model_name": "DescriptionStyleModel",
          "state": {
            "_model_module": "@jupyter-widgets/controls",
            "_model_module_version": "1.5.0",
            "_model_name": "DescriptionStyleModel",
            "_view_count": null,
            "_view_module": "@jupyter-widgets/base",
            "_view_module_version": "1.2.0",
            "_view_name": "StyleView",
            "description_width": ""
          }
        },
        "417fbaf3e66c4f779fc150768d7596b9": {
          "model_module": "@jupyter-widgets/controls",
          "model_module_version": "1.5.0",
          "model_name": "FloatProgressModel",
          "state": {
            "_dom_classes": [],
            "_model_module": "@jupyter-widgets/controls",
            "_model_module_version": "1.5.0",
            "_model_name": "FloatProgressModel",
            "_view_count": null,
            "_view_module": "@jupyter-widgets/controls",
            "_view_module_version": "1.5.0",
            "_view_name": "ProgressView",
            "bar_style": "success",
            "description": "",
            "description_tooltip": null,
            "layout": "IPY_MODEL_587670e65a0741be84c0434dbdba5039",
            "max": 995526,
            "min": 0,
            "orientation": "horizontal",
            "style": "IPY_MODEL_b0a350a8cdfe44d4b1cb3880c0a1c95f",
            "value": 995526
          }
        },
        "479a9b2d0a5a4cfda14c071636492384": {
          "model_module": "@jupyter-widgets/controls",
          "model_module_version": "1.5.0",
          "model_name": "HBoxModel",
          "state": {
            "_dom_classes": [],
            "_model_module": "@jupyter-widgets/controls",
            "_model_module_version": "1.5.0",
            "_model_name": "HBoxModel",
            "_view_count": null,
            "_view_module": "@jupyter-widgets/controls",
            "_view_module_version": "1.5.0",
            "_view_name": "HBoxView",
            "box_style": "",
            "children": [
              "IPY_MODEL_4b1940dafa814d6e8109df792c677ed7",
              "IPY_MODEL_8bc522ee40ce48cea89f2589c5e2dce6",
              "IPY_MODEL_d1256d9ea19b43cfa8ba2768c2e46b14"
            ],
            "layout": "IPY_MODEL_d8973baad2644682b65aeeb8a2b815fa"
          }
        },
        "4b1940dafa814d6e8109df792c677ed7": {
          "model_module": "@jupyter-widgets/controls",
          "model_module_version": "1.5.0",
          "model_name": "HTMLModel",
          "state": {
            "_dom_classes": [],
            "_model_module": "@jupyter-widgets/controls",
            "_model_module_version": "1.5.0",
            "_model_name": "HTMLModel",
            "_view_count": null,
            "_view_module": "@jupyter-widgets/controls",
            "_view_module_version": "1.5.0",
            "_view_name": "HTMLView",
            "description": "",
            "description_tooltip": null,
            "layout": "IPY_MODEL_8c256996b9ea49648d4e42671b8cf61c",
            "placeholder": "​",
            "style": "IPY_MODEL_fe3e264ab85f4f9bb4e974933a738d71",
            "value": "tokenizer.json: 100%"
          }
        },
        "4b7a96dbd1bc48568c82bb12da383a1c": {
          "model_module": "@jupyter-widgets/controls",
          "model_module_version": "1.5.0",
          "model_name": "ProgressStyleModel",
          "state": {
            "_model_module": "@jupyter-widgets/controls",
            "_model_module_version": "1.5.0",
            "_model_name": "ProgressStyleModel",
            "_view_count": null,
            "_view_module": "@jupyter-widgets/base",
            "_view_module_version": "1.2.0",
            "_view_name": "StyleView",
            "bar_color": null,
            "description_width": ""
          }
        },
        "53dd8d77ffd74d5ab7394dcd090dfadd": {
          "model_module": "@jupyter-widgets/base",
          "model_module_version": "1.2.0",
          "model_name": "LayoutModel",
          "state": {
            "_model_module": "@jupyter-widgets/base",
            "_model_module_version": "1.2.0",
            "_model_name": "LayoutModel",
            "_view_count": null,
            "_view_module": "@jupyter-widgets/base",
            "_view_module_version": "1.2.0",
            "_view_name": "LayoutView",
            "align_content": null,
            "align_items": null,
            "align_self": null,
            "border": null,
            "bottom": null,
            "display": null,
            "flex": null,
            "flex_flow": null,
            "grid_area": null,
            "grid_auto_columns": null,
            "grid_auto_flow": null,
            "grid_auto_rows": null,
            "grid_column": null,
            "grid_gap": null,
            "grid_row": null,
            "grid_template_areas": null,
            "grid_template_columns": null,
            "grid_template_rows": null,
            "height": null,
            "justify_content": null,
            "justify_items": null,
            "left": null,
            "margin": null,
            "max_height": null,
            "max_width": null,
            "min_height": null,
            "min_width": null,
            "object_fit": null,
            "object_position": null,
            "order": null,
            "overflow": null,
            "overflow_x": null,
            "overflow_y": null,
            "padding": null,
            "right": null,
            "top": null,
            "visibility": null,
            "width": null
          }
        },
        "587670e65a0741be84c0434dbdba5039": {
          "model_module": "@jupyter-widgets/base",
          "model_module_version": "1.2.0",
          "model_name": "LayoutModel",
          "state": {
            "_model_module": "@jupyter-widgets/base",
            "_model_module_version": "1.2.0",
            "_model_name": "LayoutModel",
            "_view_count": null,
            "_view_module": "@jupyter-widgets/base",
            "_view_module_version": "1.2.0",
            "_view_name": "LayoutView",
            "align_content": null,
            "align_items": null,
            "align_self": null,
            "border": null,
            "bottom": null,
            "display": null,
            "flex": null,
            "flex_flow": null,
            "grid_area": null,
            "grid_auto_columns": null,
            "grid_auto_flow": null,
            "grid_auto_rows": null,
            "grid_column": null,
            "grid_gap": null,
            "grid_row": null,
            "grid_template_areas": null,
            "grid_template_columns": null,
            "grid_template_rows": null,
            "height": null,
            "justify_content": null,
            "justify_items": null,
            "left": null,
            "margin": null,
            "max_height": null,
            "max_width": null,
            "min_height": null,
            "min_width": null,
            "object_fit": null,
            "object_position": null,
            "order": null,
            "overflow": null,
            "overflow_x": null,
            "overflow_y": null,
            "padding": null,
            "right": null,
            "top": null,
            "visibility": null,
            "width": null
          }
        },
        "5e2b8004ac804acda0670510f8fb991f": {
          "model_module": "@jupyter-widgets/controls",
          "model_module_version": "1.5.0",
          "model_name": "HTMLModel",
          "state": {
            "_dom_classes": [],
            "_model_module": "@jupyter-widgets/controls",
            "_model_module_version": "1.5.0",
            "_model_name": "HTMLModel",
            "_view_count": null,
            "_view_module": "@jupyter-widgets/controls",
            "_view_module_version": "1.5.0",
            "_view_name": "HTMLView",
            "description": "",
            "description_tooltip": null,
            "layout": "IPY_MODEL_bb994156c127426c848a1f3bb75ed4ba",
            "placeholder": "​",
            "style": "IPY_MODEL_7c91b5bd077245f6a3c35ad8348e580b",
            "value": "tokenizer_config.json: 100%"
          }
        },
        "666c70328178408d853a65669ca2d35f": {
          "model_module": "@jupyter-widgets/controls",
          "model_module_version": "1.5.0",
          "model_name": "FloatProgressModel",
          "state": {
            "_dom_classes": [],
            "_model_module": "@jupyter-widgets/controls",
            "_model_module_version": "1.5.0",
            "_model_name": "FloatProgressModel",
            "_view_count": null,
            "_view_module": "@jupyter-widgets/controls",
            "_view_module_version": "1.5.0",
            "_view_name": "ProgressView",
            "bar_style": "success",
            "description": "",
            "description_tooltip": null,
            "layout": "IPY_MODEL_7e40f36291ad403c85e6a849136338c3",
            "max": 625,
            "min": 0,
            "orientation": "horizontal",
            "style": "IPY_MODEL_36737a7970454624bcef3f81ce5ebde3",
            "value": 625
          }
        },
        "788ea36973dc40769babac3b936dd2c8": {
          "model_module": "@jupyter-widgets/controls",
          "model_module_version": "1.5.0",
          "model_name": "DescriptionStyleModel",
          "state": {
            "_model_module": "@jupyter-widgets/controls",
            "_model_module_version": "1.5.0",
            "_model_name": "DescriptionStyleModel",
            "_view_count": null,
            "_view_module": "@jupyter-widgets/base",
            "_view_module_version": "1.2.0",
            "_view_name": "StyleView",
            "description_width": ""
          }
        },
        "7c91b5bd077245f6a3c35ad8348e580b": {
          "model_module": "@jupyter-widgets/controls",
          "model_module_version": "1.5.0",
          "model_name": "DescriptionStyleModel",
          "state": {
            "_model_module": "@jupyter-widgets/controls",
            "_model_module_version": "1.5.0",
            "_model_name": "DescriptionStyleModel",
            "_view_count": null,
            "_view_module": "@jupyter-widgets/base",
            "_view_module_version": "1.2.0",
            "_view_name": "StyleView",
            "description_width": ""
          }
        },
        "7e40f36291ad403c85e6a849136338c3": {
          "model_module": "@jupyter-widgets/base",
          "model_module_version": "1.2.0",
          "model_name": "LayoutModel",
          "state": {
            "_model_module": "@jupyter-widgets/base",
            "_model_module_version": "1.2.0",
            "_model_name": "LayoutModel",
            "_view_count": null,
            "_view_module": "@jupyter-widgets/base",
            "_view_module_version": "1.2.0",
            "_view_name": "LayoutView",
            "align_content": null,
            "align_items": null,
            "align_self": null,
            "border": null,
            "bottom": null,
            "display": null,
            "flex": null,
            "flex_flow": null,
            "grid_area": null,
            "grid_auto_columns": null,
            "grid_auto_flow": null,
            "grid_auto_rows": null,
            "grid_column": null,
            "grid_gap": null,
            "grid_row": null,
            "grid_template_areas": null,
            "grid_template_columns": null,
            "grid_template_rows": null,
            "height": null,
            "justify_content": null,
            "justify_items": null,
            "left": null,
            "margin": null,
            "max_height": null,
            "max_width": null,
            "min_height": null,
            "min_width": null,
            "object_fit": null,
            "object_position": null,
            "order": null,
            "overflow": null,
            "overflow_x": null,
            "overflow_y": null,
            "padding": null,
            "right": null,
            "top": null,
            "visibility": null,
            "width": null
          }
        },
        "8120753bf55943139328ccb57e88d348": {
          "model_module": "@jupyter-widgets/controls",
          "model_module_version": "1.5.0",
          "model_name": "HTMLModel",
          "state": {
            "_dom_classes": [],
            "_model_module": "@jupyter-widgets/controls",
            "_model_module_version": "1.5.0",
            "_model_name": "HTMLModel",
            "_view_count": null,
            "_view_module": "@jupyter-widgets/controls",
            "_view_module_version": "1.5.0",
            "_view_name": "HTMLView",
            "description": "",
            "description_tooltip": null,
            "layout": "IPY_MODEL_2c384288f0a64de6a1f4a2fa766667ce",
            "placeholder": "​",
            "style": "IPY_MODEL_2d12a09ce8c24bbaa3379b3bbeedf13e",
            "value": " 996k/996k [00:00&lt;00:00, 20.8MB/s]"
          }
        },
        "87c5f08d95e24de3b9e6efba718f3b26": {
          "model_module": "@jupyter-widgets/base",
          "model_module_version": "1.2.0",
          "model_name": "LayoutModel",
          "state": {
            "_model_module": "@jupyter-widgets/base",
            "_model_module_version": "1.2.0",
            "_model_name": "LayoutModel",
            "_view_count": null,
            "_view_module": "@jupyter-widgets/base",
            "_view_module_version": "1.2.0",
            "_view_name": "LayoutView",
            "align_content": null,
            "align_items": null,
            "align_self": null,
            "border": null,
            "bottom": null,
            "display": null,
            "flex": null,
            "flex_flow": null,
            "grid_area": null,
            "grid_auto_columns": null,
            "grid_auto_flow": null,
            "grid_auto_rows": null,
            "grid_column": null,
            "grid_gap": null,
            "grid_row": null,
            "grid_template_areas": null,
            "grid_template_columns": null,
            "grid_template_rows": null,
            "height": null,
            "justify_content": null,
            "justify_items": null,
            "left": null,
            "margin": null,
            "max_height": null,
            "max_width": null,
            "min_height": null,
            "min_width": null,
            "object_fit": null,
            "object_position": null,
            "order": null,
            "overflow": null,
            "overflow_x": null,
            "overflow_y": null,
            "padding": null,
            "right": null,
            "top": null,
            "visibility": null,
            "width": null
          }
        },
        "8bc522ee40ce48cea89f2589c5e2dce6": {
          "model_module": "@jupyter-widgets/controls",
          "model_module_version": "1.5.0",
          "model_name": "FloatProgressModel",
          "state": {
            "_dom_classes": [],
            "_model_module": "@jupyter-widgets/controls",
            "_model_module_version": "1.5.0",
            "_model_name": "FloatProgressModel",
            "_view_count": null,
            "_view_module": "@jupyter-widgets/controls",
            "_view_module_version": "1.5.0",
            "_view_name": "ProgressView",
            "bar_style": "success",
            "description": "",
            "description_tooltip": null,
            "layout": "IPY_MODEL_0bdfc45016154b3494e80dce0e76b817",
            "max": 1961828,
            "min": 0,
            "orientation": "horizontal",
            "style": "IPY_MODEL_033b98c471ac4713b93cc063abf359ff",
            "value": 1961828
          }
        },
        "8c256996b9ea49648d4e42671b8cf61c": {
          "model_module": "@jupyter-widgets/base",
          "model_module_version": "1.2.0",
          "model_name": "LayoutModel",
          "state": {
            "_model_module": "@jupyter-widgets/base",
            "_model_module_version": "1.2.0",
            "_model_name": "LayoutModel",
            "_view_count": null,
            "_view_module": "@jupyter-widgets/base",
            "_view_module_version": "1.2.0",
            "_view_name": "LayoutView",
            "align_content": null,
            "align_items": null,
            "align_self": null,
            "border": null,
            "bottom": null,
            "display": null,
            "flex": null,
            "flex_flow": null,
            "grid_area": null,
            "grid_auto_columns": null,
            "grid_auto_flow": null,
            "grid_auto_rows": null,
            "grid_column": null,
            "grid_gap": null,
            "grid_row": null,
            "grid_template_areas": null,
            "grid_template_columns": null,
            "grid_template_rows": null,
            "height": null,
            "justify_content": null,
            "justify_items": null,
            "left": null,
            "margin": null,
            "max_height": null,
            "max_width": null,
            "min_height": null,
            "min_width": null,
            "object_fit": null,
            "object_position": null,
            "order": null,
            "overflow": null,
            "overflow_x": null,
            "overflow_y": null,
            "padding": null,
            "right": null,
            "top": null,
            "visibility": null,
            "width": null
          }
        },
        "8d22ca0be7084eb191d9921a62fc9fac": {
          "model_module": "@jupyter-widgets/controls",
          "model_module_version": "1.5.0",
          "model_name": "DescriptionStyleModel",
          "state": {
            "_model_module": "@jupyter-widgets/controls",
            "_model_module_version": "1.5.0",
            "_model_name": "DescriptionStyleModel",
            "_view_count": null,
            "_view_module": "@jupyter-widgets/base",
            "_view_module_version": "1.2.0",
            "_view_name": "StyleView",
            "description_width": ""
          }
        },
        "8f858e9ddf254546a94bf4cdb29ef05c": {
          "model_module": "@jupyter-widgets/base",
          "model_module_version": "1.2.0",
          "model_name": "LayoutModel",
          "state": {
            "_model_module": "@jupyter-widgets/base",
            "_model_module_version": "1.2.0",
            "_model_name": "LayoutModel",
            "_view_count": null,
            "_view_module": "@jupyter-widgets/base",
            "_view_module_version": "1.2.0",
            "_view_name": "LayoutView",
            "align_content": null,
            "align_items": null,
            "align_self": null,
            "border": null,
            "bottom": null,
            "display": null,
            "flex": null,
            "flex_flow": null,
            "grid_area": null,
            "grid_auto_columns": null,
            "grid_auto_flow": null,
            "grid_auto_rows": null,
            "grid_column": null,
            "grid_gap": null,
            "grid_row": null,
            "grid_template_areas": null,
            "grid_template_columns": null,
            "grid_template_rows": null,
            "height": null,
            "justify_content": null,
            "justify_items": null,
            "left": null,
            "margin": null,
            "max_height": null,
            "max_width": null,
            "min_height": null,
            "min_width": null,
            "object_fit": null,
            "object_position": null,
            "order": null,
            "overflow": null,
            "overflow_x": null,
            "overflow_y": null,
            "padding": null,
            "right": null,
            "top": null,
            "visibility": null,
            "width": null
          }
        },
        "956ae451b35244cea7a6f50dbc9af7b7": {
          "model_module": "@jupyter-widgets/base",
          "model_module_version": "1.2.0",
          "model_name": "LayoutModel",
          "state": {
            "_model_module": "@jupyter-widgets/base",
            "_model_module_version": "1.2.0",
            "_model_name": "LayoutModel",
            "_view_count": null,
            "_view_module": "@jupyter-widgets/base",
            "_view_module_version": "1.2.0",
            "_view_name": "LayoutView",
            "align_content": null,
            "align_items": null,
            "align_self": null,
            "border": null,
            "bottom": null,
            "display": null,
            "flex": null,
            "flex_flow": null,
            "grid_area": null,
            "grid_auto_columns": null,
            "grid_auto_flow": null,
            "grid_auto_rows": null,
            "grid_column": null,
            "grid_gap": null,
            "grid_row": null,
            "grid_template_areas": null,
            "grid_template_columns": null,
            "grid_template_rows": null,
            "height": null,
            "justify_content": null,
            "justify_items": null,
            "left": null,
            "margin": null,
            "max_height": null,
            "max_width": null,
            "min_height": null,
            "min_width": null,
            "object_fit": null,
            "object_position": null,
            "order": null,
            "overflow": null,
            "overflow_x": null,
            "overflow_y": null,
            "padding": null,
            "right": null,
            "top": null,
            "visibility": null,
            "width": null
          }
        },
        "9a76fcb4070447a8910a84546b77b5ad": {
          "model_module": "@jupyter-widgets/base",
          "model_module_version": "1.2.0",
          "model_name": "LayoutModel",
          "state": {
            "_model_module": "@jupyter-widgets/base",
            "_model_module_version": "1.2.0",
            "_model_name": "LayoutModel",
            "_view_count": null,
            "_view_module": "@jupyter-widgets/base",
            "_view_module_version": "1.2.0",
            "_view_name": "LayoutView",
            "align_content": null,
            "align_items": null,
            "align_self": null,
            "border": null,
            "bottom": null,
            "display": null,
            "flex": null,
            "flex_flow": null,
            "grid_area": null,
            "grid_auto_columns": null,
            "grid_auto_flow": null,
            "grid_auto_rows": null,
            "grid_column": null,
            "grid_gap": null,
            "grid_row": null,
            "grid_template_areas": null,
            "grid_template_columns": null,
            "grid_template_rows": null,
            "height": null,
            "justify_content": null,
            "justify_items": null,
            "left": null,
            "margin": null,
            "max_height": null,
            "max_width": null,
            "min_height": null,
            "min_width": null,
            "object_fit": null,
            "object_position": null,
            "order": null,
            "overflow": null,
            "overflow_x": null,
            "overflow_y": null,
            "padding": null,
            "right": null,
            "top": null,
            "visibility": null,
            "width": null
          }
        },
        "9ba44997cb6744fdab2a05a947149f0a": {
          "model_module": "@jupyter-widgets/base",
          "model_module_version": "1.2.0",
          "model_name": "LayoutModel",
          "state": {
            "_model_module": "@jupyter-widgets/base",
            "_model_module_version": "1.2.0",
            "_model_name": "LayoutModel",
            "_view_count": null,
            "_view_module": "@jupyter-widgets/base",
            "_view_module_version": "1.2.0",
            "_view_name": "LayoutView",
            "align_content": null,
            "align_items": null,
            "align_self": null,
            "border": null,
            "bottom": null,
            "display": null,
            "flex": null,
            "flex_flow": null,
            "grid_area": null,
            "grid_auto_columns": null,
            "grid_auto_flow": null,
            "grid_auto_rows": null,
            "grid_column": null,
            "grid_gap": null,
            "grid_row": null,
            "grid_template_areas": null,
            "grid_template_columns": null,
            "grid_template_rows": null,
            "height": null,
            "justify_content": null,
            "justify_items": null,
            "left": null,
            "margin": null,
            "max_height": null,
            "max_width": null,
            "min_height": null,
            "min_width": null,
            "object_fit": null,
            "object_position": null,
            "order": null,
            "overflow": null,
            "overflow_x": null,
            "overflow_y": null,
            "padding": null,
            "right": null,
            "top": null,
            "visibility": null,
            "width": null
          }
        },
        "a8a675d7146e4ce5bd455670dd0f61b3": {
          "model_module": "@jupyter-widgets/controls",
          "model_module_version": "1.5.0",
          "model_name": "FloatProgressModel",
          "state": {
            "_dom_classes": [],
            "_model_module": "@jupyter-widgets/controls",
            "_model_module_version": "1.5.0",
            "_model_name": "FloatProgressModel",
            "_view_count": null,
            "_view_module": "@jupyter-widgets/controls",
            "_view_module_version": "1.5.0",
            "_view_name": "ProgressView",
            "bar_style": "success",
            "description": "",
            "description_tooltip": null,
            "layout": "IPY_MODEL_cd98de9358494405848b5bf765767232",
            "max": 714290682,
            "min": 0,
            "orientation": "horizontal",
            "style": "IPY_MODEL_e82aaa2d4edf456d8f5d02a362e7a550",
            "value": 714290682
          }
        },
        "abb7c0ba4d9f4d86a4dc836f9e464a49": {
          "model_module": "@jupyter-widgets/controls",
          "model_module_version": "1.5.0",
          "model_name": "HTMLModel",
          "state": {
            "_dom_classes": [],
            "_model_module": "@jupyter-widgets/controls",
            "_model_module_version": "1.5.0",
            "_model_name": "HTMLModel",
            "_view_count": null,
            "_view_module": "@jupyter-widgets/controls",
            "_view_module_version": "1.5.0",
            "_view_name": "HTMLView",
            "description": "",
            "description_tooltip": null,
            "layout": "IPY_MODEL_9a76fcb4070447a8910a84546b77b5ad",
            "placeholder": "​",
            "style": "IPY_MODEL_ca96090848ba42fca49db9e390807966",
            "value": " 625/625 [00:00&lt;00:00, 31.0kB/s]"
          }
        },
        "b0a350a8cdfe44d4b1cb3880c0a1c95f": {
          "model_module": "@jupyter-widgets/controls",
          "model_module_version": "1.5.0",
          "model_name": "ProgressStyleModel",
          "state": {
            "_model_module": "@jupyter-widgets/controls",
            "_model_module_version": "1.5.0",
            "_model_name": "ProgressStyleModel",
            "_view_count": null,
            "_view_module": "@jupyter-widgets/base",
            "_view_module_version": "1.2.0",
            "_view_name": "StyleView",
            "bar_color": null,
            "description_width": ""
          }
        },
        "b213c3383c9b4010886241017eccc198": {
          "model_module": "@jupyter-widgets/base",
          "model_module_version": "1.2.0",
          "model_name": "LayoutModel",
          "state": {
            "_model_module": "@jupyter-widgets/base",
            "_model_module_version": "1.2.0",
            "_model_name": "LayoutModel",
            "_view_count": null,
            "_view_module": "@jupyter-widgets/base",
            "_view_module_version": "1.2.0",
            "_view_name": "LayoutView",
            "align_content": null,
            "align_items": null,
            "align_self": null,
            "border": null,
            "bottom": null,
            "display": null,
            "flex": null,
            "flex_flow": null,
            "grid_area": null,
            "grid_auto_columns": null,
            "grid_auto_flow": null,
            "grid_auto_rows": null,
            "grid_column": null,
            "grid_gap": null,
            "grid_row": null,
            "grid_template_areas": null,
            "grid_template_columns": null,
            "grid_template_rows": null,
            "height": null,
            "justify_content": null,
            "justify_items": null,
            "left": null,
            "margin": null,
            "max_height": null,
            "max_width": null,
            "min_height": null,
            "min_width": null,
            "object_fit": null,
            "object_position": null,
            "order": null,
            "overflow": null,
            "overflow_x": null,
            "overflow_y": null,
            "padding": null,
            "right": null,
            "top": null,
            "visibility": null,
            "width": null
          }
        },
        "b2744aa92d684ac8984d064ebc475a6b": {
          "model_module": "@jupyter-widgets/controls",
          "model_module_version": "1.5.0",
          "model_name": "HTMLModel",
          "state": {
            "_dom_classes": [],
            "_model_module": "@jupyter-widgets/controls",
            "_model_module_version": "1.5.0",
            "_model_name": "HTMLModel",
            "_view_count": null,
            "_view_module": "@jupyter-widgets/controls",
            "_view_module_version": "1.5.0",
            "_view_name": "HTMLView",
            "description": "",
            "description_tooltip": null,
            "layout": "IPY_MODEL_0fcb235face746eea52d4a3c37ec6928",
            "placeholder": "​",
            "style": "IPY_MODEL_40d51d00985b43d484b4e7394d18902f",
            "value": "config.json: 100%"
          }
        },
        "bb51398867094101b7d5a45c8dfd7636": {
          "model_module": "@jupyter-widgets/controls",
          "model_module_version": "1.5.0",
          "model_name": "HTMLModel",
          "state": {
            "_dom_classes": [],
            "_model_module": "@jupyter-widgets/controls",
            "_model_module_version": "1.5.0",
            "_model_name": "HTMLModel",
            "_view_count": null,
            "_view_module": "@jupyter-widgets/controls",
            "_view_module_version": "1.5.0",
            "_view_name": "HTMLView",
            "description": "",
            "description_tooltip": null,
            "layout": "IPY_MODEL_b213c3383c9b4010886241017eccc198",
            "placeholder": "​",
            "style": "IPY_MODEL_234ab216cb9f42c389adbf041212ab1d",
            "value": "model.safetensors: 100%"
          }
        },
        "bb994156c127426c848a1f3bb75ed4ba": {
          "model_module": "@jupyter-widgets/base",
          "model_module_version": "1.2.0",
          "model_name": "LayoutModel",
          "state": {
            "_model_module": "@jupyter-widgets/base",
            "_model_module_version": "1.2.0",
            "_model_name": "LayoutModel",
            "_view_count": null,
            "_view_module": "@jupyter-widgets/base",
            "_view_module_version": "1.2.0",
            "_view_name": "LayoutView",
            "align_content": null,
            "align_items": null,
            "align_self": null,
            "border": null,
            "bottom": null,
            "display": null,
            "flex": null,
            "flex_flow": null,
            "grid_area": null,
            "grid_auto_columns": null,
            "grid_auto_flow": null,
            "grid_auto_rows": null,
            "grid_column": null,
            "grid_gap": null,
            "grid_row": null,
            "grid_template_areas": null,
            "grid_template_columns": null,
            "grid_template_rows": null,
            "height": null,
            "justify_content": null,
            "justify_items": null,
            "left": null,
            "margin": null,
            "max_height": null,
            "max_width": null,
            "min_height": null,
            "min_width": null,
            "object_fit": null,
            "object_position": null,
            "order": null,
            "overflow": null,
            "overflow_x": null,
            "overflow_y": null,
            "padding": null,
            "right": null,
            "top": null,
            "visibility": null,
            "width": null
          }
        },
        "c220fe9faae445b48b81e83eaf2403c2": {
          "model_module": "@jupyter-widgets/controls",
          "model_module_version": "1.5.0",
          "model_name": "HBoxModel",
          "state": {
            "_dom_classes": [],
            "_model_module": "@jupyter-widgets/controls",
            "_model_module_version": "1.5.0",
            "_model_name": "HBoxModel",
            "_view_count": null,
            "_view_module": "@jupyter-widgets/controls",
            "_view_module_version": "1.5.0",
            "_view_name": "HBoxView",
            "box_style": "",
            "children": [
              "IPY_MODEL_f6c3078571c347a1a4106004d97ba010",
              "IPY_MODEL_417fbaf3e66c4f779fc150768d7596b9",
              "IPY_MODEL_8120753bf55943139328ccb57e88d348"
            ],
            "layout": "IPY_MODEL_0ef1f2f54c02475fac3f98a891a7b48c"
          }
        },
        "c8b036a6aaa14dd9a77812dda4c6c2d0": {
          "model_module": "@jupyter-widgets/controls",
          "model_module_version": "1.5.0",
          "model_name": "HBoxModel",
          "state": {
            "_dom_classes": [],
            "_model_module": "@jupyter-widgets/controls",
            "_model_module_version": "1.5.0",
            "_model_name": "HBoxModel",
            "_view_count": null,
            "_view_module": "@jupyter-widgets/controls",
            "_view_module_version": "1.5.0",
            "_view_name": "HBoxView",
            "box_style": "",
            "children": [
              "IPY_MODEL_5e2b8004ac804acda0670510f8fb991f",
              "IPY_MODEL_0789b2545804459fa62d628cc6a66576",
              "IPY_MODEL_09a71d48b6474172abf3ee954ca26628"
            ],
            "layout": "IPY_MODEL_e935cadbe8d14f8a83cfd6ddf47a912d"
          }
        },
        "ca96090848ba42fca49db9e390807966": {
          "model_module": "@jupyter-widgets/controls",
          "model_module_version": "1.5.0",
          "model_name": "DescriptionStyleModel",
          "state": {
            "_model_module": "@jupyter-widgets/controls",
            "_model_module_version": "1.5.0",
            "_model_name": "DescriptionStyleModel",
            "_view_count": null,
            "_view_module": "@jupyter-widgets/base",
            "_view_module_version": "1.2.0",
            "_view_name": "StyleView",
            "description_width": ""
          }
        },
        "cd98de9358494405848b5bf765767232": {
          "model_module": "@jupyter-widgets/base",
          "model_module_version": "1.2.0",
          "model_name": "LayoutModel",
          "state": {
            "_model_module": "@jupyter-widgets/base",
            "_model_module_version": "1.2.0",
            "_model_name": "LayoutModel",
            "_view_count": null,
            "_view_module": "@jupyter-widgets/base",
            "_view_module_version": "1.2.0",
            "_view_name": "LayoutView",
            "align_content": null,
            "align_items": null,
            "align_self": null,
            "border": null,
            "bottom": null,
            "display": null,
            "flex": null,
            "flex_flow": null,
            "grid_area": null,
            "grid_auto_columns": null,
            "grid_auto_flow": null,
            "grid_auto_rows": null,
            "grid_column": null,
            "grid_gap": null,
            "grid_row": null,
            "grid_template_areas": null,
            "grid_template_columns": null,
            "grid_template_rows": null,
            "height": null,
            "justify_content": null,
            "justify_items": null,
            "left": null,
            "margin": null,
            "max_height": null,
            "max_width": null,
            "min_height": null,
            "min_width": null,
            "object_fit": null,
            "object_position": null,
            "order": null,
            "overflow": null,
            "overflow_x": null,
            "overflow_y": null,
            "padding": null,
            "right": null,
            "top": null,
            "visibility": null,
            "width": null
          }
        },
        "d1256d9ea19b43cfa8ba2768c2e46b14": {
          "model_module": "@jupyter-widgets/controls",
          "model_module_version": "1.5.0",
          "model_name": "HTMLModel",
          "state": {
            "_dom_classes": [],
            "_model_module": "@jupyter-widgets/controls",
            "_model_module_version": "1.5.0",
            "_model_name": "HTMLModel",
            "_view_count": null,
            "_view_module": "@jupyter-widgets/controls",
            "_view_module_version": "1.5.0",
            "_view_name": "HTMLView",
            "description": "",
            "description_tooltip": null,
            "layout": "IPY_MODEL_53dd8d77ffd74d5ab7394dcd090dfadd",
            "placeholder": "​",
            "style": "IPY_MODEL_8d22ca0be7084eb191d9921a62fc9fac",
            "value": " 1.96M/1.96M [00:00&lt;00:00, 26.6MB/s]"
          }
        },
        "d74332990a7a46f385e3e7c63499a538": {
          "model_module": "@jupyter-widgets/controls",
          "model_module_version": "1.5.0",
          "model_name": "DescriptionStyleModel",
          "state": {
            "_model_module": "@jupyter-widgets/controls",
            "_model_module_version": "1.5.0",
            "_model_name": "DescriptionStyleModel",
            "_view_count": null,
            "_view_module": "@jupyter-widgets/base",
            "_view_module_version": "1.2.0",
            "_view_name": "StyleView",
            "description_width": ""
          }
        },
        "d8973baad2644682b65aeeb8a2b815fa": {
          "model_module": "@jupyter-widgets/base",
          "model_module_version": "1.2.0",
          "model_name": "LayoutModel",
          "state": {
            "_model_module": "@jupyter-widgets/base",
            "_model_module_version": "1.2.0",
            "_model_name": "LayoutModel",
            "_view_count": null,
            "_view_module": "@jupyter-widgets/base",
            "_view_module_version": "1.2.0",
            "_view_name": "LayoutView",
            "align_content": null,
            "align_items": null,
            "align_self": null,
            "border": null,
            "bottom": null,
            "display": null,
            "flex": null,
            "flex_flow": null,
            "grid_area": null,
            "grid_auto_columns": null,
            "grid_auto_flow": null,
            "grid_auto_rows": null,
            "grid_column": null,
            "grid_gap": null,
            "grid_row": null,
            "grid_template_areas": null,
            "grid_template_columns": null,
            "grid_template_rows": null,
            "height": null,
            "justify_content": null,
            "justify_items": null,
            "left": null,
            "margin": null,
            "max_height": null,
            "max_width": null,
            "min_height": null,
            "min_width": null,
            "object_fit": null,
            "object_position": null,
            "order": null,
            "overflow": null,
            "overflow_x": null,
            "overflow_y": null,
            "padding": null,
            "right": null,
            "top": null,
            "visibility": null,
            "width": null
          }
        },
        "df9e1187a4d04c958861f24774830d21": {
          "model_module": "@jupyter-widgets/controls",
          "model_module_version": "1.5.0",
          "model_name": "HBoxModel",
          "state": {
            "_dom_classes": [],
            "_model_module": "@jupyter-widgets/controls",
            "_model_module_version": "1.5.0",
            "_model_name": "HBoxModel",
            "_view_count": null,
            "_view_module": "@jupyter-widgets/controls",
            "_view_module_version": "1.5.0",
            "_view_name": "HBoxView",
            "box_style": "",
            "children": [
              "IPY_MODEL_b2744aa92d684ac8984d064ebc475a6b",
              "IPY_MODEL_666c70328178408d853a65669ca2d35f",
              "IPY_MODEL_abb7c0ba4d9f4d86a4dc836f9e464a49"
            ],
            "layout": "IPY_MODEL_249153afc809411da3be54bea84ce636"
          }
        },
        "e730d0f7555946f9b23e11ac5f36415f": {
          "model_module": "@jupyter-widgets/controls",
          "model_module_version": "1.5.0",
          "model_name": "HTMLModel",
          "state": {
            "_dom_classes": [],
            "_model_module": "@jupyter-widgets/controls",
            "_model_module_version": "1.5.0",
            "_model_name": "HTMLModel",
            "_view_count": null,
            "_view_module": "@jupyter-widgets/controls",
            "_view_module_version": "1.5.0",
            "_view_name": "HTMLView",
            "description": "",
            "description_tooltip": null,
            "layout": "IPY_MODEL_1e3f1a729d0344699007a0fc2c1e7089",
            "placeholder": "​",
            "style": "IPY_MODEL_788ea36973dc40769babac3b936dd2c8",
            "value": " 714M/714M [00:04&lt;00:00, 139MB/s]"
          }
        },
        "e82aaa2d4edf456d8f5d02a362e7a550": {
          "model_module": "@jupyter-widgets/controls",
          "model_module_version": "1.5.0",
          "model_name": "ProgressStyleModel",
          "state": {
            "_model_module": "@jupyter-widgets/controls",
            "_model_module_version": "1.5.0",
            "_model_name": "ProgressStyleModel",
            "_view_count": null,
            "_view_module": "@jupyter-widgets/base",
            "_view_module_version": "1.2.0",
            "_view_name": "StyleView",
            "bar_color": null,
            "description_width": ""
          }
        },
        "e935cadbe8d14f8a83cfd6ddf47a912d": {
          "model_module": "@jupyter-widgets/base",
          "model_module_version": "1.2.0",
          "model_name": "LayoutModel",
          "state": {
            "_model_module": "@jupyter-widgets/base",
            "_model_module_version": "1.2.0",
            "_model_name": "LayoutModel",
            "_view_count": null,
            "_view_module": "@jupyter-widgets/base",
            "_view_module_version": "1.2.0",
            "_view_name": "LayoutView",
            "align_content": null,
            "align_items": null,
            "align_self": null,
            "border": null,
            "bottom": null,
            "display": null,
            "flex": null,
            "flex_flow": null,
            "grid_area": null,
            "grid_auto_columns": null,
            "grid_auto_flow": null,
            "grid_auto_rows": null,
            "grid_column": null,
            "grid_gap": null,
            "grid_row": null,
            "grid_template_areas": null,
            "grid_template_columns": null,
            "grid_template_rows": null,
            "height": null,
            "justify_content": null,
            "justify_items": null,
            "left": null,
            "margin": null,
            "max_height": null,
            "max_width": null,
            "min_height": null,
            "min_width": null,
            "object_fit": null,
            "object_position": null,
            "order": null,
            "overflow": null,
            "overflow_x": null,
            "overflow_y": null,
            "padding": null,
            "right": null,
            "top": null,
            "visibility": null,
            "width": null
          }
        },
        "ea66c1e039a14c218cc39b161f5413ac": {
          "model_module": "@jupyter-widgets/controls",
          "model_module_version": "1.5.0",
          "model_name": "DescriptionStyleModel",
          "state": {
            "_model_module": "@jupyter-widgets/controls",
            "_model_module_version": "1.5.0",
            "_model_name": "DescriptionStyleModel",
            "_view_count": null,
            "_view_module": "@jupyter-widgets/base",
            "_view_module_version": "1.2.0",
            "_view_name": "StyleView",
            "description_width": ""
          }
        },
        "f6c3078571c347a1a4106004d97ba010": {
          "model_module": "@jupyter-widgets/controls",
          "model_module_version": "1.5.0",
          "model_name": "HTMLModel",
          "state": {
            "_dom_classes": [],
            "_model_module": "@jupyter-widgets/controls",
            "_model_module_version": "1.5.0",
            "_model_name": "HTMLModel",
            "_view_count": null,
            "_view_module": "@jupyter-widgets/controls",
            "_view_module_version": "1.5.0",
            "_view_name": "HTMLView",
            "description": "",
            "description_tooltip": null,
            "layout": "IPY_MODEL_87c5f08d95e24de3b9e6efba718f3b26",
            "placeholder": "​",
            "style": "IPY_MODEL_d74332990a7a46f385e3e7c63499a538",
            "value": "vocab.txt: 100%"
          }
        },
        "fe3e264ab85f4f9bb4e974933a738d71": {
          "model_module": "@jupyter-widgets/controls",
          "model_module_version": "1.5.0",
          "model_name": "DescriptionStyleModel",
          "state": {
            "_model_module": "@jupyter-widgets/controls",
            "_model_module_version": "1.5.0",
            "_model_name": "DescriptionStyleModel",
            "_view_count": null,
            "_view_module": "@jupyter-widgets/base",
            "_view_module_version": "1.2.0",
            "_view_name": "StyleView",
            "description_width": ""
          }
        }
      }
    }
  },
  "nbformat": 4,
  "nbformat_minor": 0
}
