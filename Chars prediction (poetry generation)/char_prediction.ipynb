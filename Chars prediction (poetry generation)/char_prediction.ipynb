{
 "cells": [
  {
   "cell_type": "markdown",
   "metadata": {
    "id": "UnNlTSIJFiu9"
   },
   "source": [
    "# Предсказание следующего символа (генерация поэзии)\n",
    "\n",
    "Задача: сгенерировать стихи с помощью простой рекуррентной нейронной сети (Vanilla RNN). В качестве корпуса текстов для обучения будет выступать роман в стихах \"Евгений Онегин\" Александра Сергеевича Пушкина.\n",
    "\n",
    "## Импорт инструментария"
   ]
  },
  {
   "cell_type": "code",
   "execution_count": null,
   "metadata": {
    "id": "mXnNON5qFiu-"
   },
   "outputs": [],
   "source": [
    "import string\n",
    "import os\n",
    "from random import sample\n",
    "\n",
    "import numpy as np\n",
    "import torch, torch.nn as nn\n",
    "import torch.nn.functional as F\n",
    "from sklearn.model_selection import train_test_split\n",
    "from IPython.display import clear_output\n",
    "\n",
    "import matplotlib.pyplot as plt"
   ]
  },
  {
   "cell_type": "code",
   "execution_count": null,
   "metadata": {
    "colab": {
     "base_uri": "https://localhost:8080/"
    },
    "id": "7SPPaziuFiu-",
    "outputId": "b4c7e418-a671-4e52-e0a3-321b9f2fed5d"
   },
   "outputs": [
    {
     "name": "stdout",
     "output_type": "stream",
     "text": [
      "cuda device is available\n"
     ]
    }
   ],
   "source": [
    "device = torch.device('cuda') if torch.cuda.is_available() else torch.device('cpu')\n",
    "print('{} device is available'.format(device))"
   ]
  },
  {
   "cell_type": "markdown",
   "metadata": {
    "id": "MPenWOy01Ooa",
    "outputId": "a92e8e33-e009-4bd4-ac12-3b1b5e1cd3f2"
   },
   "source": [
    "## Загрузка данных"
   ]
  },
  {
   "cell_type": "code",
   "execution_count": null,
   "metadata": {
    "colab": {
     "base_uri": "https://localhost:8080/"
    },
    "id": "x6p1CAi2Fiu_",
    "outputId": "49f99377-1e82-4638-d3f3-63309cd313eb"
   },
   "outputs": [
    {
     "name": "stdout",
     "output_type": "stream",
     "text": [
      "--2024-11-09 20:04:35--  https://raw.githubusercontent.com/neychev/small_DL_repo/master/datasets/onegin.txt\n",
      "Resolving raw.githubusercontent.com (raw.githubusercontent.com)... 185.199.111.133, 185.199.109.133, 185.199.110.133, ...\n",
      "Connecting to raw.githubusercontent.com (raw.githubusercontent.com)|185.199.111.133|:443... connected.\n",
      "HTTP request sent, awaiting response... 200 OK\n",
      "Length: 262521 (256K) [text/plain]\n",
      "Saving to: ‘onegin.txt’\n",
      "\n",
      "onegin.txt          100%[===================>] 256.37K  --.-KB/s    in 0.02s   \n",
      "\n",
      "2024-11-09 20:04:35 (10.3 MB/s) - ‘onegin.txt’ saved [262521/262521]\n",
      "\n"
     ]
    }
   ],
   "source": [
    "!wget https://raw.githubusercontent.com/neychev/small_DL_repo/master/datasets/onegin.txt\n",
    "\n",
    "with open('onegin.txt', 'r') as iofile:\n",
    "    text = iofile.readlines()\n",
    "\n",
    "text = \"\".join([x.replace('\\t\\t', '').lower() for x in text])"
   ]
  },
  {
   "cell_type": "markdown",
   "metadata": {
    "id": "XQYpmGfR_gJ8"
   },
   "source": [
    "## Построение словаря и предобработка текста\n",
    "\n",
    "Требуется построить языковую модель на уровне символов. Приведем весь текст к нижнему регистру и построим словарь из всех символов в доступном корпусе текстов. Также добавим токен `<sos>`."
   ]
  },
  {
   "cell_type": "code",
   "execution_count": null,
   "metadata": {
    "colab": {
     "base_uri": "https://localhost:8080/"
    },
    "id": "R0qhMwVTFiu_",
    "outputId": "be5e18fb-ffd0-4c88-858e-19c445c6673a"
   },
   "outputs": [
    {
     "name": "stdout",
     "output_type": "stream",
     "text": [
      "Seems fine!\n"
     ]
    }
   ],
   "source": [
    "tokens = sorted(set(text.lower())) + ['<sos>']\n",
    "num_tokens = len(tokens)\n",
    "\n",
    "assert num_tokens == 84, \"Check the tokenization process\"\n",
    "\n",
    "token_to_idx = {x: idx for idx, x in enumerate(tokens)}\n",
    "idx_to_token = {idx: x for idx, x in enumerate(tokens)}\n",
    "\n",
    "assert len(tokens) == len(token_to_idx), \"Mapping should be unique\"\n",
    "\n",
    "print(\"Seems fine!\")\n",
    "\n",
    "text_encoded = [token_to_idx[x] for x in text]"
   ]
  },
  {
   "cell_type": "markdown",
   "metadata": {
    "id": "F1Ss-SvlFiu_"
   },
   "source": [
    "__Задача__: обучить классическую рекуррентную нейронную сеть (Vanilla RNN) предсказывать следующий символ на полученном корпусе текстов и сгенерировать последовательность длины 100 для фиксированной начальной фразы.\n",
    "\n",
    "Полезные ссылки:\n",
    "* Замечательная статья за авторством Andrej Karpathy об использовании RNN: [link](http://karpathy.github.io/2015/05/21/rnn-effectiveness/)\n",
    "* Пример char-rnn от Andrej Karpathy: [github repo](https://github.com/karpathy/char-rnn)\n",
    "* Замечательный пример генерации поэзии Шекспира: [github repo](https://github.com/spro/practical-pytorch/blob/master/char-rnn-generation/char-rnn-generation.ipynb)\n",
    "\n",
    "Реализуем функцию, которая генерирует случайный батч размера `batch_size` из строк длиной `seq_length`."
   ]
  },
  {
   "cell_type": "code",
   "execution_count": null,
   "metadata": {
    "id": "fUikLv4zFiu_"
   },
   "outputs": [],
   "source": [
    "batch_size = 128\n",
    "seq_length = 100\n",
    "start_column = np.zeros((batch_size, 1), dtype=int) + token_to_idx['<sos>']\n",
    "\n",
    "def generate_chunk():\n",
    "    global text_encoded, start_column, batch_size, seq_length\n",
    "\n",
    "    start_index = np.random.randint(0, len(text_encoded) - batch_size*seq_length - 1)\n",
    "    data = np.array(text_encoded[start_index:start_index + batch_size*seq_length]).reshape((batch_size, -1))\n",
    "    yield np.hstack((start_column, data))"
   ]
  },
  {
   "cell_type": "markdown",
   "metadata": {
    "id": "7n4Vc9wNFiu_"
   },
   "source": [
    "Пример батча:"
   ]
  },
  {
   "cell_type": "code",
   "execution_count": 6,
   "metadata": {
    "colab": {
     "base_uri": "https://localhost:8080/"
    },
    "id": "8BJx4qJSFivA",
    "outputId": "99414552-b2a7-4aca-a2b3-fead2c1c6c06"
   },
   "outputs": [
    {
     "name": "stdout",
     "output_type": "stream",
     "text": [
      "(512, 101)\n"
     ]
    },
    {
     "data": {
      "text/plain": [
       "array([[83,  0, 49, ..., 45, 12,  0],\n",
       "       [83, 56, 75, ..., 56, 45,  5],\n",
       "       [83,  1, 47, ..., 57, 64,  1],\n",
       "       ...,\n",
       "       [83, 58, 50, ..., 59, 75,  1],\n",
       "       [83, 47, 56, ..., 59, 58, 14],\n",
       "       [83,  1, 64, ..., 58, 73, 50]])"
      ]
     },
     "execution_count": 6,
     "metadata": {},
     "output_type": "execute_result"
    }
   ],
   "source": [
    "print(next(generate_chunk()).shape)\n",
    "next(generate_chunk())"
   ]
  },
  {
   "cell_type": "markdown",
   "metadata": {
    "id": "4qD8wEsNUKrw"
   },
   "source": [
    "## Model"
   ]
  },
  {
   "cell_type": "code",
   "execution_count": 101,
   "metadata": {
    "id": "VAY-hFk4FivA"
   },
   "outputs": [],
   "source": [
    "class RNNModel(nn.Module):\n",
    "    def __init__(\n",
    "        self, vocab_size, embedding_dim,\n",
    "        hidden_size, n_layers, dropout\n",
    "        ):\n",
    "        super(RNNModel, self).__init__()\n",
    "        self.vocab_size = vocab_size\n",
    "        self.hidden_size = hidden_size\n",
    "        self.n_layers = n_layers\n",
    "\n",
    "        self.embed = nn.Embedding(vocab_size, hidden_size)\n",
    "        self.rnn = nn.GRU(\n",
    "            hidden_size, hidden_size,\n",
    "            num_layers=n_layers, batch_first=True,\n",
    "            )\n",
    "        self.linear = nn.Linear(hidden_size, vocab_size)\n",
    "\n",
    "    def forward(self, x, h0):\n",
    "        le = self.embed(x)\n",
    "        out, hn = self.rnn(le, h0)\n",
    "        out = self.linear(out)\n",
    "        return out, hn\n",
    "\n",
    "    def init_h0(self, batch_size):\n",
    "        return torch.zeros(\n",
    "            self.n_layers, batch_size, self.hidden_size\n",
    "            ).to(device)"
   ]
  },
  {
   "cell_type": "code",
   "execution_count": 112,
   "metadata": {
    "id": "_iZeQRAFN_QA"
   },
   "outputs": [],
   "source": [
    "# Модель с Attention\n",
    "class AttentionRNN(nn.Module):\n",
    "    def __init__(\n",
    "        self, vocab_size, embedding_dim,\n",
    "        hidden_dim, num_layers, dropout=0.0\n",
    "        ):\n",
    "        super(AttentionRNN, self).__init__()\n",
    "        self.hidden_dim = hidden_dim\n",
    "        self.num_layers = num_layers\n",
    "        self.embedding = nn.Embedding(vocab_size, embedding_dim)\n",
    "        self.rnn = nn.GRU(\n",
    "            embedding_dim, hidden_dim,\n",
    "            num_layers=num_layers, dropout=dropout, batch_first=True,\n",
    "            )\n",
    "        self.fc = nn.Linear(hidden_dim, vocab_size)\n",
    "\n",
    "    def attention(self, rnn_out):\n",
    "        # Применяем механизм внимания\n",
    "        attn_weights = torch.bmm(rnn_out, rnn_out.transpose(1, 2))  # Вычисляем веса внимания\n",
    "        attn_weights = torch.softmax(attn_weights, dim=-1)  # Применяем softmax\n",
    "\n",
    "        context = torch.bmm(attn_weights, rnn_out)  # Получаем контекстный вектор\n",
    "        return context\n",
    "\n",
    "    def forward(self, x, h0):\n",
    "        embedded = self.embedding(x)  # Встраивание\n",
    "        rnn_out, hn = self.rnn(embedded, h0)  # Пропускаем через RNN\n",
    "        context = self.attention(rnn_out)  # Применяем внимание\n",
    "        out = self.fc(context)  # Полносвязный слой\n",
    "        return out, hn\n",
    "\n",
    "    def init_h0(self, batch_size):\n",
    "        return torch.zeros(\n",
    "            self.num_layers, batch_size, self.hidden_dim\n",
    "            ).to(device)"
   ]
  },
  {
   "cell_type": "markdown",
   "metadata": {},
   "source": [
    "## Training"
   ]
  },
  {
   "cell_type": "code",
   "execution_count": 107,
   "metadata": {
    "id": "7PzkiScGsv9v"
   },
   "outputs": [],
   "source": [
    "batch_size = 128\n",
    "seq_length = 100\n",
    "start_column = np.zeros((batch_size, 1), dtype=int) + token_to_idx['<sos>']\n",
    "\n",
    "def generate_chunk():\n",
    "    global text_encoded, start_column, batch_size, seq_length\n",
    "\n",
    "    start_index = np.random.randint(0, len(text_encoded) - batch_size*seq_length - 1)\n",
    "    data = np.array(text_encoded[start_index:start_index + batch_size*seq_length]).reshape((batch_size, -1))\n",
    "    yield np.hstack((start_column, data))"
   ]
  },
  {
   "cell_type": "code",
   "execution_count": 15,
   "metadata": {
    "id": "G5Xjs_LEhVZ5"
   },
   "outputs": [],
   "source": [
    "def init_weights(m):\n",
    "    if isinstance(m, nn.Linear):\n",
    "        nn.init.xavier_uniform_(m.weight)\n",
    "        m.bias.data.fill_(0.01)"
   ]
  },
  {
   "cell_type": "code",
   "execution_count": 108,
   "metadata": {
    "colab": {
     "base_uri": "https://localhost:8080/"
    },
    "id": "4QQC8-1iUOc4",
    "outputId": "2d0b67f1-fcf7-488f-a955-6700ed2ccde8"
   },
   "outputs": [
    {
     "data": {
      "text/plain": [
       "RNNModel(\n",
       "  (embed): Embedding(84, 512)\n",
       "  (rnn): GRU(512, 512, num_layers=2, batch_first=True)\n",
       "  (linear): Linear(in_features=512, out_features=84, bias=True)\n",
       ")"
      ]
     },
     "execution_count": 108,
     "metadata": {},
     "output_type": "execute_result"
    }
   ],
   "source": [
    "# Параметры\n",
    "vocab_size = len(token_to_idx)  # Размер словаря\n",
    "hidden_dim = 512 # Размер скрытого состояния\n",
    "embedding_dim = 512 # Размер эмбеддингов\n",
    "n_layers = 2\n",
    "dropout = 0.0\n",
    "factor = 0.5\n",
    "patience = 50\n",
    "\n",
    "# Создание модели\n",
    "model = RNNModel(\n",
    "    vocab_size, embedding_dim, hidden_dim, n_layers, dropout=dropout\n",
    "    ).to(device)\n",
    "\n",
    "# model = AttentionRNN(\n",
    "#     vocab_size, embedding_dim, hidden_dim, n_layers, dropout=dropout\n",
    "#     ).to(device)\n",
    "criterion = nn.CrossEntropyLoss()\n",
    "optimizer = torch.optim.Adam(model.parameters(), lr=0.01)\n",
    "lr_scheduler = torch.optim.lr_scheduler.ReduceLROnPlateau(\n",
    "    optimizer, factor=factor, patience=patience\n",
    "    )\n",
    "# Инициализация весов\n",
    "model.apply(init_weights)"
   ]
  },
  {
   "cell_type": "code",
   "execution_count": 109,
   "metadata": {
    "colab": {
     "base_uri": "https://localhost:8080/"
    },
    "id": "SOEUjQs9LpYk",
    "outputId": "40429eaa-7973-4274-d5ed-f3d5a31d6f3f"
   },
   "outputs": [
    {
     "name": "stdout",
     "output_type": "stream",
     "text": [
      "Epoch [1/2000], Loss: 4.4524, LR: 0.01\n",
      "Epoch [100/2000], Loss: 1.9516, LR: 0.01\n",
      "Epoch [200/2000], Loss: 1.4919, LR: 0.01\n",
      "Epoch [300/2000], Loss: 1.1843, LR: 0.01\n",
      "Epoch [400/2000], Loss: 1.1101, LR: 0.01\n",
      "Epoch [500/2000], Loss: 0.7751, LR: 0.01\n",
      "Epoch [600/2000], Loss: 0.4442, LR: 0.005\n",
      "Epoch [700/2000], Loss: 0.3396, LR: 0.005\n",
      "Epoch [800/2000], Loss: 0.3224, LR: 0.005\n",
      "Epoch [900/2000], Loss: 0.2309, LR: 0.0025\n",
      "Epoch [1000/2000], Loss: 0.2184, LR: 0.000625\n",
      "Epoch [1100/2000], Loss: 0.2074, LR: 0.0003125\n",
      "Epoch [1200/2000], Loss: 0.2087, LR: 7.8125e-05\n",
      "Epoch [1300/2000], Loss: 0.3562, LR: 1.953125e-05\n",
      "Epoch [1400/2000], Loss: 0.2154, LR: 4.8828125e-06\n",
      "Epoch [1500/2000], Loss: 0.2057, LR: 1.220703125e-06\n",
      "Epoch [1600/2000], Loss: 0.2127, LR: 6.103515625e-07\n",
      "Epoch [1700/2000], Loss: 0.2031, LR: 3.0517578125e-07\n",
      "Epoch [1800/2000], Loss: 0.2286, LR: 7.62939453125e-08\n",
      "Epoch [1900/2000], Loss: 0.2189, LR: 1.9073486328125e-08\n",
      "Epoch [2000/2000], Loss: 0.2199, LR: 1.9073486328125e-08\n"
     ]
    }
   ],
   "source": [
    "num_epochs = 2000  # Количество эпох\n",
    "rep_freq = 100      # Частота отчётов\n",
    "loss_history = []\n",
    "\n",
    "for epoch in range(1, num_epochs + 1):\n",
    "    model.train()  # Переводим модель в режим обучения\n",
    "    hidden = model.init_h0(batch_size)  # Инициализация скрытого состояния\n",
    "    total_loss = 0\n",
    "\n",
    "    for batch in generate_chunk():\n",
    "        inputs = torch.tensor(batch[:, :-1]).to(device) # Индексы символов\n",
    "        targets = torch.tensor(batch[:, 1:]).to(device) # Цели\n",
    "        optimizer.zero_grad()  # Обнуляем градиенты\n",
    "        outputs, hidden = model(inputs, hidden)  # Прямой проход\n",
    "        # Изменяем форму выходов для потерь\n",
    "        outputs = outputs.view(-1, vocab_size)  # (batch_size * sequence_length, output_size)\n",
    "        targets = targets.view(-1)  # (batch_size * sequence_length,)\n",
    "        loss = criterion(outputs, targets)  # Вычисляем потерю\n",
    "        loss.backward()  # Обратный проход\n",
    "        optimizer.step()  # Обновляем параметры\n",
    "\n",
    "        total_loss += loss.item()\n",
    "\n",
    "    loss_history.append(total_loss)  # Сохраняем общую потерю\n",
    "    lr_scheduler.step(total_loss)  # Передаем общую потерю в lr_scheduler\n",
    "\n",
    "    if epoch % rep_freq == 0 or epoch == 1:\n",
    "        print(f'Epoch [{epoch}/{num_epochs}], Loss: {total_loss:.4f}, LR: {optimizer.param_groups[0][\"lr\"]}')"
   ]
  },
  {
   "cell_type": "code",
   "execution_count": 110,
   "metadata": {
    "colab": {
     "base_uri": "https://localhost:8080/",
     "height": 472
    },
    "id": "YB6LXJKclX06",
    "outputId": "9701ba52-63e7-49f1-dc68-2678d96615ed"
   },
   "outputs": [
    {
     "data": {
      "image/png": "[encoded data removed]",
      "text/plain": [
       "<Figure size 640x480 with 1 Axes>"
      ]
     },
     "metadata": {},
     "output_type": "display_data"
    }
   ],
   "source": [
    "# Построение графика\n",
    "plt.plot(loss_history, label='Loss History')\n",
    "plt.xlabel('Epoch')\n",
    "plt.ylabel('Loss')\n",
    "plt.title('Training Loss')\n",
    "\n",
    "# Находим минимум\n",
    "min_loss = min(loss_history)\n",
    "min_index = loss_history.index(min_loss)\n",
    "\n",
    "# Отображаем минимум на графике\n",
    "plt.scatter(min_index, min_loss, color='red')  # Отметка минимума\n",
    "plt.annotate(f'Min: {min_loss:.4f}', xy=(min_index, min_loss),\n",
    "             xytext=(min_index + 10, min_loss + 0.1),\n",
    "             arrowprops=dict(facecolor='black', arrowstyle='->'))\n",
    "\n",
    "plt.legend()\n",
    "plt.show()"
   ]
  },
  {
   "cell_type": "markdown",
   "metadata": {},
   "source": [
    "## Evaluation"
   ]
  },
  {
   "cell_type": "markdown",
   "metadata": {
    "id": "KUWbfdyxFivA"
   },
   "source": [
    "Шаблон функции `generate_sample` также доступен ниже. Вы можете как дозаполнить его, так и написать свою собственную функцию с нуля. Не забывайте, что все примеры в обучающей выборке начинались с токена `<sos>`."
   ]
  },
  {
   "cell_type": "code",
   "execution_count": 20,
   "metadata": {
    "id": "11ePDwEOPR0T"
   },
   "outputs": [],
   "source": [
    "def generate_sample(char_rnn, seed_phrase=None, max_length=200, temperature=1.0, device=device):\n",
    "    '''\n",
    "    The function generates text given a phrase of length at least SEQ_LENGTH.\n",
    "    :param seed_phrase: prefix characters. The RNN is asked to continue the phrase\n",
    "    :param max_length: maximum output length, including seed_phrase\n",
    "    :param temperature: coefficient for sampling.  higher temperature produces more chaotic outputs,\n",
    "                        smaller temperature converges to the single most likely output\n",
    "    '''\n",
    "\n",
    "    if seed_phrase is not None:\n",
    "        x_sequence = [token_to_idx['<sos>']] + [token_to_idx[token] for token in seed_phrase]\n",
    "    else:\n",
    "        x_sequence = [token_to_idx['<sos>']]\n",
    "\n",
    "    x_sequence = torch.tensor([x_sequence], dtype=torch.int64).to(device)\n",
    "\n",
    "    # Initialize hidden state\n",
    "    hidden = char_rnn.init_h0(batch_size=1)\n",
    "\n",
    "    # Feed the seed phrase into the model\n",
    "    with torch.no_grad():\n",
    "        output, hidden = char_rnn(x_sequence, hidden)\n",
    "\n",
    "    # Start generating characters\n",
    "    generated_sequence = x_sequence[0].tolist()  # Start with the input sequence\n",
    "\n",
    "    for _ in range(max_length - len(generated_sequence)):\n",
    "        # Get the last character's output\n",
    "        last_output = output[:, -1, :]  # Shape: (1, vocab_size)\n",
    "\n",
    "        # Apply temperature\n",
    "        last_output = last_output / temperature\n",
    "\n",
    "        # Sample from the output distribution\n",
    "        probabilities = nn.functional.softmax(last_output, dim=-1).cpu().numpy().flatten()\n",
    "        next_char_idx = np.random.choice(len(probabilities), p=probabilities)\n",
    "\n",
    "        # Append the predicted character to the generated sequence\n",
    "        generated_sequence.append(next_char_idx)\n",
    "\n",
    "        # Prepare the input for the next step\n",
    "        next_input = torch.tensor([[next_char_idx]], dtype=torch.int64).to(device)\n",
    "\n",
    "        # Feed the next input into the model\n",
    "        with torch.no_grad():\n",
    "            output, hidden = char_rnn(next_input, hidden)\n",
    "\n",
    "    # Convert indices back to characters\n",
    "    return ''.join([tokens[ix] for ix in generated_sequence])"
   ]
  },
  {
   "cell_type": "markdown",
   "metadata": {
    "id": "AHyrzyG5FivA"
   },
   "source": [
    "Пример текста сгенерированного обученной моделью ниже. Используемая модель очень проста и потому в тексте много несуществующих слов."
   ]
  },
  {
   "cell_type": "code",
   "execution_count": 111,
   "metadata": {
    "colab": {
     "base_uri": "https://localhost:8080/"
    },
    "id": "rJQrP7q0FivB",
    "outputId": "16d225b0-cef2-4829-b124-8af98354938f"
   },
   "outputs": [
    {
     "name": "stdout",
     "output_type": "stream",
     "text": [
      "<sos> мой дядя самых честных правилахой,\n",
      "перед камином стол настал от упобыла светла,\n",
      "и неотворя на силах я;\n",
      "мне должно после долгой речи\n",
      "и погулять и отдохнуть:\n",
      "докончу после как-нибудь.\n",
      "\n",
      "\n",
      "\n",
      "глава четвертая\n",
      "\n",
      "\n",
      "vii\n",
      "\n",
      "чем меньше женщину мы любим,\n",
      "тем легче нравимся мы ей\n",
      "и тем ее вернее губим\n",
      "средь обольстительных оставленный,\n",
      "в постеле с ним подавал.\n",
      "потри порок он строгие занимал:\n",
      "то вздох нескромный в чай неслась\n",
      "идела в сладкий долго в окна.\n",
      "\n",
      "\n",
      "\n",
      "xxv\n",
      "\n",
      "с смеркалось головои,\n",
      "что наградушная лета.\n",
      "татьяна ей странен.\n",
      "с каким живым очарована\n",
      "с очами бродит, и думает\n",
      "и лица петушков\n",
      "и ольге петушков,\n",
      "к татьяне ленский; харликову,\n",
      "невесту переспелых лет,\n",
      "берет тамбовский мой поэт,\n",
      "умчал буянов пустякову,\n",
      "и в залу высыпали все,\n",
      "и бал блестит во всей красе.\n",
      "\n",
      "\n",
      "\n",
      "l\n",
      "\n",
      "писать и правда ль? я счастлив.\n",
      "но поздной теснит и льются. изговой\n",
      "не зная, как его понять. но вас,\n",
      "но легче летучиет,\n",
      "с волну, в тишине сует,\n",
      "в глуши мудрец гремя встает;\n",
      "все вышли и глас именем ответа.\n",
      "другой настал: всё нет, кал на тени\n"
     ]
    }
   ],
   "source": [
    "print(generate_sample(model, ' мой дядя самых честных правил', max_length=1000, temperature=0.8))"
   ]
  }
 ],
 "metadata": {
  "accelerator": "GPU",
  "anaconda-cloud": {},
  "colab": {
   "gpuType": "T4",
   "provenance": []
  },
  "kernelspec": {
   "display_name": "Python 3",
   "name": "python3"
  },
  "language_info": {
   "codemirror_mode": {
    "name": "ipython",
    "version": 3
   },
   "file_extension": ".py",
   "mimetype": "text/x-python",
   "name": "python",
   "nbconvert_exporter": "python",
   "pygments_lexer": "ipython3",
   "version": "3.11.1"
  }
 },
 "nbformat": 4,
 "nbformat_minor": 0
}
